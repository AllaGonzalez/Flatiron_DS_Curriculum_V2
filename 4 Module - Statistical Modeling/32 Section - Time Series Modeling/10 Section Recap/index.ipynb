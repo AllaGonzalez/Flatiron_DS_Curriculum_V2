{
 "cells": [
  {
   "cell_type": "markdown",
   "metadata": {},
   "source": [
    "# Section Recap\n",
    "\n",
    "## Introduction\n",
    "\n",
    "In this section, you learned about time series modeling! Let's review some of the specific things you have learned.\n",
    "\n",
    "## Objectives\n",
    "You will be able to:\n",
    "* Understand and explain what was covered in this section\n",
    "* Understand and explain why this section will help you become a data scientist\n",
    "\n",
    "## Key Takeaways\n",
    "\n",
    "The key takeaways from this section include:\n",
    "* A White Noise model has a fixed and constant mean and variance, and no correlation over time\n",
    "* A Random Walk model has no specified mean or variance, but has a strong dependence over time\n",
    "* The Pandas `corr()` function can be used to return the correlation between various time series data sets\n",
    "* Autocorrelation allows us to identify how strongly each time series observation is related to previous observations\n",
    "*  The autocorrelation function (ACF) is a function that represents autocorrelation of a time series as a function of the time lag\n",
    "* The Partial Autocorrelation Function (or PACF) gives the partial correlation of a time series with its own lagged values, controlling for the values of the time series at all shorter lags\n",
    "* ARMA (AutoRegressive and Moving Average) modeling is a tool for forecasting time series values by regressing the variable on its own lagged (past) values\n",
    "* ARMA models assume that you've already detrended your data and that there is no seasonality\n",
    "* ARIMA (Integrated ARMA) models allow for detrending as part of the modeling process and work well for data sets with trends but no seasonality\n",
    "* SARIMA (Seasonal ARIMA) models allow for both detrending and seasonality as part of the modeling process\n",
    "* Fracebook Prophet enables data analysts and developers alike to perform forecasting at scale in Python\n",
    "* Prophet uses Additive Synthesis for time series forecasting\n",
    "\n"
   ]
  }
 ],
 "metadata": {
  "kernelspec": {
   "display_name": "Python 3",
   "language": "python",
   "name": "python3"
  },
  "language_info": {
   "codemirror_mode": {
    "name": "ipython",
    "version": 3
   },
   "file_extension": ".py",
   "mimetype": "text/x-python",
   "name": "python",
   "nbconvert_exporter": "python",
   "pygments_lexer": "ipython3",
   "version": "3.6.8"
  }
 },
 "nbformat": 4,
 "nbformat_minor": 2
}
