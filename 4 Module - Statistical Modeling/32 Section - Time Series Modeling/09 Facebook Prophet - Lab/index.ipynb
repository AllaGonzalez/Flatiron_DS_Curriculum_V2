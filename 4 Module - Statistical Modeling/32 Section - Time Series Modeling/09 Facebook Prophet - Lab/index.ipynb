{
 "cells": [
  {
   "cell_type": "markdown",
   "metadata": {},
   "source": [
    "# Facebook Prophet - Lab\n",
    "\n",
    "## Introduction\n",
    "\n",
    "In the last lab, we learnt how to visualize and manipulate time series data, and how to use the ARIMA modeling to produce forecasts from time-series data. We also learnt how the conclude a correct parametrization of ARIMA models. This can be a complicated process, and while statistical programming languages such a R provide automated ways to solve this issue, but those have yet to be officially ported over to Python. \n",
    "\n",
    "Fortunately, the Data Science team at Facebook recently published a new method called prophet, which enables data analysts and developers alike to perform forecasting at scale in Python. We would encourage you to read [this article](https://research.fb.com/prophet-forecasting-at-scale/) by Facebook explaining how prophet simplifies the forecasting process and provides an improved predictive ability. \n",
    "\n",
    "## Objectives\n",
    "\n",
    "* Understand the difference between ARIMA and Additive Synthesis for time series forecasting\n",
    "* Model a time series object using prophet library \n",
    "* Make predictions for future and compare the approach with previously seen techniques\n",
    "\n",
    "## Facebook Prophet\n",
    "\n",
    "Facebook prophet uses an elegant yet simple method for analyzing and predicting periodic data known as the **additive modeling**. The idea is straightforward: represent a time-series as a combination of patterns at different scales such as daily, weekly, seasonally, and yearly, along with an overall trend. Your energy use might rise in the summer and decrease in the winter, but have an overall decreasing trend as you increase the energy efficiency of your home. An additive model can show us both patterns/trends and make predictions based on these observations.\n",
    "\n",
    "The following image shows an additive model decomposition of a time-series into an overall trend, yearly trend, and weekly trend.\n",
    "\n",
    "![](https://research.fb.com/wp-content/uploads/2017/02/prophet_example_for_post2.png?w=648)\n",
    "\n",
    "*“Prophet has been a key piece to improving Facebook’s ability to create a large number of trustworthy forecasts used for decision-making and even in product features.”*\n",
    "\n",
    "In order to compute its forecasts, the fbprophet library relies on the STAN programming language. Before installing fbprophet, we need to make sure that the pystan Python wrapper to STAN is installed. We shall first install `pystan` and `fbprophet` using `!pip install`."
   ]
  },
  {
   "cell_type": "code",
   "execution_count": 18,
   "metadata": {},
   "outputs": [],
   "source": [
    "#!pip install pystan"
   ]
  },
  {
   "cell_type": "code",
   "execution_count": 19,
   "metadata": {},
   "outputs": [],
   "source": [
    "#!pip install fbprophet"
   ]
  },
  {
   "cell_type": "markdown",
   "metadata": {},
   "source": [
    "Let's start by reading in our time-series data. We shall cover some data manipulation using pandas, accessing financial data using the `Quandl` library and, and plotting with matplotlib. "
   ]
  },
  {
   "cell_type": "code",
   "execution_count": 20,
   "metadata": {},
   "outputs": [],
   "source": [
    "#Import necessary libraries\n",
    "import warnings\n",
    "warnings.filterwarnings('ignore')\n",
    "\n",
    "\n",
    "import pandas as pd \n",
    "\n",
    "# Matplotlib for plotting\n",
    "import matplotlib.pyplot as plt\n",
    "import matplotlib\n",
    "import seaborn as sns\n",
    "%matplotlib inline\n",
    "from matplotlib.pylab import rcParams\n",
    "plt.style.use('fivethirtyeight')\n",
    "\n",
    "from fbprophet import Prophet as proph\n"
   ]
  },
  {
   "cell_type": "code",
   "execution_count": 21,
   "metadata": {},
   "outputs": [],
   "source": [
    "# Import passengers.csv and set it as a time-series object. \n"
   ]
  },
  {
   "cell_type": "markdown",
   "metadata": {},
   "source": [
    "The prophet library also imposes the strict condition that the input columns be named `ds` (the time column) and `y` (the metric column), so let's rename the columns in our `ts` dataframe. "
   ]
  },
  {
   "cell_type": "code",
   "execution_count": 22,
   "metadata": {},
   "outputs": [],
   "source": [
    "# Rename the columns [Month, AirPassengers] to [ds, y]\n",
    "\n",
    "\n",
    "#    ds          y\n",
    "# 1949-01-01\t112\n",
    "# 1949-02-01\t118\n",
    "# 1949-03-01\t132\n",
    "# 1949-04-01\t129\n",
    "# 1949-05-01\t121"
   ]
  },
  {
   "cell_type": "code",
   "execution_count": 23,
   "metadata": {},
   "outputs": [],
   "source": [
    "# Plot the timeseries \n"
   ]
  },
  {
   "cell_type": "code",
   "execution_count": null,
   "metadata": {},
   "outputs": [],
   "source": []
  },
  {
   "cell_type": "markdown",
   "metadata": {},
   "source": [
    "## Time Series Forecasting with Prophet\n",
    "\n",
    "In this section, we shall learn how to use the Prophet library to predict future values of our time-series. The Facebook team has abstracted away many of the inherent complexities of time series forecasting and made it more intuitive for analysts and developers alike to work with time series data.\n",
    "\n",
    "To begin, we will create a new prophet object with `proph()` and provide a number of arguments. For example, we can specify the desired range of our uncertainty interval by setting the `interval_width` parameter."
   ]
  },
  {
   "cell_type": "code",
   "execution_count": 24,
   "metadata": {},
   "outputs": [],
   "source": [
    "# set the uncertainty interval to 95% (the Prophet default is 80%)\n"
   ]
  },
  {
   "cell_type": "markdown",
   "metadata": {},
   "source": [
    "Now that our model has been initialized, we can call its `fit` method with our DataFrame `ts` as input. The model fitting should take no longer than a few seconds."
   ]
  },
  {
   "cell_type": "code",
   "execution_count": 25,
   "metadata": {},
   "outputs": [],
   "source": [
    "# Fit the timeseries into Model\n"
   ]
  },
  {
   "cell_type": "markdown",
   "metadata": {},
   "source": [
    "In order to obtain forecasts of our time series, we must provide the model with a new dataframe containing a `ds` column that holds the dates for which we want predictions. Conveniently, we do not have to concern ourselves with manually creating this dataframe because prophet provides the `make_future_dataframe` helper function. We will call this function to generate 36 datestamps in the future. The documentation for this function is available [HERE](https://www.rdocumentation.org/packages/prophet/versions/0.3.0.1/topics/make_future_dataframe).\n",
    "\n",
    "It is also important to consider the frequency of our time series. Because we are working with monthly data, we clearly specified the desired frequency of the timestamps (in this case, MS is the start of the month). Therefore, the `make_future_dataframe` will generate 36 monthly timestamps for us. In other words, we are looking to predict future values of our time series 3 years into the future.\n"
   ]
  },
  {
   "cell_type": "code",
   "execution_count": 26,
   "metadata": {},
   "outputs": [],
   "source": [
    "# USe make_future_dataframe with a monthly frequency and periods = 36 for 3 years\n",
    "\n",
    "\n",
    "# \tds\n",
    "# 175\t1963-08-01\n",
    "# 176\t1963-09-01\n",
    "# 177\t1963-10-01\n",
    "# 178\t1963-11-01\n",
    "# 179\t1963-12-01"
   ]
  },
  {
   "cell_type": "markdown",
   "metadata": {},
   "source": [
    "This future dates dataframe can now be used as input to the `predict` method of the fitted model."
   ]
  },
  {
   "cell_type": "code",
   "execution_count": 27,
   "metadata": {},
   "outputs": [],
   "source": [
    "# Predict the values for future dates and take the head of forecast\n",
    "\n",
    "\n",
    "# ds\ttrend\ttrend_lower\ttrend_upper\tyhat_lower\tyhat_upper\tadditive_terms\tadditive_terms_lower\tadditive_terms_upper\tmultiplicative_terms\tmultiplicative_terms_lower\tmultiplicative_terms_upper\tyearly\tyearly_lower\tyearly_upper\tyhat\n",
    "# 0\t1949-01-01\t106.390966\t106.390966\t106.390966\t40.066461\t128.916059\t-21.935305\t-21.935305\t-21.935305\t0.0\t0.0\t0.0\t-21.935305\t-21.935305\t-21.935305\t84.455661\n",
    "# 1\t1949-02-01\t108.569855\t108.569855\t108.569855\t33.931775\t120.662906\t-30.703975\t-30.703975\t-30.703975\t0.0\t0.0\t0.0\t-30.703975\t-30.703975\t-30.703975\t77.865881\n",
    "# 2\t1949-03-01\t110.537884\t110.537884\t110.537884\t65.902441\t152.751003\t-0.486998\t-0.486998\t-0.486998\t0.0\t0.0\t0.0\t-0.486998\t-0.486998\t-0.486998\t110.050887\n",
    "# 3\t1949-04-01\t112.716774\t112.716774\t112.716774\t65.488925\t149.317057\t-5.184948\t-5.184948\t-5.184948\t0.0\t0.0\t0.0\t-5.184948\t-5.184948\t-5.184948\t107.531826\n",
    "# 4\t1949-05-01\t114.825377\t114.825377\t114.825377\t67.562029\t153.611413\t-3.782347\t-3.782347\t-3.782347\t0.0\t0.0"
   ]
  },
  {
   "cell_type": "markdown",
   "metadata": {},
   "source": [
    "We can see that prophet returns a large table with many interesting columns, but we subset our output to the columns most relevant to forecasting, which are:\n",
    "\n",
    "* `ds`: the datestamp of the forecasted value\n",
    "* `yhat`: the forecasted value of our metric (in Statistics, yhat is a notation traditionally used to represent the predicted values of a value y)\n",
    "* `yhat_lower`: the lower bound of our forecasts\n",
    "* `yhat_upper`: the upper bound of our forecasts"
   ]
  },
  {
   "cell_type": "code",
   "execution_count": 28,
   "metadata": {},
   "outputs": [],
   "source": [
    "# Subset above mentioned columns and view the tail \n",
    "\n",
    "\n",
    "\n",
    "# \tds\tyhat\tyhat_lower\tyhat_upper\n",
    "# 175\t1963-08-01\t649.787427\t604.921338\t695.757506\n",
    "# 176\t1963-09-01\t602.260711\t557.213400\t645.642244\n",
    "# 177\t1963-10-01\t566.233600\t524.324314\t608.815224\n",
    "# 178\t1963-11-01\t534.258296\t488.622666\t578.243727\n",
    "# 179\t1963-12-01\t563.846779\t516.242796\t609.748779"
   ]
  },
  {
   "cell_type": "markdown",
   "metadata": {},
   "source": [
    "A variation in values from the output presented above is to be expected as Prophet relies on Markov chain Monte Carlo (MCMC) methods to generate its forecasts. MCMC is a stochastic process, so values will be slightly different each time.\n",
    "\n",
    "Prophet also provides a convenient function to quickly plot the results of our forecasts."
   ]
  },
  {
   "cell_type": "code",
   "execution_count": 29,
   "metadata": {},
   "outputs": [],
   "source": [
    "# Use prophet's plot function to plot the predictions\n"
   ]
  },
  {
   "cell_type": "code",
   "execution_count": null,
   "metadata": {},
   "outputs": [],
   "source": []
  },
  {
   "cell_type": "markdown",
   "metadata": {},
   "source": [
    "Prophet plots the observed values of the time-series (the black dots), the forecasted values (blue line) and the uncertainty intervals of our forecasts (the blue shaded regions).\n",
    "\n",
    "One other particularly strong feature of Prophet is its ability to return the components of our forecasts. This can help reveal how daily, weekly and yearly patterns of the time series contribute to the overall forecasted values. We can use `plot_components()` function to view the individual components."
   ]
  },
  {
   "cell_type": "code",
   "execution_count": 30,
   "metadata": {},
   "outputs": [],
   "source": [
    "# Plot model components"
   ]
  },
  {
   "cell_type": "code",
   "execution_count": null,
   "metadata": {},
   "outputs": [],
   "source": []
  },
  {
   "cell_type": "markdown",
   "metadata": {},
   "source": [
    "Since we are working with monthly data, Prophet will plot the trend and the yearly seasonality but if you were working with daily data, you would also see a weekly seasonality plot included."
   ]
  },
  {
   "cell_type": "markdown",
   "metadata": {},
   "source": [
    "From the trend and seasonality, we can see that the trend is a playing a large part in the underlying time series and seasonality comes into play mostly toward the beginning and the end of the year. With this information, we've been able to quickly model and forecast some data to get a feel for what might be coming our way in the future from this particular data set."
   ]
  },
  {
   "cell_type": "markdown",
   "metadata": {},
   "source": [
    "## Summary \n",
    "In this lab, you learned how to use the Prophet library to perform time series forecasting in Python. We have been using out-of-the box parameters, but Prophet enables us to specify many more arguments. In particular, Prophet provides the functionality to bring your own knowledge about time series to the table."
   ]
  }
 ],
 "metadata": {
  "kernelspec": {
   "display_name": "Python 3",
   "language": "python",
   "name": "python3"
  },
  "language_info": {
   "codemirror_mode": {
    "name": "ipython",
    "version": 3
   },
   "file_extension": ".py",
   "mimetype": "text/x-python",
   "name": "python",
   "nbconvert_exporter": "python",
   "pygments_lexer": "ipython3",
   "version": "3.6.4"
  }
 },
 "nbformat": 4,
 "nbformat_minor": 2
}
