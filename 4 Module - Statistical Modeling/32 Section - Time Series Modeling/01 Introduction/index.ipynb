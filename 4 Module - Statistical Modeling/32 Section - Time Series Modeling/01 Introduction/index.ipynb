{
 "cells": [
  {
   "cell_type": "markdown",
   "metadata": {},
   "source": [
    "# Introduction\n",
    "\n",
    "## Introduction\n",
    "In this section, you'll learn about time series modeling. This lesson summarizes the topics you'll cover.\n",
    "\n",
    "## Objectives\n",
    "You will be able to:\n",
    "* Understand and explain what is covered in this section\n",
    "* Understand and explain why the section will help you to become a data scientist\n",
    "\n",
    "## Time Series Modeling\n",
    "\n",
    "In the previous section, we introduced the idea of time series data and provided some best practices for importing, managing and visualizing time series data along with a number of techniques for removing trends and/or seasonality from a time series data set. In this section, we're now going to look at various types of models for time series data.\n",
    "\n",
    "### Basic Time Series Models\n",
    "\n",
    "We start off by introducing two basic time series models - the White Noise model and the Random Walk model.\n",
    "\n",
    "### Correlation and Autocorrelation in Time Series\n",
    "\n",
    "Next up, we look at the concept of correlation as it relates to time series data sets, how to plot the AutoCorrelation Function (ACF) for a time series and how to plot the Partial AutoCorrelation Function (PACF) for a time series.\n",
    "\n",
    "### ARMA Models\n",
    "\n",
    "We then move on to introduce two other key time series models that are widely used for predicting future values for time series data - the AutoRegressive and Moving Average models (ARMA).\n",
    "\n",
    "### SARIMA Models\n",
    "\n",
    "We then look at integrated ARMA models (ARIMA models) and how SARIMA models (Seasonal ARIMA models) can be used to forecast time series data.\n",
    "\n",
    "### Facebook Prophet Lab\n",
    "\n",
    "We wrap up the section with a lab introducing the Facebook Prophet tool for forecasting time series data at scale using additive modeling.\n",
    "\n",
    "\n",
    "## Summary\n",
    "\n",
    "This section wraps up our introduction to time series, giving you the modeling tools required to effectively forecast time series data."
   ]
  }
 ],
 "metadata": {
  "kernelspec": {
   "display_name": "Python 3",
   "language": "python",
   "name": "python3"
  },
  "language_info": {
   "codemirror_mode": {
    "name": "ipython",
    "version": 3
   },
   "file_extension": ".py",
   "mimetype": "text/x-python",
   "name": "python",
   "nbconvert_exporter": "python",
   "pygments_lexer": "ipython3",
   "version": "3.6.8"
  }
 },
 "nbformat": 4,
 "nbformat_minor": 2
}
