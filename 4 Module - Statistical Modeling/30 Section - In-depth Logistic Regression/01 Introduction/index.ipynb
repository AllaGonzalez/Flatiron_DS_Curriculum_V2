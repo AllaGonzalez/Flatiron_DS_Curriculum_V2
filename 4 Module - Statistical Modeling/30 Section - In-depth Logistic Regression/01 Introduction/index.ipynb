{
 "cells": [
  {
   "cell_type": "markdown",
   "metadata": {},
   "source": [
    "# Maximum Likelihood Estimation and Logistic Regression - Introduction\n",
    "\n",
    "## Introduction\n",
    "\n",
    "In this section, you'll review maximum likelihood estimation and logistic regression. In fact, you'll see that logistic regression can be seen through a statistical point of view with MLE. This should provide you some additional time to wrangle with statistical concepts and improve your overall coding abilities.\n",
    "\n",
    "## Objectives\n",
    "\n",
    "You will be able to:\n",
    "\n",
    "* Define MLE\n",
    "* Explain logistic regression at a high level\n",
    "\n",
    "## Maximum Likelihood Estimation\n",
    "\n",
    "Maximum likelihood estimation is a statistical procedure for determining underlying parameter distributions. As the name implies, the underlying motivation is to find parameters that maximize the theoretical chances of observing the actual observations.\n",
    "\n",
    "## Logistic Regression\n",
    "\n",
    "Logistic regression, despite its name, is a classification algorithm. An interesting nuance is that it provides confidence values with its predictions since the raw output is a probability of a class between 0 and 1. The general process for this is similar to linear regression, where coefficients for various feature weights are altered in order to optimize the accuracy of subsequent predictions from the model. \n",
    "\n",
    "## Summary\n",
    "\n",
    "In this lesson, you got a brief overview of the section. With that, dive in and continue to review your knowledge!"
   ]
  }
 ],
 "metadata": {
  "kernelspec": {
   "display_name": "Python 3",
   "language": "python",
   "name": "python3"
  },
  "language_info": {
   "codemirror_mode": {
    "name": "ipython",
    "version": 3
   },
   "file_extension": ".py",
   "mimetype": "text/x-python",
   "name": "python",
   "nbconvert_exporter": "python",
   "pygments_lexer": "ipython3",
   "version": "3.6.5"
  }
 },
 "nbformat": 4,
 "nbformat_minor": 2
}
