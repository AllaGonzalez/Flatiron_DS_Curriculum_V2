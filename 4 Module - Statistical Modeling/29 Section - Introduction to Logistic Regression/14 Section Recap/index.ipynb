{
 "cells": [
  {
   "cell_type": "markdown",
   "metadata": {},
   "source": [
    "# Section Recap"
   ]
  },
  {
   "cell_type": "markdown",
   "metadata": {},
   "source": [
    "## Introduction\n",
    "\n",
    "In this section, you learned about logistic regression, how to evaluate classifiers, and how to deal with class imbalance problems."
   ]
  },
  {
   "cell_type": "markdown",
   "metadata": {},
   "source": [
    "## Objectives\n",
    "You will be able to:\n",
    "* Understand and explain what was covered in this section\n",
    "* Understand and explain why this section will help you become a data scientist"
   ]
  },
  {
   "cell_type": "markdown",
   "metadata": {},
   "source": [
    "## Key Takeaways\n",
    "\n",
    "The key takeaways from this section include:\n",
    "* Logistic regression uses a sigmoid function which helps to plot an \"s\" like curve that enables a linear function to act as a binary classifier\n",
    "* Like other classifiers, you can evaluate logistic regression models using some combination of precision, recall and accuracy\n",
    "* A confusion matrix is another common way to visualize the performance of a classification model\n",
    "* Receiver Operating Characteristic (ROC) curves and the Area Under the Curve (AUC) can be used to help determine the best precision-recall tradeoff for a given classifier\n",
    "* Class weights, under/oversampling, and SMOTE can be used to deal with class imbalance problems"
   ]
  }
 ],
 "metadata": {
  "kernelspec": {
   "display_name": "Python 3",
   "language": "python",
   "name": "python3"
  },
  "language_info": {
   "codemirror_mode": {
    "name": "ipython",
    "version": 3
   },
   "file_extension": ".py",
   "mimetype": "text/x-python",
   "name": "python",
   "nbconvert_exporter": "python",
   "pygments_lexer": "ipython3",
   "version": "3.6.5"
  }
 },
 "nbformat": 4,
 "nbformat_minor": 2
}
