{
 "cells": [
  {
   "cell_type": "markdown",
   "metadata": {},
   "source": [
    "# Section Recap"
   ]
  },
  {
   "cell_type": "markdown",
   "metadata": {},
   "source": [
    "## Introduction\n",
    "\n",
    "Congratulations, you've just modeled some complex relationships with interaction terms, polynomials, and regularization! Here is a recap of what you learned in this section."
   ]
  },
  {
   "cell_type": "markdown",
   "metadata": {},
   "source": [
    "## Objectives\n",
    "You will be able to:\n",
    "* Critically think about the different ways data scientists add complexity to basic regression models.\n",
    "* Determine the right balance between complexity and simplicity through the lens of bias and variance"
   ]
  },
  {
   "cell_type": "markdown",
   "metadata": {},
   "source": [
    "## Key Takeaways\n",
    "\n",
    "This section gave you the chance to learn about techniques whereby you can model non-linear relationships with data. It's very rare that real-world problems can be modeled with a simple linear regression, so it's important to get yourself well acquainted with creating new features and selecting the most important ones.\n",
    "\n",
    "* An interaction is a particular property of three or more variables, where two or more variables interact in a non-additive manner when affecting a third variable.\n",
    "* Polynomial regression allows for better fitting data that isn't well predicted using a linear model.\n",
    "* The risk of polynomial regressions is that it's easier to overfit data, so it's important to consider the Bias-Variance trade-off and perform proper cross validation.\n",
    "* Ridge and Lasso regressions are two regularization techniques used for making complex models more expensive in the cost function, reducing the risk of overfitting.\n",
    "* Feature Selection is an important component of model building, and it can have a drastic impact on the overall performance of a model.\n",
    "* AIC and BIC are techniques for selecting models that penalize models the more complex they are."
   ]
  },
  {
   "cell_type": "markdown",
   "metadata": {},
   "source": [
    "## Summary\n",
    "\n",
    "Excellent work! You learned a substantial amount about different ways to model non-linear relationships. You will continue to use and build upon the concepts learned in this section for the rest of your machine learning career."
   ]
  }
 ],
 "metadata": {
  "kernelspec": {
   "display_name": "Python 3",
   "language": "python",
   "name": "python3"
  },
  "language_info": {
   "codemirror_mode": {
    "name": "ipython",
    "version": 3
   },
   "file_extension": ".py",
   "mimetype": "text/x-python",
   "name": "python",
   "nbconvert_exporter": "python",
   "pygments_lexer": "ipython3",
   "version": "3.6.8"
  }
 },
 "nbformat": 4,
 "nbformat_minor": 2
}
