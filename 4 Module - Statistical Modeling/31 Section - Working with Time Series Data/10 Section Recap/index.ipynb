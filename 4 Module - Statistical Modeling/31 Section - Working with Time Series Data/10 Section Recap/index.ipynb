{
 "cells": [
  {
   "cell_type": "markdown",
   "metadata": {},
   "source": [
    "# Section Recap"
   ]
  },
  {
   "cell_type": "markdown",
   "metadata": {},
   "source": [
    "## Introduction\n",
    "\n",
    "In this section, you learned about working with time series data and why it is important to you as a data scientist."
   ]
  },
  {
   "cell_type": "markdown",
   "metadata": {},
   "source": [
    "## Objectives\n",
    "You will be able to:\n",
    "* Understand and explain what was covered in this section\n",
    "* Understand and explain why this section will help you become a data scientist"
   ]
  },
  {
   "cell_type": "markdown",
   "metadata": {},
   "source": [
    "## Key Takeaways\n",
    "\n",
    "The key takeaways from this section include:\n",
    "* When you import time series data into Pandas, make sure to use the time/date information as index values using either a Pandas Timestamp or Python DateTime data type\n",
    "* There are a range of built in functions in Pandas for easily downsampling or upsampling time series data\n",
    "* Line plots and dot plots can be useful for getting a sense of how a time series data set has changed over time\n",
    "* Histograms and density plots can be useful for getting a sense of the time independent distribution of a time series data set\n",
    "* Box and whisker plots per year (or other seasonality period - day, week, month, etc) can be a great way to easily see trends in the distribution of time series data over time\n",
    "* Heat maps can also be useful for comparing changes of time series data across a couple of dimensions. For example, with months on one axis and years on another they can be a great way to see both seasonality and year on year trends\n",
    "* A time series is said to be stationary if its statistical properties such as mean and variance remain constant over time\n",
    "* Most time series models work on the assumption that the time series are stationary (assumption of homoscedasticity)\n",
    "* Many time series data sets *do* have trends, violating the assumption of homoscedasticity\n",
    "* Common examples are trends include linear (straight line over time), exponential and periodic. Some data sets also have increasing (or decreasing) variance over time\n",
    "* Any given data set may exhibit multiple trends (e.g. linear, periodic and reduction in variance)\n",
    "* Rolling statistics can be used to test for trends to see whether the centrality and/or dispersion of the data set changes over time\n",
    "* The Dickey Fuller Test is a common test for determining whether a data set contains trends\n",
    "* Common approaches for removing trends and seasonality include taking a log transform,. subtracting the rolling mean and differencing\n",
    "* Decomposing allows you to separately view seasonality (which could be daily, weekly, annual, etc), trend and \"random\" which is the variability in the data set after removing the effects of the seasonality and trend\n"
   ]
  }
 ],
 "metadata": {
  "kernelspec": {
   "display_name": "Python 3",
   "language": "python",
   "name": "python3"
  },
  "language_info": {
   "codemirror_mode": {
    "name": "ipython",
    "version": 3
   },
   "file_extension": ".py",
   "mimetype": "text/x-python",
   "name": "python",
   "nbconvert_exporter": "python",
   "pygments_lexer": "ipython3",
   "version": "3.6.8"
  }
 },
 "nbformat": 4,
 "nbformat_minor": 2
}
