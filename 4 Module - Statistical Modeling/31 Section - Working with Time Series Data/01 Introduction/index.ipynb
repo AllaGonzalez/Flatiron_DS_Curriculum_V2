{
 "cells": [
  {
   "cell_type": "markdown",
   "metadata": {},
   "source": [
    "# Introduction\n",
    "\n",
    "## Introduction\n",
    "In this section, you will learn about working with an important and ever-present type of data: time series data! Stock market prices, weather, and economic indicators like GDP are a few examples of time series data.\n",
    "\n",
    "## Objectives\n",
    "You will be able to:\n",
    "* Understand and explain what is covered in this section\n",
    "* Understand and explain why the section will help you to become a data scientist\n",
    "\n",
    "## Working with Time Series Data\n",
    "\n",
    "\"Time series\" data refers to data sets where the progress of time is an important dimension in the data set. For example working with the changes in stock prices, oil flow through a pipeline or even climate data over time requires an understanding of how to work with time series data. In this first of two sections on time series data, we introduce the concept of time series data, look at how to manage and visualize time series data, look at types of trends and how to test for and remove them and then introduce the idea of \"time series decomposition\". In the next section we'll then introduce techniques for modeling time series data.\n",
    "\n",
    "### Introduction to Time Series\n",
    "\n",
    "In this lesson, we start by importing daily minimum temperatures from Melbourne, Australia and  introduce the importance of using dates as index values when importing into Pandas for time series data. We then go through how to downsample and upsample a data set and show some of the built in methods for easily selecting and slicing time series data. We also provide an introduction to some of the most common plots for time series such as a line plot or a dot plot and approaches to grouping and visualizing time series data.\n",
    "\n",
    "We also introduce the use of time series histograms and density plots for visualizing the distribution of the values without considering the times at which the values were measured, and suggest time series box and whisker plots on a per year basis to get a sense of trends over time. Finally we introduce time series heat maps which can be a great way of getting a sense of how time series data changes across a couple of dimensions (e.g. month to month and year to year).\n",
    "\n",
    "### Managing Time Series Data Lab\n",
    "\n",
    "After the (fairly comprehensive) introductory lesson above, it's your chance to get some experience working with time series data. You're going to import some data on atmospheric CO2 levels and get some experience loading the data, slicing it, changing the granularity and performing some basic data cleaning operations on it.\n",
    "\n",
    "### Visualizing Time Series Data Lab\n",
    "\n",
    "Next up, working we with the minimum daily temperature from Melbourne again, you'll get a chance to explore the structure of the time series using line plots, understanding and describing the distribution of the observations using histograms and density plots, and measuring the change in distribution over intervals using box and whisker plots and heat map plots.\n",
    "\n",
    "### Types of Trends\n",
    "\n",
    "Basic regression tests are often not capable of capturing and predicting time-dependent patterns, so in this lesson we introduce the concept of trends, stationarity and explain the Dickey Fuller Test for performing statistical testing for time series stationarity.\n",
    "\n",
    "### Testing for Trends Lab\n",
    "\n",
    "After introducing the concepts in the previous lesson, in this lab you get a chance to implement a number of tests for stationarity of a time series data set.\n",
    "\n",
    "### Removing Trends\n",
    "\n",
    "Most time series modeling techniques have a stationarity assumption, so in this lesson we look at some of the techniques available for removing (or reducing) trends and/or seasonality using techniques such as a log transformation, rolling means or differencing.\n",
    "\n",
    "### Time Series Decomposition\n",
    "\n",
    "Finally, we end the section by introducing the concept of decomposition - another approach to removing trends and seasonality from a time series data set.\n",
    "\n",
    "\n",
    "## Summary\n",
    "\n",
    "This section will provide you with the foundational knowledge for loading and working with time series data, so you'll have the skills required to start to perform time series modeling!\n"
   ]
  }
 ],
 "metadata": {
  "kernelspec": {
   "display_name": "Python 3",
   "language": "python",
   "name": "python3"
  },
  "language_info": {
   "codemirror_mode": {
    "name": "ipython",
    "version": 3
   },
   "file_extension": ".py",
   "mimetype": "text/x-python",
   "name": "python",
   "nbconvert_exporter": "python",
   "pygments_lexer": "ipython3",
   "version": "3.6.8"
  }
 },
 "nbformat": 4,
 "nbformat_minor": 2
}
