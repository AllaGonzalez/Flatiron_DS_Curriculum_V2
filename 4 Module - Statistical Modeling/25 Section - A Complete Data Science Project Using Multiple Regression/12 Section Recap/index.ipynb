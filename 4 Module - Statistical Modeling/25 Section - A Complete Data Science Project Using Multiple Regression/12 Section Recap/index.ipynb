{
 "cells": [
  {
   "cell_type": "markdown",
   "metadata": {},
   "source": [
    "# A Complete Data Science Project Using Multiple Regression -  Recap\n",
    "\n",
    "## Introduction\n",
    "\n",
    "Shew! Congratulations! You're really coming along! In this section, you conducted a full data-science pipeline from data acquisition through modeling and interpretation.\n",
    "\n",
    "## Objectives\n",
    "You will be able to:\n",
    "* Understand and explain what was covered in this section\n",
    "* Understand and explain why this section will help you become a data scientist\n",
    "\n",
    "## Key Takeaways\n",
    "\n",
    "This section gave you an opportunity to review some of the wide-ranging skills you've acquired to date and conduct a full data science project! With that, you should have seen that a good data science process requires careful thought not just to technical details, but to the general structure and story behind the data itself. Indeed, substantial business value comes from asking the right questions and persuasively communicating the results. Similarly, even when modeling, much of the predictive value comes from thoughtful selection, and creative feature engineering through exploration of the data.\n",
    "\n",
    "To further summarize:  \n",
    "\n",
    "* The most common data science frameworks are CRISP-DM, KDD and OSEMiN\n",
    "* The process of finding, filtering and loading the appropriate data to answer a question is non-trivial\n",
    "* Decisions made in the data munging/scrubbing phase can have a huge impact on the accuracy of your predictions\n",
    "* Visualization is a key phase in EDA. \n",
    "* Analyzing Regression Models:\n",
    "    * Check p-values to determine whether features are significant\n",
    "    * Use Q-Q plots to check for normality\n",
    "    * Plot residuals against the target variable to check for homoscedasticity (and rule out heteroscedasticity)\n",
    "    * Use the Variance Inflation Factor to assess Multicollinearity between independent variables \n",
    "\n",
    "\n",
    "## Summary\n",
    "\n",
    "Again, well done! You put a lot of your skills to work and went through a full process of collecting data, cleaning it, analyzing and using it to answer questions."
   ]
  }
 ],
 "metadata": {
  "kernelspec": {
   "display_name": "Python 3",
   "language": "python",
   "name": "python3"
  },
  "language_info": {
   "codemirror_mode": {
    "name": "ipython",
    "version": 3
   },
   "file_extension": ".py",
   "mimetype": "text/x-python",
   "name": "python",
   "nbconvert_exporter": "python",
   "pygments_lexer": "ipython3",
   "version": "3.6.4"
  }
 },
 "nbformat": 4,
 "nbformat_minor": 2
}
