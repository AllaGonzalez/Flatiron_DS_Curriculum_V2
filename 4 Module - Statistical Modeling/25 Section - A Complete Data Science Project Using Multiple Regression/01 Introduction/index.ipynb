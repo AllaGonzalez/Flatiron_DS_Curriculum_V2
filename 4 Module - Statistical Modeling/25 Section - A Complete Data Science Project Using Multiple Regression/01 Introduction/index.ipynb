{
 "cells": [
  {
   "cell_type": "markdown",
   "metadata": {},
   "source": [
    "# A Complete Data Science Project Using Multiple Regression - Introduction\n",
    "\n",
    "## Introduction\n",
    "\n",
    "In this section, you'll get a chance to synthesize your skills and conduct a full data science process. To start, you'll extract appropriate data from a SQL database. From there, you'll continue exploring and cleaning your data, modeling the data and conducting statistical analyses!\n",
    "\n",
    "## Objectives\n",
    "You will be able to:\n",
    "* Understand and explain what is covered in this section\n",
    "* Understand and explain why the section will help you to become a data scientist\n",
    "\n",
    "## Data Science Processes\n",
    "\n",
    "You'll take at a three general frameworks for conducting data science processes using the skills you've learned thus far:  \n",
    "* **CR**oss-**I**ndustry **S**tandard **P**rocess for **D**ata **M**ining - **CRISP-DM**\n",
    "* **K**nowledge **D**iscovery in **D**atabases - **KDD** \n",
    "* **O**btain **S**crub **E**xplore **M**odel i**N**terpret - **OSEMN**\n",
    "\n",
    "> Note: OSEMN is pronounced \"OH-sum\" and rhymes with \"possum\"\n",
    "\n",
    "From there, the lessons follow a similar structure:\n",
    "\n",
    "## Obtaining Data\n",
    "\n",
    "You'll review sql and practice importing data from a relational database using the ETL (Extract, Transform and Load) process.\n",
    "\n",
    "## Scrubbing our Data\n",
    "\n",
    "From there, you'll practice cleaning data:\n",
    "* Casting columns to the appropriate data types\n",
    "* Identifying and dealing with null values appropriately\n",
    "* Removing columns that aren't required for modeling\n",
    "* Checking for and dealing with multicollinearity\n",
    "* Normalizing the data\n",
    "\n",
    "## Exploring our Data\n",
    "\n",
    "Once you've the cleaned data, you'll then do some further EDA (Exploratory Data Analysis) to check out the distributions of the various columns, examine the descriptive statistics for the data set and to create some initial visualizations to better to understand the data set.\n",
    "\n",
    "## Modeling our Data\n",
    "\n",
    "Finally, you'll create a definitive model. This will include fitting an initial regression model, and then conducting statistical analyses of the results. You'll take a look at the p-values of the various features and perform some feature selection. You'll test for regression assumptions including normality, heteroscedasticity, and independence. From these tests, you'll then refine and improve the model, not just for performance, but interpretability as well.\n",
    "\n",
    "## Summary\n",
    "\n",
    "In this section, you'll conduct end-to-end review of the data science process!"
   ]
  }
 ],
 "metadata": {
  "kernelspec": {
   "display_name": "Python 3",
   "language": "python",
   "name": "python3"
  },
  "language_info": {
   "codemirror_mode": {
    "name": "ipython",
    "version": 3
   },
   "file_extension": ".py",
   "mimetype": "text/x-python",
   "name": "python",
   "nbconvert_exporter": "python",
   "pygments_lexer": "ipython3",
   "version": "3.6.5"
  }
 },
 "nbformat": 4,
 "nbformat_minor": 2
}
