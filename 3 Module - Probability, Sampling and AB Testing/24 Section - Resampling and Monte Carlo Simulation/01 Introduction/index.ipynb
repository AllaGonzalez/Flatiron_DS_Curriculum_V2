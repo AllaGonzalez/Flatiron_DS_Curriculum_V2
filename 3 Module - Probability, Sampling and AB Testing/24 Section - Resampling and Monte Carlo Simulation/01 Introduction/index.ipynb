{
 "cells": [
  {
   "cell_type": "markdown",
   "metadata": {},
   "source": [
    "# Introduction"
   ]
  },
  {
   "cell_type": "markdown",
   "metadata": {},
   "source": [
    "## Introduction\n",
    "This lesson summarizes the topics we'll be covering in this section and why they'll be important to you as a data scientist."
   ]
  },
  {
   "cell_type": "markdown",
   "metadata": {},
   "source": [
    "## Objectives\n",
    "You will be able to:\n",
    "* Understand and explain what is covered in this section\n",
    "* Understand and explain why the section will help you to become a data scientist"
   ]
  },
  {
   "cell_type": "markdown",
   "metadata": {},
   "source": [
    "## Resampling and Monte Carlo Simulation\n",
    "\n",
    "In this section we'll be introducing some additional statistical techniques that will be important as we move into module 3 and beyond.\n",
    "\n",
    "### Probability Distributions - a Recap\n",
    "\n",
    "We kick off the section with a recap of some of the key probability distributions - uniform, exponential, normal and Poisson.\n",
    "\n",
    "### The Kolmogorov-Smirnov Test\n",
    "\n",
    "One of the most common assumptions for many machine learning algorithms is that your data set is normally distributed. In this lesson, we introduce the Kolmogorov-Smirnov test which can be used to test the whether a data set is normally distributed.\n",
    "\n",
    "### Data Generation \n",
    "\n",
    "Sometimes you just want to test the efficiency or performance of an algorithm with a certain type of data. When that is the case, you need to be able to generate a data set meeting a particular set of requirements. So next, we give you some hands on experience of generating synthetic data sets.\n",
    "\n",
    "### Resampling Methods\n",
    "\n",
    "Next up, we look at techniques for taking repeated subsamples from a sample using bootstrapping, jackknife and permutation tests to better estimate the precision of your sample statistics or validate models by using random subsets.\n",
    "\n",
    "### Monte Carlo Simulations\n",
    "\n",
    "We finish up the section by introducing the idea of Monte Carlo simulations for running large numbers of simulations with various inputs to provide distributions of possible output values.\n",
    "\n"
   ]
  },
  {
   "cell_type": "markdown",
   "metadata": {},
   "source": [
    "## Summary\n",
    "\n",
    "In this section we continue to introduce foundational statistical concepts that will be critical when working with various machine learning models in future lessons.\n"
   ]
  }
 ],
 "metadata": {
  "kernelspec": {
   "display_name": "Python 3",
   "language": "python",
   "name": "python3"
  },
  "language_info": {
   "codemirror_mode": {
    "name": "ipython",
    "version": 3
   },
   "file_extension": ".py",
   "mimetype": "text/x-python",
   "name": "python",
   "nbconvert_exporter": "python",
   "pygments_lexer": "ipython3",
   "version": "3.6.8"
  }
 },
 "nbformat": 4,
 "nbformat_minor": 2
}
