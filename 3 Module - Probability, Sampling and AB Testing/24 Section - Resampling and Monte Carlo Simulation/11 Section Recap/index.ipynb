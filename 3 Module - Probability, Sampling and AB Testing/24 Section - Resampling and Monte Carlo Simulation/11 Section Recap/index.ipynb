{
 "cells": [
  {
   "cell_type": "markdown",
   "metadata": {},
   "source": [
    "# Section Recap"
   ]
  },
  {
   "cell_type": "markdown",
   "metadata": {},
   "source": [
    "## Introduction\n",
    "\n",
    "Well done! In this section, you learned about various resampling techniques and when it would be advantageous to use certain ones."
   ]
  },
  {
   "cell_type": "markdown",
   "metadata": {},
   "source": [
    "## Objectives\n",
    "You will be able to:\n",
    "* Understand and explain what was covered in this section\n",
    "* Understand and explain why this section will help you become a data scientist"
   ]
  },
  {
   "cell_type": "markdown",
   "metadata": {},
   "source": [
    "## Key Takeaways\n",
    "The key takeaways for this section include:\n",
    "* The Kolmogorov-Smirnov Test can be used to test the \"normality assumption\" for a given data set\n",
    "* More generally, the KS Test is a way to compare the similarity of two different distributions\n",
    "* A one-sample KS Test (goodness of fit test) calculates the similarity between an observed data set and a theoretical distribution.\n",
    "* A two-sample KS Test compares the similarity of two separate empirical distributions\n",
    "* The `make_blobs()` method in sklearn is one way to generate a synthetic data set\n",
    "* The `make_moons()` method allows for the generation of data for binary classification problems\n",
    "* There are a number of other useful methods such as `make_circles()` and `make_regression()` for generating various types of data sets for testing your algorithms\n",
    "* Resampling methods allow for improved precision in estimating sample statistics and validating models by using random subsets\n",
    "* Common resampling techniques include bootstrapping, jackknifing and permutation tests\n",
    "* Monte Carlo Simulations are a powerful tool for running large numbers of simulations with various inputs to provide distributions of possible output values\n"
   ]
  }
 ],
 "metadata": {
  "kernelspec": {
   "display_name": "Python 3",
   "language": "python",
   "name": "python3"
  },
  "language_info": {
   "codemirror_mode": {
    "name": "ipython",
    "version": 3
   },
   "file_extension": ".py",
   "mimetype": "text/x-python",
   "name": "python",
   "nbconvert_exporter": "python",
   "pygments_lexer": "ipython3",
   "version": "3.6.8"
  }
 },
 "nbformat": 4,
 "nbformat_minor": 2
}
