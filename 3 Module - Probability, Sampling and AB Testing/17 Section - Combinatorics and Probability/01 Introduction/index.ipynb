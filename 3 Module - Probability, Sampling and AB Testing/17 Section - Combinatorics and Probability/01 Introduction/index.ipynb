{
 "cells": [
  {
   "cell_type": "markdown",
   "metadata": {},
   "source": [
    "# Introduction\n",
    "\n",
    "## Introduction\n",
    "In this section, you'll learn about the foundation of statistics, probability!\n",
    "\n",
    "## Objectives\n",
    "You will be able to:\n",
    "* Understand and explain what is covered in this section\n",
    "* Understand and explain why the section will help you to become a data scientist\n",
    "\n",
    "## Combinatorics and Probability\n",
    "\n",
    "In this section, we'll take a little time to \"get our math on\" with some basic probability. You're going to start with some basic set theory and look at how to operate on related sets using Python.\n",
    "\n",
    "From there, we're going to use what we learned about sets to start to learn and apply some of the basic rules of probability.\n",
    "\n",
    "### Factorials and Permutations\n",
    "\n",
    "Next we're going to dig into factorials, and how they can be used to calculate various permutations.\n",
    "\n",
    "### Combinations\n",
    "\n",
    "We're then going to examine the difference between permutations and combinations we'll get some practice calculating combinations for everything from drawing letters from a bag to creating soccer teams for a tournament!\n",
    "\n",
    "### Conditional Probability\n",
    "\n",
    "We start the section off with an introduction to conditional probability. We look at the difference between dependent and independent events, look at how to calculate dependent probabilities, and then introduce some key theorems related to conditional probabilities - the product rule, the chain rule and Bayes theorem.\n",
    "\n",
    "### Partitioning and the Law of Total Probabilities\n",
    "\n",
    "From there, we introduce the concept of partitioning a sample space, explain the law of total probabilities and then introduce the idea of conditional independence.\n",
    "\n",
    "\n",
    "## Summary\n",
    "\n",
    "This is another stats heavy section and some of the discrete problems you're solving may not seem to be particularly relevant to machine learning, but we deliberately introduce them so that you'll have the foundations required to be able to make thoughtful choices as we introduce you to a range of new machine learning models in the later sections.  \n",
    "\n"
   ]
  }
 ],
 "metadata": {
  "kernelspec": {
   "display_name": "Python 3",
   "language": "python",
   "name": "python3"
  },
  "language_info": {
   "codemirror_mode": {
    "name": "ipython",
    "version": 3
   },
   "file_extension": ".py",
   "mimetype": "text/x-python",
   "name": "python",
   "nbconvert_exporter": "python",
   "pygments_lexer": "ipython3",
   "version": "3.6.8"
  }
 },
 "nbformat": 4,
 "nbformat_minor": 2
}
