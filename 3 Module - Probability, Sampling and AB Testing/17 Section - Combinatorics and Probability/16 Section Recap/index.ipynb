{
 "cells": [
  {
   "cell_type": "markdown",
   "metadata": {},
   "source": [
    "# Section Recap"
   ]
  },
  {
   "cell_type": "markdown",
   "metadata": {},
   "source": [
    "## Introduction\n",
    "\n",
    "In this section, you learned about the concepts of combinatorics and probability."
   ]
  },
  {
   "cell_type": "markdown",
   "metadata": {},
   "source": [
    "## Objectives\n",
    "You will be able to:\n",
    "* Understand and explain what was covered in this section\n",
    "* Understand and explain why this section will help you become a data scientist"
   ]
  },
  {
   "cell_type": "markdown",
   "metadata": {},
   "source": [
    "## Key Takeaways\n",
    "\n",
    "In this section, wee dug into a number of foundational concepts - from NumPy to the basics of Probability\n",
    "* Probability is \"how likely\" it is that an event will happen\n",
    "* Sets in Python are unordered collections of unique elements\n",
    "* A sample space is a collection of every single possible outcome in a trial\n",
    "* The inclusion exclusion principle is a counting technique to calculate the number of elements in a collection of sets with overlapping elements\n",
    "* Factorials provide the basis for calculating permutations \n",
    "* The difference between permutations and combinations is that with combinations, order is not important\n",
    "* The \"sum rule\" of probability states that $P(A\\cup B) = P(A) + P(B) - P(A \\cap B) $\n",
    "\n",
    "* Independent events don't affect each other - e.g. consecutive coin tosses\n",
    "* Dependent events do affect each other - e.g. picking consecutive colored marbles from a bag\n",
    "* The product rule is useful when the conditional probability is easy to compute, but the probability of intersections of events are not.\n",
    "* The chain rule (also called the general product rule) permits the calculation of any member of the joint distribution of a set of random variables using only conditional probabilities.\n",
    "* Bayes theorem described the probability of an event based on prior knowledge of conditions that might be related to the event\n",
    "* The law of total probability states that the probability for a sample space is the sum of the probabilities for partitions of that sample space\n",
    "\n",
    "\n",
    "In this section, we introduced the ideas of combinatorics and probability. In the next section, you'll use this knowledge and take it a step further by learning about statistical distributions and their applications!"
   ]
  }
 ],
 "metadata": {
  "kernelspec": {
   "display_name": "Python 3",
   "language": "python",
   "name": "python3"
  },
  "language_info": {
   "codemirror_mode": {
    "name": "ipython",
    "version": 3
   },
   "file_extension": ".py",
   "mimetype": "text/x-python",
   "name": "python",
   "nbconvert_exporter": "python",
   "pygments_lexer": "ipython3",
   "version": "3.6.8"
  }
 },
 "nbformat": 4,
 "nbformat_minor": 2
}
