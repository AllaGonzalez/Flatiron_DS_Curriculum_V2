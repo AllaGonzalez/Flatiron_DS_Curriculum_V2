{
 "cells": [
  {
   "cell_type": "markdown",
   "metadata": {},
   "source": [
    "# What is Probability?\n",
    "\n",
    "## Introduction\n",
    "\n",
    "As an aspiring data scientist, it is important to know the foundations of probability and combinatorics, as these areas form the backbone of many concepts in data science. In the following lessons and labs, you'll get a gentle introduction to several concepts that are related to probability, like sets, combinations and permutations.\n",
    "\n",
    "## Objectives\n",
    "\n",
    "You will be able to:\n",
    "\n",
    "- Learn about some popular applications for probability\n",
    "\n",
    "## What is probability, and how does it relate to data science?\n",
    "\n",
    "Probability is the chance that a certain event will happen, in other words, how \"likely\" it is that some event will happen.\n",
    "\n",
    "As data science often uses *statistical inference* to analyze or predict certain events or trends, knowing probability and its applications is important, because statistical inference uses probability distributions of the data. Although it might take a little more time for you to understand just how important the foundations of probability are for data science, by the end of the first part of the probability section, you'll be able to answer questions like:\n",
    "\n",
    "- How likely is it to end up with heads when flipping a coin once? (the answer here is 50% - not very surprising)\n",
    "\n",
    "- How likely is it to end up with exactly 2 x heads and 3 x tails when flipping a coin 5 times?\n",
    "\n",
    "- How likely is it to throw Tails first, then Head, then Tail, Head and Tail when flipping a coin 5 times?\n",
    "\n",
    "- If you throw 5 dice, what is the probability of throwing a \"full house\"?\n",
    "\n",
    "- What is the probability of drawing 2 consecutive aces from a deck of cards?\n",
    "\n",
    "## Summary\n",
    "\n",
    "Now, let's dive deeper into the understanding of sets. Getting these concepts will make calculating your first probabilities much easier!"
   ]
  }
 ],
 "metadata": {
  "kernelspec": {
   "display_name": "Python 3",
   "language": "python",
   "name": "python3"
  },
  "language_info": {
   "codemirror_mode": {
    "name": "ipython",
    "version": 3
   },
   "file_extension": ".py",
   "mimetype": "text/x-python",
   "name": "python",
   "nbconvert_exporter": "python",
   "pygments_lexer": "ipython3",
   "version": "3.6.4"
  }
 },
 "nbformat": 4,
 "nbformat_minor": 2
}
