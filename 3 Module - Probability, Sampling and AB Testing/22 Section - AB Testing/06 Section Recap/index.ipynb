{
 "cells": [
  {
   "cell_type": "markdown",
   "metadata": {},
   "source": [
    "# AB Testing - Recap\n",
    "\n",
    "## Introduction\n",
    "\n",
    "In this section, you got a chance to further practice hypothesis testing with some real-world scenarios. Here's a brief recap of some of the key takeaways from the section.\n",
    "\n",
    "## Objectives\n",
    "\n",
    "You will be able to:\n",
    "\n",
    "* Critically think about statistical test design\n",
    "\n",
    "\n",
    "## A Brief Review\n",
    "\n",
    "When conducting statistical tests, there's simply no substitute for critical thinking. As you've seen, there are numerous considerations from formulating appropriate hypotheses to thinking about the context of the problem itself. While the techniques presented are extremely powerful if properly employed, you've also seen how each technique comes with its own assumptions, and ignoring these can invalidate results. Similarly, how the test is structured can lead to widely different results. \n",
    "\n",
    "There are also additional statistical tests not touched upon here. To date, your primary method has been conducting t-tests. This the most common statistical test used in practice and is very effective at comparing averages (of any metric) between groups. You've also seen how ANOVA can generalize this process to multiple groups. If you wish to continue to strengthen your knowledge of other statistical tests, take a look at some of the resources below.\n",
    "\n",
    "## Additional Resources\n",
    "\n",
    "[Choosing Statistical Tests] (https://stats.idre.ucla.edu/other/mult-pkg/whatstat/)\n",
    "[How to choose the right statistical test?](https://www.ncbi.nlm.nih.gov/pmc/articles/PMC3116565/)\n",
    "[Hypothesis Testing](https://newonlinecourses.science.psu.edu/stat414/node/290/)\n",
    "\n",
    "## Summary\n",
    "\n",
    "Well done! You've not only learned about a variety of statistical tests and the theory behind them, but you've now also put these techniques into practice in order to carry out hypothesis testing!\n"
   ]
  }
 ],
 "metadata": {
  "kernelspec": {
   "display_name": "Python 3",
   "language": "python",
   "name": "python3"
  },
  "language_info": {
   "codemirror_mode": {
    "name": "ipython",
    "version": 3
   },
   "file_extension": ".py",
   "mimetype": "text/x-python",
   "name": "python",
   "nbconvert_exporter": "python",
   "pygments_lexer": "ipython3",
   "version": "3.6.5"
  }
 },
 "nbformat": 4,
 "nbformat_minor": 2
}
