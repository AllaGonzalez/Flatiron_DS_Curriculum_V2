{
 "cells": [
  {
   "cell_type": "markdown",
   "metadata": {},
   "source": [
    "# Exponential Distributions\n",
    "\n",
    "## Introduction\n",
    "\n",
    "In this lesson, you'll learn about the Exponential Distribution and the types of questions you can answer using this distribution.\n",
    "\n",
    "## Objectives\n",
    "\n",
    "You will be able to:\n",
    "\n",
    "* Understand and explain the Exponential Distribution and its use cases.  \n",
    "\n",
    "\n",
    "## What is the Exponential Distribution?\n",
    "\n",
    "The **Exponential Distribution** describes the probability distribution of the amount of time it takes before an event occurs.  In a way, it solves the inverse of the problem solved by the Poisson Distribution.\n",
    "\n",
    "The **Poisson Distribution** lets you ask how likely any given number of events are over a set interval of time.  \n",
    "\n",
    "The **Exponential Distribution** lets you ask how likely the _length of an interval of time_ is before an event occurs exactly once. \n",
    "\n",
    "## Sample Problem Statements for Exponential Distribution\n",
    "\n",
    "Let's look at some examples of the type of questions you can answer with knowledge of the Exponential Distribution:\n",
    "\n",
    "1. How long before a sensor in this factory breaks down?\n",
    "\n",
    "2. How long until the next earthquake happens?\n",
    "\n",
    "3. How long will the next customer interaction take?\n",
    "\n",
    "4.  How long until the next person visits my website?\n",
    "\n",
    "As you can see, any type of question that we can ask about the length of time before a random event happens is a question that falls under the _Exponential Distribution_.  \n",
    "\n",
    "## Parameters & Formulas\n",
    "\n",
    "As with the other distributions we've learned about, our goal is to discover the probability that our **_Random Variable, $X$_** will turn out to be a specific value, $x$. \n",
    "\n",
    "In order to figure this out, we need to know the **Decay Parameter**, $\\lambda$ (although you may also see this denoted by the letter $m$).  To calculate the decay parameter, we just divide 1 by the average length of time it takes for an event to occur (e.g. the average number of minutes a customer interaction takes, or the average number of days before a machine breaks down). The average interval length is usually labeled as $\\mu$.\n",
    "\n",
    "### Decay Rate Formula\n",
    "\n",
    "$$\\lambda = \\frac{1}{\\mu}$$\n",
    "\n",
    "Once we know the decay rate, we can use the **Probability Density Function** to tell us the exact point probability for any length $x$.\n",
    "\n",
    "$$PDF(x) = \\lambda e^{-\\lambda x}$$\n",
    "\n",
    "The **Probability Density Function** allows us to answer questions such as \"What is the probability that it takes _exactly_ 4 minutes to ring up this customer?\"\n",
    "\n",
    "<img src='images/new_pdf.png' width=\"400\">\n",
    "\n",
    "Since we are talking about a Continuously-valued function, we'll also often want to make use of the **Cumulative Density Function**.  This allows us to answer questions such as \"what is the probability that it will take less than 4 minutes to ring up this customer?\"\n",
    "\n",
    "$$CDF(x) = 1 - e^{-\\lambda x}$$\n",
    "\n",
    "<img src='images/new_cdf.png' width=\"400\">\n",
    "\n",
    "\n",
    "Note that we discussed the mean of this distribution above, but not the standard deviation. This distribution is somewhat unique in that the **Standard Deviation**, $\\sigma$ is equal to the **_mean_**, $\\mu$.\n",
    "\n",
    "$$\\sigma = \\mu$$\n",
    "\n",
    "\n",
    "## Solving a Sample Problem\n",
    "\n",
    "Let's use some python to solve a sample problem described above.  Let's assume that the average customer interaction at a grocery store takes 4 minutes.  What is the probability that ringing up the next customer takes exactly 3 minutes? What about the probability that it takes 3 minutes or less?\n",
    "\n",
    "Let's write a few quick functions to calculate the PDF and CDF for us in the cell below. Then, we can use it to solve the problem above. "
   ]
  },
  {
   "cell_type": "code",
   "execution_count": 4,
   "metadata": {},
   "outputs": [
    {
     "name": "stdout",
     "output_type": "stream",
     "text": [
      "Point robability for exactly 3 minutes: 11.8092%\n",
      "Cumulative probability of 3 minutes or less: 52.7633%\n"
     ]
    }
   ],
   "source": [
    "import numpy as np\n",
    "\n",
    "def exp_pdf(mu, x):\n",
    "    decay_rate = 1 / mu\n",
    "    return decay_rate * np.exp(-decay_rate * x)\n",
    "    \n",
    "\n",
    "def exp_cdf(mu, x):\n",
    "    decay_rate = 1 / 4\n",
    "    return 1 - np.exp(-decay_rate * x)\n",
    "    \n",
    "print(\"Point probability for exactly 3 minutes: {:.4f}%\".format(exp_pdf(4, 3) * 100))\n",
    "print(\"Cumulative probability of 3 minutes or less: {:.4f}%\".format(exp_cdf(4, 3) * 100))"
   ]
  },
  {
   "cell_type": "markdown",
   "metadata": {},
   "source": [
    "## Summary\n",
    "\n",
    "In this lesson, we learned about the **Exponential Distribution**, and we can use the **Decay Rate** to calculate both **Probability Density** and **Cumulative Density**!"
   ]
  }
 ],
 "metadata": {
  "kernelspec": {
   "display_name": "Python 3",
   "language": "python",
   "name": "python3"
  },
  "language_info": {
   "codemirror_mode": {
    "name": "ipython",
    "version": 3
   },
   "file_extension": ".py",
   "mimetype": "text/x-python",
   "name": "python",
   "nbconvert_exporter": "python",
   "pygments_lexer": "ipython3",
   "version": "3.7.3"
  }
 },
 "nbformat": 4,
 "nbformat_minor": 2
}
