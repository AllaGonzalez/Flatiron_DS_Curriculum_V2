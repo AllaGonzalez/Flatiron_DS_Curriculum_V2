{
 "cells": [
  {
   "cell_type": "markdown",
   "metadata": {},
   "source": [
    "# Section Recap\n",
    "\n",
    "## Introduction\n",
    "\n",
    "You just learned how to create an experiment and interpret the results! Let's review some of the specific things you have learned.\n",
    "\n",
    "## Objectives\n",
    "You will be able to:\n",
    "* Understand and explain what was covered in this section\n",
    "* Understand and explain why this section will help you become a data scientist\n",
    "\n",
    "## Key Takeaways\n",
    "\n",
    "Some of the key takeaways from this section include:\n",
    "* It's important to have a sound approach to experimental design to be able to determine the significance of your findings\n",
    "* Start by examining any existing research to see if it can shed light on the problem you're studying\n",
    "* Start with a clear alternative and null hypothesis for your experiment to \"prove\"\n",
    "* It's important to have a thoughtfully selected control group from the same population for your trial to distinguish effect from variations based on population, time or other factors\n",
    "* Sample size needs to be selected carefully to ensure your results have a good chance of being statistically significant\n",
    "* Your results should be reproducible by other people and using different samples from the population\n",
    "* The p-value for an outcome determines how likely it is that the outcome could be due to chance\n",
    "* The alpha value is the marginal threshold at which we're comfortable rejecting the null hypothesis\n",
    "* An alpha of 0.05 is a common choice for many experiments\n",
    "* Effect size measures just the size in difference between two groups under observation, whereas statistical significance combines effect size with sample size\n",
    "* A one sample t-test is used to determine whether a sample comes from a population with a specific mean. \n",
    "* A two-sample t-test is used to determine if two population means are equal\n",
    "* Type 1 errors (false positives) are when we accept an alternative hypothesis which is actually false\n",
    "* The alpha that we pick is the likelihood that we will get a type 1 error due to random chance\n",
    "* Type 2 errors (false negatives) are when we reject an alternative hypothesis which is actually true\n"
   ]
  }
 ],
 "metadata": {
  "kernelspec": {
   "display_name": "Python 3",
   "language": "python",
   "name": "python3"
  },
  "language_info": {
   "codemirror_mode": {
    "name": "ipython",
    "version": 3
   },
   "file_extension": ".py",
   "mimetype": "text/x-python",
   "name": "python",
   "nbconvert_exporter": "python",
   "pygments_lexer": "ipython3",
   "version": "3.6.8"
  }
 },
 "nbformat": 4,
 "nbformat_minor": 2
}
