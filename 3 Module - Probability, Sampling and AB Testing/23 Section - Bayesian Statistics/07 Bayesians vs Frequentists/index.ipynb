{
 "cells": [
  {
   "cell_type": "markdown",
   "metadata": {},
   "source": [
    "# Bayesians vs Frequentists\n",
    "\n",
    "## Introduction\n",
    "\n",
    "Up until now, all of the statistical theory you have encountered has been through the lens of a frequentist. This has included discussions of z-tests, t-tests, p-values and ANOVA; all are from the frequentist perspective. In this lesson, you'll start to explore an alternative perspective donned by Bayesians.\n",
    "\n",
    "## Objectives \n",
    "\n",
    "You will be able to:\n",
    "\n",
    "* Discuss some of the differences between Bayesians and Frequentists\n",
    "\n",
    "## Philosophical Interpretations\n",
    "\n",
    "A natural place to start when outlining the differences between Bayesians and Frequentists is to talk of their interpretation of probability itself. For frequentists, the probability of an event is the limit of the rate of occurrences of the event if the same scenario including context and assumptions were repeated ad infinitum. In contrast, Bayesians interpret probability as the level of confidence, or belief, in a particular event occurring. In many ways this makes a more natural interpretation for rare events which cannot possibly reoccur in the same context and circumstances.\n",
    "\n",
    "## Practical Implications\n",
    "\n",
    "The practical implications of Bayesians versus frequentists rest upon making assumptions about unknown quantities. In the Bayesian framework, you make assumptions about unknown variables which you are attempting to estimate. For example, you might assume that the number of individuals who will buy a product can be represented by a binomial variable with parameter p. In contrast, the frequentists perspective does not allow embedding of prior beliefs such as this into statistical experiments and analyses.\n",
    "\n",
    "\n",
    "## Summary\n",
    "\n",
    "In this lesson, you started to learn about the differences in Bayesian versus frequentists statistical perspectives. Keep in mind that there are not always rigid lines between these modes of thought. Nonetheless, the discussion is a worthwhile one in considering which approach you wish to take in your research and analysis."
   ]
  }
 ],
 "metadata": {
  "kernelspec": {
   "display_name": "Python 3",
   "language": "python",
   "name": "python3"
  },
  "language_info": {
   "codemirror_mode": {
    "name": "ipython",
    "version": 3
   },
   "file_extension": ".py",
   "mimetype": "text/x-python",
   "name": "python",
   "nbconvert_exporter": "python",
   "pygments_lexer": "ipython3",
   "version": "3.7.3"
  }
 },
 "nbformat": 4,
 "nbformat_minor": 2
}
