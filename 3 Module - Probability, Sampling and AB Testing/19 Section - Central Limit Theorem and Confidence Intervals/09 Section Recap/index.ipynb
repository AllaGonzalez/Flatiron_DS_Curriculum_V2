{
 "cells": [
  {
   "cell_type": "markdown",
   "metadata": {},
   "source": [
    "# Section Recap\n",
    "\n",
    "## Introduction\n",
    "\n",
    "This short lesson summarizes the topics we covered in this section and why they'll be important to you as a data scientist.\n",
    "\n",
    "## Objectives\n",
    "You will be able to:\n",
    "* Understand and explain what was covered in this section\n",
    "* Understand and explain why this section will help you become a data scientist\n",
    "\n",
    "## Key Takeaways\n",
    "This section was all about building further on your statistics foundations by introducing the Central Limit Theorem and confidence intervals.  Some of the key takeaways include:\n",
    "\n",
    "* The Central Limit Theorem states that often, independent random variables summed together will converge to a normal distribution as the number of variables increases\n",
    "* Using Central Limit Theorem, we can work with non-normally distributed data sets as if they were normally distributed\n",
    "* The Standard Error is a measure of spread - it is the standard deviation of samples from the sample mean\n",
    "* A Confidence Level is used to describe how confident we are that a given parameter is within a given range. E.g. \"there's an 80% chance (confidence level of 80%) the person is between 5'5 and 6'2\"\n",
    "* That range is called the Confidence Interval\n",
    "* The z-critical value is the number of standard deviations you'd have to go from the mean of the normal distribution to capture the proportion of the data associated with the desired confidence level.\n",
    "* If you don't know the standard deviation for a population, you also need to use T-distributions"
   ]
  }
 ],
 "metadata": {
  "kernelspec": {
   "display_name": "Python 3",
   "language": "python",
   "name": "python3"
  },
  "language_info": {
   "codemirror_mode": {
    "name": "ipython",
    "version": 3
   },
   "file_extension": ".py",
   "mimetype": "text/x-python",
   "name": "python",
   "nbconvert_exporter": "python",
   "pygments_lexer": "ipython3",
   "version": "3.6.5"
  }
 },
 "nbformat": 4,
 "nbformat_minor": 2
}
