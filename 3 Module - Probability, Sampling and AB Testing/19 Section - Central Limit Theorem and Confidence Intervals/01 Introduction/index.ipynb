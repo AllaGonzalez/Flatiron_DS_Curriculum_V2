{
 "cells": [
  {
   "cell_type": "markdown",
   "metadata": {},
   "source": [
    "# Introduction"
   ]
  },
  {
   "cell_type": "markdown",
   "metadata": {},
   "source": [
    "## Introduction\n",
    "In this section, you'll learn be introduced to inferential statistics. You'll learn about sampling, the central limit theorem, and the T-distribution."
   ]
  },
  {
   "cell_type": "markdown",
   "metadata": {},
   "source": [
    "## Objectives\n",
    "You will be able to:\n",
    "* Understand and explain what is covered in this section\n",
    "* Understand and explain why the section will help you to become a data scientist"
   ]
  },
  {
   "cell_type": "markdown",
   "metadata": {},
   "source": [
    "## Distributions and Sampling\n",
    "\n",
    "In this section, we're returning to statistics to broaden and deepen our understanding of distributions and sampling.\n",
    "\n",
    "### Sampling\n",
    "\n",
    "We'll start by providing an introduction to the idea of **_Sampling_** - selecting a subset of a population to survey.  We then start to introduce some statistics related to sampling, explaining and showing how to calculuate the standard error.\n",
    "\n",
    "### The Central Limit Theorem\n",
    "\n",
    "Once we understand a bit about sampling, we'll explore how we can use it by digging deep into one of the coolest and most important concepts in inferential statistics--the **_Central Limit Theorem_**! We'll start by learning about how the Central Limit Theorem works, and explore how we can use it in a way that allows us to treat non-normal distributions as normal distributions, and provides a way for us to estimate parameters about a population.\n",
    "\n",
    "### The T-Distribution\n",
    "\n",
    "Finally, we'll end this section by learning about how we can use the **_T-Distribution_** for dealing samples that are smaller, and that have an unknown standard deviation. We'll explore how the T-Distribution works, learn about _Degrees of Freedom_, and then see how we can calculate confidence intervals using our newfound knowledge of the T-Distribution. "
   ]
  },
  {
   "cell_type": "markdown",
   "metadata": {},
   "source": [
    "## Summary\n",
    "\n",
    "While some of this material may seem a little dry, a deep understanding of and intuition for distributions and sampling will be important in your career as a data scientist. This knowledge will help you avoid making mistakes in your EDA, feature selection, and modeling work which could lead to faulty predictions from your models."
   ]
  }
 ],
 "metadata": {
  "kernelspec": {
   "display_name": "Python 3",
   "language": "python",
   "name": "python3"
  },
  "language_info": {
   "codemirror_mode": {
    "name": "ipython",
    "version": 3
   },
   "file_extension": ".py",
   "mimetype": "text/x-python",
   "name": "python",
   "nbconvert_exporter": "python",
   "pygments_lexer": "ipython3",
   "version": "3.6.8"
  }
 },
 "nbformat": 4,
 "nbformat_minor": 2
}
