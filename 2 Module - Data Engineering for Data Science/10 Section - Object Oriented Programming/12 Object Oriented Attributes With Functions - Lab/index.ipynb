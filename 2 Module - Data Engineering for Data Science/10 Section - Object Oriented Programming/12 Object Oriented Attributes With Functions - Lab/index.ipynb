{
 "cells": [
  {
   "cell_type": "markdown",
   "metadata": {},
   "source": [
    "# Object Oriented Attributes With Functions - Lab\n",
    "\n",
    "## Introduction\n",
    "You've been learning a lot about different parts of object-oriented programming. You've learned about classes and what purpose they serve. You've seen instance objects, instance variables, and instance methods and how these things all work with each other. In this lab, you'll learn what a **domain model** is and how it ties into object-oriented programming.\n",
    "\n",
    "## Objectives\n",
    "\n",
    "You will be able to:\n",
    "\n",
    "* Understand the concept of a domain model\n",
    "* Create a domain model\n",
    "* Define instance methods that operate on nested data structures\n",
    "\n",
    "## What Is a Domain Model?\n",
    "\n",
    "A domain model is the representation of a real-world concept or structure translated into software. This is a key function of object orientation. So far, your Python classes have been used as blueprints or templates for instance objects of that class. As an example, a Driver class would create driver instance objects, and the class would define a basic structure for what that driver instance object should look like and what capabilities it should have. But a class is only one part of a domain model just as, typically, a driver is only one part of a larger structure.\n",
    "\n",
    "A domain model is meant to mirror that larger, real-world structure. It is more than just one class, it is an entire environment that often depends on other parts or classes to function properly. So, in keeping with a Driver class, you could use the example of a taxi and limousine service as our domain model. There are many more parts to a service like this than drivers alone. You could imagine dispatchers, mechanics, accountants, passengers, etc., all being part of the structure of this domain model. In a simplified example, you could have instance and class methods handle things like `dispatch_driver`, `calculate_revenue_from_rides`, `service_taxi`, or any other function of a taxi and limousine service.\n",
    "\n",
    "As you become more fluent in object-oriented programming and our programs become more complex, you will see that the other parts of a domain model like passengers, dispatchers, etc., will be classes of their own which interact with each other. \n",
    "\n",
    "In this lab, you'll be using a school as our domain model.\n",
    "\n",
    "## Creating a Simple School Class\n",
    "\n",
    "To start, open up the **school.py** file in your text editor of choices such as Atom, Sublime, or a simple notepad program. Within this file, create a `School` class definition which will be initialized with the name of the school.\n",
    "\n",
    "> **Note:** the next cell imports an extension, `autoreload`, from IPython. The autoreload extension reloads any imported packages when methods from that package are called. While this is inefficient for stable packages such as NumPy which will be static while working in a notebook, the autoreload extension is quite useful when developing a package yourself. That is, you can update a package such as school.py and then test the effects in a notebook; with the autoreload extension, you'll see the effects of your changes to the package reflected. \n",
    "\n",
    ">> If you still have trouble with cells reflecting updates to the **school.py** file as you go along, go to the Kernel tab at the top of the jupyter notebook and click \"Restart & Run All\". This should smoothly run everything up to where you're working.\n",
    "\n"
   ]
  },
  {
   "cell_type": "code",
   "execution_count": 1,
   "metadata": {},
   "outputs": [],
   "source": [
    "%load_ext autoreload\n",
    "%autoreload 2"
   ]
  },
  {
   "cell_type": "code",
   "execution_count": 2,
   "metadata": {},
   "outputs": [],
   "source": [
    "from school import School"
   ]
  },
  {
   "cell_type": "code",
   "execution_count": 3,
   "metadata": {},
   "outputs": [],
   "source": [
    "school = School(\"Middletown High School\")"
   ]
  },
  {
   "cell_type": "markdown",
   "metadata": {},
   "source": [
    "## Updating the __init__ method\n",
    "\n",
    "Great! Now, update you `School` definition in school.py to also include a `roster` attribute upon initialization. Initialize the `roster` attribute as an empty dictionary. Later, you'll use this empty roster dictionary to list students of each grade. For example, a future entry in the roster dictionary could be `{\"9\": [\"John Smith\", \"Jane Donahue\"]}`)."
   ]
  },
  {
   "cell_type": "code",
   "execution_count": 4,
   "metadata": {},
   "outputs": [
    {
     "data": {
      "text/plain": [
       "{}"
      ]
     },
     "execution_count": 4,
     "metadata": {},
     "output_type": "execute_result"
    }
   ],
   "source": [
    "school = School(\"Middletown High School\") #You must reinstantiate the object since you've modified the class definition!\n",
    "school.roster #{}"
   ]
  },
  {
   "cell_type": "markdown",
   "metadata": {},
   "source": [
    "## Adding Methods\n",
    "\n",
    "### Method 1: `add_student()`\n",
    "Now add a method `add_student` which takes 2 arguments: a student's full name and their grade level, and updates the roster dictionary accordingly. "
   ]
  },
  {
   "cell_type": "code",
   "execution_count": 5,
   "metadata": {},
   "outputs": [
    {
     "data": {
      "text/plain": [
       "{12: ['Peter Piper']}"
      ]
     },
     "execution_count": 5,
     "metadata": {},
     "output_type": "execute_result"
    }
   ],
   "source": [
    "school = School(\"Middletown High School\") #Again, you must reinstantiate since you've modified the class!\n",
    "school.add_student(\"Peter Piper\", 12)\n",
    "school.roster #{\"12\": [\"Peter Piper\"]}"
   ]
  },
  {
   "cell_type": "markdown",
   "metadata": {},
   "source": [
    "> **Hint:** If you're stuck, don't fret; this one's a little tricky. You need to consider two scenarios.\n",
    "    1. There is no entry for this grade yet in the roster dictionary:\n",
    "        1. Add an entry to the roster dictionary with the grade key and a single item list using the name\n",
    "    2. There is an entry for this grade in the roster dictionary:\n",
    "        1. Append the current name to the list associated with that grade\n",
    "        \n",
    ">> Going further: if you're really ambitious, you can actually combine both of these conditions into a single line using the `.get()` method with dictionaries. Here's the docstring for the `.get()` method:  \n",
    "get(key[, default])  \n",
    "    Return the value for key if key is in the dictionary, else default. If default is not given, it defaults to None, so that this method never raises a KeyError.\n"
   ]
  },
  {
   "cell_type": "markdown",
   "metadata": {},
   "source": [
    "To make sure your method works for both scenarios, run the cell below."
   ]
  },
  {
   "cell_type": "code",
   "execution_count": 6,
   "metadata": {},
   "outputs": [
    {
     "data": {
      "text/plain": [
       "{12: ['Peter Piper'],\n",
       " 9: ['Kelly Slater'],\n",
       " 10: ['Tony Hawk', 'Ryan Sheckler'],\n",
       " 11: ['Bethany Hamilton']}"
      ]
     },
     "execution_count": 6,
     "metadata": {},
     "output_type": "execute_result"
    }
   ],
   "source": [
    "school.add_student(\"Kelly Slater\", 9)\n",
    "school.add_student(\"Tony Hawk\", 10)\n",
    "school.add_student(\"Ryan Sheckler\", 10)\n",
    "school.add_student(\"Bethany Hamilton\", 11)\n",
    "school.roster # {9: [\"Kelly Slater\"], 10: [\"Tony Hawk\", \"Ryan Sheckler\"], 11: [\"Bethany Hamilton\"], 12: [\"Peter Piper\"]}"
   ]
  },
  {
   "cell_type": "markdown",
   "metadata": {},
   "source": [
    "### Method 2: `grade()`\n",
    "Next, define a method called `grade`, which should take in an argument of a grade and return a list of all the students in that grade. \n",
    "\n"
   ]
  },
  {
   "cell_type": "code",
   "execution_count": 7,
   "metadata": {},
   "outputs": [
    {
     "name": "stdout",
     "output_type": "stream",
     "text": [
      "['Tony Hawk', 'Ryan Sheckler']\n",
      "['Peter Piper']\n"
     ]
    }
   ],
   "source": [
    "#While annoying, you do need to reinstantiate the updated class and repform the previous methods\n",
    "school = School(\"Middletown High School\") \n",
    "school.add_student(\"Peter Piper\", 12)\n",
    "school.add_student(\"Kelly Slater\", 9)\n",
    "school.add_student(\"Tony Hawk\", 10)\n",
    "school.add_student(\"Ryan Sheckler\", 10)\n",
    "school.add_student(\"Bethany Hamilton\", 11)\n",
    "#Testing out your new method:\n",
    "print(school.grade(10)) # [\"Tony Hawk\", \"Ryan Sheckler\"]\n",
    "print(school.grade(12)) # [\"Peter Piper\"]"
   ]
  },
  {
   "cell_type": "markdown",
   "metadata": {},
   "source": [
    "### Method 3: `sort_roster()`\n",
    "Define a method called `sort_roster` that returns the school's roster where the strings in the student arrays are sorted alphabetically. For instance:\n",
    "`{9: [\"Kelly Slater\"], 10: [\"Ryan Sheckler\", \"Tony Hawk\"], 11: [\"Bethany Hamilton\"], 12: [\"Peter Piper\"]}}`"
   ]
  },
  {
   "cell_type": "markdown",
   "metadata": {},
   "source": [
    ">**Note:** since dictionaries are unordered, the order of the keys does not matter here, just the order of the student's names within each list."
   ]
  },
  {
   "cell_type": "code",
   "execution_count": 8,
   "metadata": {},
   "outputs": [
    {
     "data": {
      "text/plain": [
       "{12: ['Peter Piper'],\n",
       " 9: ['Kelly Slater'],\n",
       " 10: ['Ryan Sheckler', 'Tony Hawk'],\n",
       " 11: ['Bethany Hamilton']}"
      ]
     },
     "execution_count": 8,
     "metadata": {},
     "output_type": "execute_result"
    }
   ],
   "source": [
    "school.sort_roster()"
   ]
  },
  {
   "cell_type": "markdown",
   "metadata": {},
   "source": [
    "## Summary\n",
    "In this lab, you continued to pracitce OOP, designing a more complex domain model using a School class with a few instance methods and variables. Soon you'll see that domain models can use other classes, instance methods, and instance variables to create more functionality in your programs."
   ]
  }
 ],
 "metadata": {
  "kernelspec": {
   "display_name": "Python 3",
   "language": "python",
   "name": "python3"
  },
  "language_info": {
   "codemirror_mode": {
    "name": "ipython",
    "version": 3
   },
   "file_extension": ".py",
   "mimetype": "text/x-python",
   "name": "python",
   "nbconvert_exporter": "python",
   "pygments_lexer": "ipython3",
   "version": "3.6.4"
  }
 },
 "nbformat": 4,
 "nbformat_minor": 2
}
