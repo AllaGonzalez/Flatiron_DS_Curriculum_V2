{
 "cells": [
  {
   "cell_type": "markdown",
   "metadata": {},
   "source": [
    "# Instance Methods"
   ]
  },
  {
   "cell_type": "markdown",
   "metadata": {},
   "source": [
    "## Introduction\n",
    "Now that you know what classes and instances are, you can start to talk about instance methods. Instance methods are almost the same as regular functions in python. The key difference is that an instance method is defined inside of a class and bound to instance objects of that class. Instance methods can be thought of an attribute of an instance object. The difference between an instance method and another attribute of an instance, is that instance methods are `callable`, meaning they execute a block of code. This may seem a bit confusing, but try to think about instance methods as functions defined in a class that are really just attributes of an instance object from that class."
   ]
  },
  {
   "cell_type": "markdown",
   "metadata": {},
   "source": [
    "## Objectives\n",
    "\n",
    "You will be able to:\n",
    "\n",
    "* Understand instance methods as attributes\n",
    "* Define an instance method\n",
    "* Introduce self"
   ]
  },
  {
   "cell_type": "markdown",
   "metadata": {},
   "source": [
    "## Instance Methods as Attributes"
   ]
  },
  {
   "cell_type": "markdown",
   "metadata": {},
   "source": [
    "When you think of methods and functions, you think about what kind of action they perform. The same goes for instance methods, however, the action being performed is scoped directly to that instance object. Remember, classes are kind of like the blueprints for their instance objects. So, let's take the example of a **Dog** class. What are the things that all dogs do? They can bark, beg to go for a walk, chase squirrels, etc. So, you consider these more or fewer attributes of a dog -- the same as their name, breed, weight, age etc. When you create a new dog instance object, the dog should be able to automatically bark, beg, and chase squirrels.\n",
    "\n",
    "Let's see how you would create a single dog, `rex`, and get him to bark:"
   ]
  },
  {
   "cell_type": "code",
   "execution_count": null,
   "metadata": {},
   "outputs": [],
   "source": [
    "class Dog():\n",
    "    pass \n",
    "rex = Dog()\n",
    "rex"
   ]
  },
  {
   "cell_type": "code",
   "execution_count": null,
   "metadata": {},
   "outputs": [],
   "source": [
    "rex.bark()"
   ]
  },
  {
   "cell_type": "markdown",
   "metadata": {},
   "source": [
    "Okay, here you have an instance of the dog class, but as you can see rex cannot bark yet... Let's see if you can fix that. You said instance methods are basically functions that are ***callable*** attributes, like functions, of an instance object. So, let's write a function that returns the string `\"bark!\"`, and assign it as an attribute of a dog.\n",
    "\n",
    "> **Note:** Dictionary object attributes are accessed using the bracket (`[]`) notation. However, instance object attributes are accessed using the dot (`.`) notation. "
   ]
  },
  {
   "cell_type": "code",
   "execution_count": null,
   "metadata": {},
   "outputs": [],
   "source": [
    "def make_a_bark():\n",
    "    return \"ruff ruff!\"\n",
    "\n",
    "rex.bark = make_a_bark\n",
    "rex.bark"
   ]
  },
  {
   "cell_type": "markdown",
   "metadata": {},
   "source": [
    "Here you can see that you successfully added a the `bark` attribute to `rex` and assigned it the function `make_a_bark`. Note that the return value of `rex.bark` is simply a function signature since you have not yet executed the function, and although this looks like an instance method it is not quite.\n",
    "\n",
    "> **Note:** Although you may hear and see the terms method and function used interchangeably, there are slight differences. You know that function is essentially an object that contains a block of code and it can optionally take in data or objects as explicit parameters, operate on them, and optionally return a value. A method is, simply put, a function that is bound to a class or instances of that class. Instance methods, thus, are functions that are available/bound to instance objects of the class in which they are defined. However, a key difference between the two is that a method is *implicitly* passed to the object on which it is called, meaning the first parameter for the method is the object. Don't worry if this is confusing as you will dive more into this later."
   ]
  },
  {
   "cell_type": "code",
   "execution_count": null,
   "metadata": {},
   "outputs": [],
   "source": [
    "rex.bark()"
   ]
  },
  {
   "cell_type": "markdown",
   "metadata": {},
   "source": [
    "Great, now you see that once you **called** the `bark` attribute, you executed the function and now see our return value, `\"ruff ruff!\"`. \n",
    "\n",
    "This is a great first step. However, since `make_a_bark` is not actually defined inside our class, you are able to call it without our dog instance object, `rex`, and as you just covered, that's not really how instance methods work... "
   ]
  },
  {
   "cell_type": "code",
   "execution_count": null,
   "metadata": {},
   "outputs": [],
   "source": [
    "make_a_bark()"
   ]
  },
  {
   "cell_type": "markdown",
   "metadata": {},
   "source": [
    "Alright, so, how do you turn this into a real instance method? Well, the first thing you need to do is define it inside of our class. So, let's take a look at how you can do that below:"
   ]
  },
  {
   "cell_type": "markdown",
   "metadata": {},
   "source": [
    "## Defining an Instance Method"
   ]
  },
  {
   "cell_type": "code",
   "execution_count": null,
   "metadata": {},
   "outputs": [],
   "source": [
    "class Dog():\n",
    "    \n",
    "    def bark():\n",
    "        return \"I'm an instance method! Oh and... ruff ruff!\""
   ]
  },
  {
   "cell_type": "code",
   "execution_count": null,
   "metadata": {},
   "outputs": [],
   "source": [
    "new_rex = Dog()\n",
    "\n",
    "new_rex.bark"
   ]
  },
  {
   "cell_type": "markdown",
   "metadata": {},
   "source": [
    "Here, you have re-defined our Dog class, but this time you actually defined an *instance method* `bark`. Now, whenever you create a new instance of this new Dog class, that instance will have the bark instance method as an attribute. \n",
    "\n",
    "Notice that the signature that is returned by the unexecuted method says **bound `method`** instead of function, as was the case with our first `rex`'s bark. \n",
    "\n",
    "There is **one** issue with our instance method. Let's try calling it and see what happens:"
   ]
  },
  {
   "cell_type": "code",
   "execution_count": null,
   "metadata": {},
   "outputs": [],
   "source": [
    "new_rex = Dog()\n",
    "new_rex.bark()"
   ]
  },
  {
   "cell_type": "markdown",
   "metadata": {},
   "source": [
    "Uh oh! `TypeError: bark() takes 0 positional arguments but 1 was given`. This error is telling you that the method, `bark` was defined to take 0 arguments, but when you executed it, you gave it an argument. \n",
    "\n",
    "Remember that one of the key differences between functions and methods is that a method is bound to an object and **implicitly** passes the object as an argument. That is what is causing this error. Effectively, what is happening when you try to call the instance method is this:\n",
    "\n",
    "```python\n",
    "# the instance object, new_rex, is implicitly passed in as the first argument upon execution\n",
    "new_rex.bark(new_rex)\n",
    "```\n",
    "\n",
    "So, how do you fix this error? Well, if instance methods will always require a default argument of the instance object, you will need to define our instance methods with an *explicit* first parameter.\n",
    "\n",
    ">**Note:** Parameters are the variable names you give to our method or function's future data. They are called parameters when you talk about the definition of a method or function, but once you have the data they are arguments. \n",
    "\n",
    "```python\n",
    "def function_example(parameter1, parameter2):\n",
    "    return parameter1 + parameter2\n",
    "# since you are defining the function, the variables, parameter1 and parameter2, are called parameters\n",
    "\n",
    "function_example(\"Argument1\", \"Argument2\") \n",
    "# here the strings passed in, \"Argument1\" and \"Argument2\", are arguments since you are executing the function\n",
    "```\n",
    "\n",
    "Okay, so let's see if when you define our function with a parameter, you can get rid of the error. You'll also define another function `who_am_i` to help further understand what's happening here."
   ]
  },
  {
   "cell_type": "markdown",
   "metadata": {},
   "source": [
    "## Introducing `self`"
   ]
  },
  {
   "cell_type": "code",
   "execution_count": null,
   "metadata": {},
   "outputs": [],
   "source": [
    "class Dog():\n",
    "    \n",
    "    def bark(self):\n",
    "        return \"I am actually going to bark this time. bark!\"\n",
    "        \n",
    "    def who_am_i(self):\n",
    "        return self\n",
    "        \n",
    "newest_rex = Dog()\n",
    "newest_rex.bark()"
   ]
  },
  {
   "cell_type": "markdown",
   "metadata": {},
   "source": [
    "Awesome! It works. Again, since instance methods implicitly pass in the object itself as an argument during execution, you need to define our method with at least 1 parameter. \n",
    "\n",
    "Notice that the parameter is named `self`. As with any function or method, you can name the parameters however you want, but the convention in Python is to name this first parameter `self`, which makes sense since it is the object on which you are calling the method. If that sounds confusing, don't worry. The concept of self is a little confusing. Let's play around with it and see if you can get a better idea.\n",
    "\n",
    "Let's first see what the return of the who_am_i method is:"
   ]
  },
  {
   "cell_type": "code",
   "execution_count": null,
   "metadata": {},
   "outputs": [],
   "source": [
    "fido = Dog()\n",
    "print(\"1.\", fido.who_am_i()) # checking return value of method\n",
    "print(\"2.\", fido) # comparing return of the fido instance object "
   ]
  },
  {
   "cell_type": "markdown",
   "metadata": {},
   "source": [
    "As you can see our who_am_i method is returning the same instance object as fido, which makes sense because you called this method **on** fido, and if you look at the method all it does is return the first argument (`self`), which you said is the instance object on which the method was called. "
   ]
  },
  {
   "cell_type": "code",
   "execution_count": null,
   "metadata": {},
   "outputs": [],
   "source": [
    "print(\"3.\", fido == fido.who_am_i()) \n",
    "print(\"4.\", newest_rex == newest_rex.who_am_i()) \n",
    "# again asserting that `self` is equal to the instance object on which who_am_i was called"
   ]
  },
  {
   "cell_type": "markdown",
   "metadata": {},
   "source": [
    "Again, don't worry if `self` still seems a bit confusing. It will become clearer through practice and it will also be very useful as you get further into object-oriented programming. For now, you can just go forward with the knowledge that **to define an instance method and later call it on an instance object, you will need to include at least one parameter in the method definition**."
   ]
  },
  {
   "cell_type": "markdown",
   "metadata": {},
   "source": [
    "## Summary"
   ]
  },
  {
   "cell_type": "markdown",
   "metadata": {},
   "source": [
    "In this lab, you introduced a lot. You looked at instance methods and adding functions as attributes of objects. Then you looked at the differences between functions and instance methods. You learned that instance methods are bound to objects and they always use the object on which they are called as their first argument. Since instance methods use their object as an argument you looked at how to properly define an instance method by introducing the concept of `self` in object-oriented programming."
   ]
  }
 ],
 "metadata": {
  "kernelspec": {
   "display_name": "Python 3",
   "language": "python",
   "name": "python3"
  },
  "language_info": {
   "codemirror_mode": {
    "name": "ipython",
    "version": 3
   },
   "file_extension": ".py",
   "mimetype": "text/x-python",
   "name": "python",
   "nbconvert_exporter": "python",
   "pygments_lexer": "ipython3",
   "version": "3.6.4"
  }
 },
 "nbformat": 4,
 "nbformat_minor": 2
}
