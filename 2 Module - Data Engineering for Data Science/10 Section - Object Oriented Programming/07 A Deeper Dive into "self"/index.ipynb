{
 "cells": [
  {
   "cell_type": "markdown",
   "metadata": {},
   "source": [
    "# A Deeper Dive into \"self\""
   ]
  },
  {
   "cell_type": "markdown",
   "metadata": {},
   "source": [
    "## Introduction\n",
    "In this lesson, you'll learn a little more about `self` in object-oriented Python (OOP). You've seen a little bit about self when you learned about defining and calling instance methods. So far you've seen that `self` is always explicitly defined as the instance method's **first parameter**. You've also seen that instance methods implicitly use the instance object as the **first argument** when you call the method. By convention, you name this first parameter `self` since it is a reference to the object on which you are operating. Let's take a look at some code that uses `self`."
   ]
  },
  {
   "cell_type": "markdown",
   "metadata": {},
   "source": [
    "## Objectives\n",
    "\n",
    "You will be able to:\n",
    "\n",
    "* Use self\n",
    "* Operate on self\n",
    "* Use self to call instance methods"
   ]
  },
  {
   "cell_type": "markdown",
   "metadata": {},
   "source": [
    "## Using `self`"
   ]
  },
  {
   "cell_type": "markdown",
   "metadata": {},
   "source": [
    "In order to really understand self and how it's used, it is best to use an example. Let's use the example of a **Person** class. A class produces instance objects, which in turn are just pieces of code that bundle together attributes like descriptors and behaviors. For example, an instance object of a Person class can have descriptors like `height`, `weight`, `age`, etc. and also have behaviors such as `saying_hello`, `eat_breakfast`, `talk_about_weather`, etc. "
   ]
  },
  {
   "cell_type": "code",
   "execution_count": 1,
   "metadata": {},
   "outputs": [
    {
     "name": "stdout",
     "output_type": "stream",
     "text": [
      "1. {}\n",
      "2. Hi, how are you?\n",
      "3. Yum that was delish!\n",
      "4. {'name': 'Gail', 'age': 29, 'weight': 'None of your business!', 'hungry': False}\n"
     ]
    }
   ],
   "source": [
    "class Person():\n",
    "    \n",
    "    def say_hello(self):\n",
    "        return \"Hi, how are you?\"\n",
    "        \n",
    "    def eat_breakfast(self):\n",
    "        self.hungry = False\n",
    "        return \"Yum that was delish!\"\n",
    "\n",
    "gail = Person()\n",
    "print(\"1.\", vars(gail))\n",
    "gail.name = \"Gail\"\n",
    "gail.age = 29\n",
    "gail.weight = 'None of your business!'\n",
    "print(\"2.\", gail.say_hello())\n",
    "print(\"3.\", gail.eat_breakfast())\n",
    "print(\"4.\", vars(gail))"
   ]
  },
  {
   "cell_type": "markdown",
   "metadata": {},
   "source": [
    "Here you can see that the person instance objects have two behaviors (`say_hello()` and `eat_breakfast`) and you can also add instance variables and assign values to them pretty easily. Additionally, note that you also can add instance variables to gail by using `self` inside our instance methods (as in the `eat_breakfast` method."
   ]
  },
  {
   "cell_type": "markdown",
   "metadata": {},
   "source": [
    "## Operating on `self`\n",
    "\n",
    "If you wanted a method that introduces oneself, it would be apt to be similar to the `say_hello` method. However, it would also need to include the person's name. To do this, referencing a call to self to retrieve an object attribute is essential."
   ]
  },
  {
   "cell_type": "code",
   "execution_count": 3,
   "metadata": {},
   "outputs": [
    {
     "name": "stdout",
     "output_type": "stream",
     "text": [
      "1.  Hi, my name is Gail. It is a pleasure to meet you!\n",
      "2.  Hi, my name is the Snail. It is a pleasure to meet you!\n"
     ]
    }
   ],
   "source": [
    "class Person():\n",
    "    \n",
    "    def introduce(self):\n",
    "        return f\"Hi, my name is {self.name}. It is a pleasure to meet you!\"\n",
    "    \n",
    "    def say_hello(self):\n",
    "        return \"Hi, how are you?\"\n",
    "        \n",
    "    def eat_breakfast(self):\n",
    "        self.hungry = False\n",
    "        return \"Yum that was delish!\"\n",
    "        \n",
    "gail = Person()\n",
    "gail.name = \"Gail\"\n",
    "the_snail = Person()\n",
    "the_snail.name = \"the Snail\"\n",
    "print(\"1. \", gail.introduce())\n",
    "print(\"2. \", the_snail.introduce())"
   ]
  },
  {
   "cell_type": "markdown",
   "metadata": {},
   "source": [
    "Great! See how the method is the same for both instance objects, but `self` is not the same. `self` always refers to the object which is being operated on. So, in the case of `gail`, the method returns the string with the `name` attribute of the instance object `gail`. \n",
    "\n",
    "Now let's think about some of our other behaviors that might be a bit more involved in order to make them dynamic. For example, everyone's favorite default conversation, the weather. It changes rapidly and seems to always be a choice topic for small talk. How would we create a method to introduce ourselves and make a comment about the weather? Talk about a great way to start a friendship!\n",
    "\n",
    "Let's see how we would do this with just a regular function:"
   ]
  },
  {
   "cell_type": "code",
   "execution_count": 4,
   "metadata": {},
   "outputs": [
    {
     "data": {
      "text/plain": [
       "\"Hi, my name is the Snail! What wildly overcast weather we're having, right?!\""
      ]
     },
     "execution_count": 4,
     "metadata": {},
     "output_type": "execute_result"
    }
   ],
   "source": [
    "def say_hello_and_weather(instance_obj, weather_pattern):\n",
    "    return f\"Hi, my name is {instance_obj.name}! What wildly {weather_pattern} weather we're having, right?!\"\n",
    "\n",
    "say_hello_and_weather(the_snail, \"overcast\")"
   ]
  },
  {
   "cell_type": "markdown",
   "metadata": {},
   "source": [
    "Alright, all is well and good, but let's take a look at how to incorporate this into our class object. Here's an updated version as a class method:"
   ]
  },
  {
   "cell_type": "code",
   "execution_count": 5,
   "metadata": {},
   "outputs": [
    {
     "name": "stdout",
     "output_type": "stream",
     "text": [
      "1.  Hi, my name is the Snail! What wildly humid weather we're having, right?!\n"
     ]
    }
   ],
   "source": [
    "class Person():\n",
    "\n",
    "    def say_hello_and_weather(self, weather_pattern):\n",
    "        # we are using self instead of instance_obj because we know self represents the instance object\n",
    "        return f\"Hi, my name is {self.name}! What wildly {weather_pattern} weather we're having, right?!\"\n",
    "\n",
    "the_snail = Person()\n",
    "the_snail.name = \"the Snail\"\n",
    "print(\"1. \", the_snail.say_hello_and_weather(\"humid\"))\n",
    "# notice that we are ONLY passing in the weather pattern argument\n",
    "# instance methods **implicitly** pass in the instance object as the **first** argument"
   ]
  },
  {
   "cell_type": "markdown",
   "metadata": {},
   "source": [
    "Again, note that the only arguments you pass in are those that come after `self` when you define an instance method's parameters.\n",
    "\n",
    "Now that you've seen how to leverage self and even use instance methods with more than just `self` as an argument, let's look at how you can use self to operate on and modify an instance object.\n",
    "\n",
    "Let's say it is `gail`'s birthday. Gail is 29 and she is turning 30. To ensure the instance object reflects that you can define an instance method that updates `gail`'s age."
   ]
  },
  {
   "cell_type": "code",
   "execution_count": 6,
   "metadata": {},
   "outputs": [
    {
     "name": "stdout",
     "output_type": "stream",
     "text": [
      "1.  29\n",
      "2.  Happy Birthday to the Snail (aka ME)! Can't believe I'm 30?!\n",
      "3.  30\n"
     ]
    }
   ],
   "source": [
    "class Person():\n",
    "\n",
    "    def happy_birthday(self):\n",
    "        self.age += 1\n",
    "        return f\"Happy Birthday to {self.name} (aka ME)! Can't believe I'm {self.age}?!\"\n",
    "\n",
    "the_snail = Person()\n",
    "the_snail.name = \"the Snail\"\n",
    "the_snail.age = 29\n",
    "print(\"1. \", the_snail.age)\n",
    "print(\"2. \", the_snail.happy_birthday())\n",
    "print(\"3. \", the_snail.age)"
   ]
  },
  {
   "cell_type": "markdown",
   "metadata": {},
   "source": [
    "While this method could be improved, the important note is self can be used to not only *read* attributes from the instance object, but can also change the attributes of the instance object. Self is simply the means by which to access underlying attributes stored within the object whether you want to retrieve said information or update it. \n",
    "\n",
    "Let's take this a step further and look at how you can call other methods using self. "
   ]
  },
  {
   "cell_type": "markdown",
   "metadata": {},
   "source": [
    "## Calling Instance Methods on `self`\n",
    "\n",
    "Another very important behavior people have is eating. It is something that we all do and it helps prevent us from getting **hangry**, or angry because we're hungry."
   ]
  },
  {
   "cell_type": "code",
   "execution_count": 7,
   "metadata": {},
   "outputs": [
    {
     "name": "stdout",
     "output_type": "stream",
     "text": [
      "1.  True\n",
      "Hunger is being relieved\n",
      "2.  Wow, that really hit the spot! I am so full, but more importantly, I'm not hangry anymore!\n",
      "3.  False\n",
      "4.  Oh, I don't think I can eat another bite. Thank you, though!\n"
     ]
    }
   ],
   "source": [
    "class Person():\n",
    "\n",
    "    def eat_sandwhich(self):\n",
    "        if (self.hungry):\n",
    "            self.relieve_hunger()\n",
    "            return \"Wow, that really hit the spot! I am so full, but more importantly, I'm not hangry anymore!\"\n",
    "        else:\n",
    "            return \"Oh, I don't think I can eat another bite. Thank you, though!\"\n",
    "    \n",
    "    def relieve_hunger(self):\n",
    "        print(\"Hunger is being relieved\")\n",
    "        self.hungry = False\n",
    "\n",
    "the_snail = Person()\n",
    "the_snail.name = \"the Snail\"\n",
    "the_snail.hungry = True\n",
    "print(\"1. \", the_snail.hungry)\n",
    "print(\"2. \", the_snail.eat_sandwhich())\n",
    "print(\"3. \", the_snail.hungry)\n",
    "print(\"4. \", the_snail.eat_sandwhich())"
   ]
  },
  {
   "cell_type": "markdown",
   "metadata": {},
   "source": [
    "Awesome! Be sure to observe that you can also use `self` to call other instance methods (as with the `self.relieve_hunger()` call above)."
   ]
  },
  {
   "cell_type": "markdown",
   "metadata": {},
   "source": [
    "## Summary"
   ]
  },
  {
   "cell_type": "markdown",
   "metadata": {},
   "source": [
    "In this lesson, you examined how to use `self` in OOP. You first reviewed using `self` to define instance methods appropriately. Next, you saw how to leverage `self` in order to make instance methods a bit more re-usable and dynamic. That is, you saw how you can retrieve object attributes using `self`. You also looked at using multiple arguments in a method call and using self to change the attributes on an instance object. Finally, you saw how to use self to call other instance methods."
   ]
  }
 ],
 "metadata": {
  "kernelspec": {
   "display_name": "Python 3",
   "language": "python",
   "name": "python3"
  },
  "language_info": {
   "codemirror_mode": {
    "name": "ipython",
    "version": 3
   },
   "file_extension": ".py",
   "mimetype": "text/x-python",
   "name": "python",
   "nbconvert_exporter": "python",
   "pygments_lexer": "ipython3",
   "version": "3.6.5"
  }
 },
 "nbformat": 4,
 "nbformat_minor": 2
}
