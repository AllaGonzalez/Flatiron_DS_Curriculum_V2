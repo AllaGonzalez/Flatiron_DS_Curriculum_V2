{
 "cells": [
  {
   "cell_type": "markdown",
   "metadata": {},
   "source": [
    "# NoSQL Databases - Section Intro\n",
    "\n",
    "## Introduction\n",
    "\n",
    "In this lesson, we'll learn about the topics and concepts that will be covered in this section.\n",
    "\n",
    "## Objectives\n",
    "You will be able to:\n",
    "* Give a brief summary of what is to be covered in this section\n",
    "* Understand and explain why the section will help you to become a data scientist\n",
    "\n",
    "\n",
    "## Introducing NoSQL Databases\n",
    "\n",
    "By now, you've dug pretty deep into SQL and Relational Databases. You're now familiar with what they are, how they work, and how to use them to store and retrieve data. However, Relational Databases and SQL are only part of the picture when it comes to databases--while their structure and organization is great for tabular data (data that fits in a table), there are plenty of situations where this is less than ideal. There are plenty of situations where important data just doesnt work well as a table. We'll begin this situation by exploring some of those situations, and look at some of options out there for databases that don't use a Relational format. \n",
    "\n",
    "## MongoDB\n",
    "\n",
    "Once we've gotten the lay of the land, we'll get some hands on experience with one of the most popular NoSQL variants on the market today--MongoDB! We'll start by installing MongoDB on our machine, and then we'll add some data to it, so that we can learn to store data and write queries using MongoDB. By the end of this section, you'll be able to do all the same things in MongoDB as you can in SQLite3!\n",
    "\n",
    "## Summary\n",
    "\n",
    "In this lesson, we learned about the topics and concepts that will be covered in this section. "
   ]
  }
 ],
 "metadata": {
  "kernelspec": {
   "display_name": "Python 3",
   "language": "python",
   "name": "python3"
  },
  "language_info": {
   "codemirror_mode": {
    "name": "ipython",
    "version": 3
   },
   "file_extension": ".py",
   "mimetype": "text/x-python",
   "name": "python",
   "nbconvert_exporter": "python",
   "pygments_lexer": "ipython3",
   "version": "3.6.4"
  }
 },
 "nbformat": 4,
 "nbformat_minor": 2
}
