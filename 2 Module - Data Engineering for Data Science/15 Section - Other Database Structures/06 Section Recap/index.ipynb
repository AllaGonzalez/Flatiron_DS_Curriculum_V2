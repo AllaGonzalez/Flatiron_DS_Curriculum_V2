{
 "cells": [
  {
   "cell_type": "markdown",
   "metadata": {},
   "source": [
    "# NoSQL Section Recap\n",
    "\n",
    "## Introduction\n",
    "\n",
    "In this lesson, we'll review the major concepts we've learned in this section. \n",
    "\n",
    "## NoSQL vs. SQL\n",
    "\n",
    "We began this lesson by comparing and contrasting Relational Databases/SQL with the various NoSQL database options that are out there, and outlined examples for when we would want to use each. \n",
    "\n",
    "The 4 different kinds of NoSQL Databases are:\n",
    "\n",
    "* Document Stores\n",
    "* Key-Value Stores\n",
    "* Column Stores\n",
    "* Graph Databases\n",
    "\n",
    "### RDDs and Hadoop/Spark\n",
    "\n",
    "We also took some time to dig into another data storage paradigm, **_Resilient Distributed Datasets_**, or **_RDDs_** such as Spark and Hadoop. We explored how these databases uses redundancy to ensure that data is **_Fault Tolerant_**, and examined how the driving idea behind these paradigms , **_MapReduce_**, gives us great speed ups when working with truly massive datasets in \n",
    "a distributed manner. \n",
    "\n",
    "\n",
    "## MongoDB\n",
    "\n",
    "Next, we explored how to install **_MongoDB_** and get the **_MongoDB Server_** up and running. We learned some commands that we could use to interact with mongo right there in the server shell, and then focused on connecting to our MongoDB server with Python. \n",
    "\n",
    "You should remember the following high-level takeaways from MongoDB:\n",
    "\n",
    "* You use the `pymongo` library and a little boilerplate to connect to the MongoDB Database.\n",
    "* In MongoDB, records are referred to as **_Documents_**.\n",
    "* We can create groups of documents called **_Collections_**.\n",
    "* Records are inserted by assing in our data as Python Dictionaries. \n",
    "    * We can insert a single record with our collection object's `insert_one()` method.\n",
    "    * We can insert many records by creating a list of dictionaries and passing the entire list to the collection object's `'insert_many()'` method. \n",
    "* We can write queries by using the collection object's `'find()'` method. \n",
    "* We can **_filter_** our queries by passing in the key-value pairs to filter by.\n",
    "* We can also use logic on our filters by making use of **_modifiers_**.\n",
    "\n",
    "## Summary\n",
    "\n",
    "In this lesson, we reviewed all the major concepts we covered in this section. "
   ]
  }
 ],
 "metadata": {
  "kernelspec": {
   "display_name": "Python 3",
   "language": "python",
   "name": "python3"
  },
  "language_info": {
   "codemirror_mode": {
    "name": "ipython",
    "version": 3
   },
   "file_extension": ".py",
   "mimetype": "text/x-python",
   "name": "python",
   "nbconvert_exporter": "python",
   "pygments_lexer": "ipython3",
   "version": "3.6.7"
  }
 },
 "nbformat": 4,
 "nbformat_minor": 2
}
