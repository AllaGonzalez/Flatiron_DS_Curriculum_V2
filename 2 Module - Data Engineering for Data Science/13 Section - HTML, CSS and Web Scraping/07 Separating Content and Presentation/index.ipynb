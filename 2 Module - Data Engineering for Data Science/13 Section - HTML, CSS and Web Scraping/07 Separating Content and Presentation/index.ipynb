{
 "cells": [
  {
   "cell_type": "markdown",
   "metadata": {},
   "source": [
    "# Separating Content and Presentation\n",
    "\n",
    "## Introduction\n",
    "You now know what HTML is and how to create a properly-formatted HTML document. That said, if you look at the HTML pages thus far, you can't help but notice that they look a little plain. To make them more attractive (and responsive), you can use Cascading Style Sheets or CSS!\n",
    "\n",
    "## Objectives\n",
    "You will be able to:\n",
    "* Identify the separation of content and presentation\n",
    "* Identify the role of CSS\n",
    "\n",
    "## Identify the Separation of Content and Presentation\n",
    "\n",
    "HTML lets you mark-up our content with semantic _structure_. It forms the skeleton of your web page. It would be great to be able to say, \"Browser, when you see a `p` tag with `id` of `my-name`, make the first letter be huge!\" Or, to get your readers' attention, you might say, \"Browser, if you see _any_ tag with a `class` of `warning` surround it with a red box!\" HTML authors believe that creating marked-up documents and styling marked-up documents are entirely separate tasks. They see a difference between writing _content_ (the data within the HTML document) and specifying _presentation_, the rules for displaying the rendered elements.\n",
    "\n",
    "## Identify the Role of CSS\n",
    "\n",
    "CSS, or \"Cascading Style Sheets,\" tells you how to write rules that define how\n",
    "browsers will present HTML. Rules in CSS won't look like HTML and they usually\n",
    "live in a file apart from our HTML file.\n",
    "\n",
    "CSS handles all of the ways you want to customize your content's look and feel\n",
    "from margins and colors, to column-based layout!\n",
    "\n",
    "## Additional Resources\n",
    "\n",
    "* [CSS Guidelines: The Separation of Concerns](https://cssguidelin.es/#the-separation-of-concerns)\n",
    "* [CSS Zen Garden](http://www.csszengarden.com/)\n",
    "\n",
    "## Summary\n",
    "Web developers separate the content of our HTML pages from their presentation, which they\n",
    "style with CSS. By keeping the two separate, you not only utilize the best tools\n",
    "for each job, but you can change code for one without disturbing the code for\n",
    "the other."
   ]
  }
 ],
 "metadata": {
  "kernelspec": {
   "display_name": "Python 3",
   "language": "python",
   "name": "python3"
  },
  "language_info": {
   "codemirror_mode": {
    "name": "ipython",
    "version": 3
   },
   "file_extension": ".py",
   "mimetype": "text/x-python",
   "name": "python",
   "nbconvert_exporter": "python",
   "pygments_lexer": "ipython3",
   "version": "3.6.5"
  }
 },
 "nbformat": 4,
 "nbformat_minor": 2
}
