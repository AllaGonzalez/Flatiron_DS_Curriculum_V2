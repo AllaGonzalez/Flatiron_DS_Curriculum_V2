{
 "cells": [
  {
   "cell_type": "markdown",
   "metadata": {},
   "source": [
    "# HTML, CSS and Web Scraping - Introduction\n",
    "\n",
    "## Introduction\n",
    "\n",
    "In this section, you'll begin to investigate content from the web. You'll start by learning a bit of HTML and CSS, the foundations for the web and from there you'll take a look at how to scrape information from the web in order to systematically create and build datasets that may not be otherwise available to you.\n",
    "\n",
    "## Objectives\n",
    "You will be able to:\n",
    "* Give a brief summary of what is to be covered in this section\n",
    "* Understand and explain why the section will help you to become a data scientist\n",
    "\n",
    "## HTML, CSS and Web Scraping\n",
    "\n",
    "While many companies provide access to information via APIs, sometimes you have to scrape the information that you need for your analysis from web pages designed to be read by people. \n",
    "\n",
    "### HTML\n",
    "\n",
    "HTML stands for HyperText Markup Language - the \"language of the web\". You'll start by looking at some of the more recent developments in HTML by introducing HTML5 semantic elements - designed to make HTML more consistent and readable. After that, you'll look into the process for handling new HTML elements that you might not have encountered before.\n",
    "\n",
    "### CSS\n",
    "\n",
    "CSS or Cascading Style Sheets is how you make web pages look snazzy. You'll see more about how proper web development workflows separate content from presentation.\n",
    "\n",
    "### Web Scraping\n",
    "\n",
    "Finally, you'll practice using Beautiful Soup - a package for scraping websites.\n",
    "\n",
    "\n",
    "\n",
    "\n",
    "## Summary\n",
    "\n",
    "You will often find that the information you want to retrieve isn't available via an API. When that's the case, it's incredibly important to be proficient with web scraping so that you can retrieve the information you need for your analysis."
   ]
  }
 ],
 "metadata": {
  "kernelspec": {
   "display_name": "Python 3",
   "language": "python",
   "name": "python3"
  },
  "language_info": {
   "codemirror_mode": {
    "name": "ipython",
    "version": 3
   },
   "file_extension": ".py",
   "mimetype": "text/x-python",
   "name": "python",
   "nbconvert_exporter": "python",
   "pygments_lexer": "ipython3",
   "version": "3.6.4"
  }
 },
 "nbformat": 4,
 "nbformat_minor": 2
}
