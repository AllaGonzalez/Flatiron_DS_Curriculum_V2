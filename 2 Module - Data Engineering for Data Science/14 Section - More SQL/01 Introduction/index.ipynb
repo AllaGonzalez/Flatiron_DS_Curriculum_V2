{
 "cells": [
  {
   "cell_type": "markdown",
   "metadata": {},
   "source": [
    "# SQL Practice - Section Introduction\n",
    "\n",
    "## Introduction \n",
    "\n",
    "In this section, you'll learn about more advance SQL operations. You'll also get a chance to answer some SQL interview questions to help prepare you for those you might find in the job search!\n",
    "\n",
    "## Objectives\n",
    "\n",
    "You will be able to:\n",
    "\n",
    "* Understand and explain the topics that will be covered in this section\n",
    "* Understand and explain how mastery of these topics will help you in your career as a Data Scientist\n",
    "\n",
    "## More Practice With SQL\n",
    "\n",
    "This entire section is dedicated to helping you really _master_ SQL and relational databases. No new concepts will be introduced in this section. Instead, we'll be drilling you on things you already know about SQL and relational databases to make sure that you really, truly know this content well. Data Retrieval is the most foundational--and arguably most important--skill set in a Data Scientist's toolbox. In your first job as a Data Scientist, you'll quickly learn that it's usually up to you to get the data you need to solve the problem at hand. This means that you need to be an expert at working with relational databases. You can know all the Python and Machine Learning and statistics in the world, but they're useless if you don't have data to aim those skills at!\n",
    "\n",
    "In this section, we'll start by reviewing some of the more complex concepts we've learned about SQL and queries. We'll also test your knowledge of relational databases with a short quiz. Finally, we'll end with a lab that featuring real world interview questions pertaining to SQL and relational databases from major companies such as Facebook and Google!\n",
    "\n",
    "\n",
    "# Summary\n",
    "\n",
    "You'll often find that the most interesting data might not be the most accessible! This section is about learning how to make queries to result in more complex data."
   ]
  }
 ],
 "metadata": {
  "kernelspec": {
   "display_name": "Python 3",
   "language": "python",
   "name": "python3"
  },
  "language_info": {
   "codemirror_mode": {
    "name": "ipython",
    "version": 3
   },
   "file_extension": ".py",
   "mimetype": "text/x-python",
   "name": "python",
   "nbconvert_exporter": "python",
   "pygments_lexer": "ipython3",
   "version": "3.6.8"
  }
 },
 "nbformat": 4,
 "nbformat_minor": 2
}
