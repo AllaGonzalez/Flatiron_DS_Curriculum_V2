{
 "cells": [
  {
   "cell_type": "markdown",
   "metadata": {},
   "source": [
    "# Recursive Functions"
   ]
  },
  {
   "cell_type": "markdown",
   "metadata": {},
   "source": [
    "## Introduction\n",
    "\n",
    "Python supports recursive functions; functions that call themselves in order to loop.\n",
    "Recursion is an advanced and somewhat uncommon practice in Python as other looping patterns are often simpler, and faster. That said, recursive functions are very useful for traversing unknown shapes and structures.  "
   ]
  },
  {
   "cell_type": "markdown",
   "metadata": {},
   "source": [
    "## Objectives\n",
    "You will be able to:\n",
    "* Understand and use the concept of a recursive function \n",
    "* Understand scope in the context of recursive functions\n",
    "* Understand and compare depth first versus breadth first searches"
   ]
  },
  {
   "cell_type": "markdown",
   "metadata": {},
   "source": [
    "## A Recursive Example\n",
    "\n",
    "\n",
    "Let's take a look at a simple case to start."
   ]
  },
  {
   "cell_type": "code",
   "execution_count": 1,
   "metadata": {},
   "outputs": [
    {
     "data": {
      "text/plain": [
       "45"
      ]
     },
     "execution_count": 1,
     "metadata": {},
     "output_type": "execute_result"
    }
   ],
   "source": [
    "def mysum(L):\n",
    "    if not L:\n",
    "        return 0\n",
    "    else:\n",
    "        return L[0] + mysum(L[1:])\n",
    "mysum([1,2,3,4,5,6,7,8,9])"
   ]
  },
  {
   "cell_type": "markdown",
   "metadata": {},
   "source": [
    "This function takes a list of numbers and recursively calls itself to add the next item to a summation. The first condition `if not L` allows us to terminate the recursive function; when the list is empty we add 0 to our sum and terminate, as no more recursive calls are made. To better understand this, let's add a couple of print statements to our function."
   ]
  },
  {
   "cell_type": "code",
   "execution_count": 2,
   "metadata": {},
   "outputs": [
    {
     "name": "stdout",
     "output_type": "stream",
     "text": [
      "[1, 2, 3, 4, 5, 6, 7, 8, 9]\n",
      "[2, 3, 4, 5, 6, 7, 8, 9]\n",
      "[3, 4, 5, 6, 7, 8, 9]\n",
      "[4, 5, 6, 7, 8, 9]\n",
      "[5, 6, 7, 8, 9]\n",
      "[6, 7, 8, 9]\n",
      "[7, 8, 9]\n",
      "[8, 9]\n",
      "[9]\n",
      "[]\n"
     ]
    },
    {
     "data": {
      "text/plain": [
       "45"
      ]
     },
     "execution_count": 2,
     "metadata": {},
     "output_type": "execute_result"
    }
   ],
   "source": [
    "def mysum(L):\n",
    "    print(L)\n",
    "    if not L:\n",
    "        return 0\n",
    "    else:\n",
    "        return L[0] + mysum(L[1:])\n",
    "\n",
    "mysum([1,2,3,4,5,6,7,8,9])"
   ]
  },
  {
   "cell_type": "markdown",
   "metadata": {},
   "source": [
    "## Scopes\n",
    "\n",
    "Each new call to your function creates a new local scope. In other words, this creates a new namespace for the variables within that function call. This can be seen above as our `print(L)` statement continually shows L within the local context of that particular function call. "
   ]
  },
  {
   "cell_type": "markdown",
   "metadata": {},
   "source": [
    "## Alternatives\n",
    "\n",
    "In this case, a summation problem could be easily replaced by using a while loop. This eliminates the need to define function that then makes recursive calls to itself (which creates new scopes). In practice, this can also increase execution performance time."
   ]
  },
  {
   "cell_type": "code",
   "execution_count": 3,
   "metadata": {},
   "outputs": [
    {
     "data": {
      "text/plain": [
       "45"
      ]
     },
     "execution_count": 3,
     "metadata": {},
     "output_type": "execute_result"
    }
   ],
   "source": [
    "L = [1,2,3,4,5,6,7,8,9]\n",
    "sum_1 = 0 \n",
    "while L:\n",
    "    sum_1 += L[0]\n",
    "    L = L[1:]\n",
    "sum_1"
   ]
  },
  {
   "cell_type": "markdown",
   "metadata": {},
   "source": [
    "You could also use a fairly simple for loop:"
   ]
  },
  {
   "cell_type": "code",
   "execution_count": 4,
   "metadata": {},
   "outputs": [
    {
     "data": {
      "text/plain": [
       "45"
      ]
     },
     "execution_count": 4,
     "metadata": {},
     "output_type": "execute_result"
    }
   ],
   "source": [
    "L = [1,2,3,4,5,6,7,8,9]\n",
    "sum_1 = 0 \n",
    "for x in L:\n",
    "    sum_1 += x\n",
    "sum_1"
   ]
  },
  {
   "cell_type": "markdown",
   "metadata": {},
   "source": [
    "## Handling More General Data Structures\n",
    "\n",
    "Imagine you want our mysum() function to sum nested lists, or arbitrary shape and depth. In other words, your list might contain numbers, lists of numbers, lists of lists of numbers, etc. If you want to write such a function, your simple while or for loop will no longer suffice. Observe:"
   ]
  },
  {
   "cell_type": "code",
   "execution_count": 5,
   "metadata": {},
   "outputs": [
    {
     "ename": "TypeError",
     "evalue": "unsupported operand type(s) for +=: 'int' and 'list'",
     "output_type": "error",
     "traceback": [
      "\u001b[0;31m---------------------------------------------------------------------------\u001b[0m",
      "\u001b[0;31mTypeError\u001b[0m                                 Traceback (most recent call last)",
      "\u001b[0;32m<ipython-input-5-69d60388f646>\u001b[0m in \u001b[0;36m<module>\u001b[0;34m()\u001b[0m\n\u001b[1;32m      2\u001b[0m \u001b[0msum_1\u001b[0m \u001b[0;34m=\u001b[0m \u001b[0;36m0\u001b[0m\u001b[0;34m\u001b[0m\u001b[0;34m\u001b[0m\u001b[0m\n\u001b[1;32m      3\u001b[0m \u001b[0;32mfor\u001b[0m \u001b[0mx\u001b[0m \u001b[0;32min\u001b[0m \u001b[0mL\u001b[0m\u001b[0;34m:\u001b[0m\u001b[0;34m\u001b[0m\u001b[0;34m\u001b[0m\u001b[0m\n\u001b[0;32m----> 4\u001b[0;31m     \u001b[0msum_1\u001b[0m \u001b[0;34m+=\u001b[0m \u001b[0mx\u001b[0m\u001b[0;34m\u001b[0m\u001b[0;34m\u001b[0m\u001b[0m\n\u001b[0m\u001b[1;32m      5\u001b[0m \u001b[0msum_1\u001b[0m\u001b[0;34m\u001b[0m\u001b[0;34m\u001b[0m\u001b[0m\n",
      "\u001b[0;31mTypeError\u001b[0m: unsupported operand type(s) for +=: 'int' and 'list'"
     ]
    }
   ],
   "source": [
    "L = [1,[2,3,4],5,[6,[7,8],9]]\n",
    "sum_1 = 0 \n",
    "for x in L:\n",
    "    sum_1 += x\n",
    "sum_1"
   ]
  },
  {
   "cell_type": "markdown",
   "metadata": {},
   "source": [
    "You get an error because when you try to add the second item, python is unable to add a int and a list; the two are seperate data types. Your recursive function however, does just as good a job by successively iterating through our nested data:"
   ]
  },
  {
   "cell_type": "code",
   "execution_count": 7,
   "metadata": {},
   "outputs": [
    {
     "name": "stdout",
     "output_type": "stream",
     "text": [
      "[1, [2, 3, 4], 5, [6, [7, 8], 9]]\n",
      "[[2, 3, 4], 5, [6, [7, 8], 9]]\n",
      "[2, 3, 4]\n",
      "[3, 4]\n",
      "[4]\n",
      "[]\n",
      "[5, [6, [7, 8], 9]]\n",
      "[[6, [7, 8], 9]]\n",
      "[6, [7, 8], 9]\n",
      "[[7, 8], 9]\n",
      "[7, 8]\n",
      "[8]\n",
      "[]\n",
      "[9]\n",
      "[]\n",
      "[]\n"
     ]
    },
    {
     "data": {
      "text/plain": [
       "45"
      ]
     },
     "execution_count": 7,
     "metadata": {},
     "output_type": "execute_result"
    }
   ],
   "source": [
    "def mysum(L):\n",
    "    print(L)\n",
    "    if not L:\n",
    "        return 0\n",
    "    elif type(L[0]) == list:\n",
    "        return mysum(L[0]) + mysum(L[1:])\n",
    "    else:\n",
    "        return L[0] + mysum(L[1:])\n",
    "    \n",
    "L = [1,[2,3,4],5,[6,[7,8],9]]\n",
    "mysum(L)"
   ]
  },
  {
   "cell_type": "markdown",
   "metadata": {},
   "source": [
    "In general, recursive functions can also often be replaced with stacks which determine a queue for successive function calls. See the resources below which adds some more context on this."
   ]
  },
  {
   "cell_type": "markdown",
   "metadata": {},
   "source": [
    "## More on Scopes\n",
    "\n",
    "Notice how you can add a second branch in the conditional logic to further recurse on nested lists. You can also see how this works in practice by the print statements. The scope of L is redefined when the function then reaches the second item at index 1; the nested list [2,3,4]. Once there, the function makes a recursive call to the mysum function of this smaller list and successively see printouts for [2,3,4], [3,4]], [4] and [] as the mysum() function continues to sum this list within the master list."
   ]
  },
  {
   "cell_type": "markdown",
   "metadata": {},
   "source": [
    "## Depth Vs. Breadth First Traversals\n",
    "\n",
    "Another important concept to touch upon and address at this point is the difference between depth and breadth first search trees. The above example demonstrates depth first approach; when mysum hit the second item which was a nested list, it continued all the way down the rabbit hole before moving on. A breadth first search would be if the function processed everything at the first level, putting nested lists on hold till later. Here's the same function rewritten as a breadth first traversal:"
   ]
  },
  {
   "cell_type": "code",
   "execution_count": 9,
   "metadata": {},
   "outputs": [
    {
     "name": "stdout",
     "output_type": "stream",
     "text": [
      "[1, [2, 3, 4], 5, [6, [7, 8], 9]]\n",
      "[2, 3, 4, 6, [7, 8], 9]\n",
      "[7, 8]\n"
     ]
    },
    {
     "data": {
      "text/plain": [
       "45"
      ]
     },
     "execution_count": 9,
     "metadata": {},
     "output_type": "execute_result"
    }
   ],
   "source": [
    "#Process everything layer by layer. \n",
    "#Thus you process everything in the list, and put off items for later processing if they are nested data structures.\n",
    "def mysum(L, tot=0):\n",
    "    print(L)\n",
    "    deeper_data = [] #Initialize a container for nested data you come across\n",
    "    #Process the current depth layer\n",
    "    for i in L:\n",
    "        if type(i) != list:\n",
    "            tot += i #If its not a list, its a number! Add it up!\n",
    "        else:\n",
    "            [deeper_data.append(j) for j in i] #Add nested items to our list of things to process later on\n",
    "            #Notice you're digging in a layer here by iterating \n",
    "            #through i which you know is a nested data structure from our conditional\n",
    "    if deeper_data != []:\n",
    "        return mysum(deeper_data, tot=tot)\n",
    "        #If you have deeper_data we got to iterate!\n",
    "    else:\n",
    "        return tot\n",
    "        #If you don't have nested data, we're done!\n",
    "    \n",
    "L = [1,[2,3,4],5,[6,[7,8],9]]\n",
    "mysum(L)"
   ]
  },
  {
   "cell_type": "markdown",
   "metadata": {},
   "source": [
    "## Additional Resources\n",
    "\n",
    "Check out the link below for a further discussion about depth versus breadth first searches!  \n",
    "\n",
    "https://brilliant.org/wiki/depth-first-search-dfs/"
   ]
  },
  {
   "cell_type": "markdown",
   "metadata": {},
   "source": [
    "## Summary\n",
    "Recursive functions make calls to themselves. Each call defines new scopes for variables and functions within these recursive calls. Although recursive functions are useful for traversing unknown data structures, usually standard `for` and `while` loops will have faster execution. Execution time and readability are important to consider whenever you decide to write a recursive function. Now it's time for you to practice and write some recursive functions on your own!"
   ]
  }
 ],
 "metadata": {
  "kernelspec": {
   "display_name": "Python 3",
   "language": "python",
   "name": "python3"
  },
  "language_info": {
   "codemirror_mode": {
    "name": "ipython",
    "version": 3
   },
   "file_extension": ".py",
   "mimetype": "text/x-python",
   "name": "python",
   "nbconvert_exporter": "python",
   "pygments_lexer": "ipython3",
   "version": "3.6.8"
  }
 },
 "nbformat": 4,
 "nbformat_minor": 2
}
