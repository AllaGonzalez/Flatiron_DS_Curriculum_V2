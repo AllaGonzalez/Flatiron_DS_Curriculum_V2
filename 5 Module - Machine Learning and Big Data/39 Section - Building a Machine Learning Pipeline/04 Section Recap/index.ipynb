{
 "cells": [
  {
   "cell_type": "markdown",
   "metadata": {},
   "source": [
    "# Section Recap\n",
    "\n",
    "## Introduction\n",
    "\n",
    "This short lesson summarizes key takeaways from this section on creating machine learning pipelines.\n",
    "\n",
    "## Objectives\n",
    "You will be able to:\n",
    "* Understand and explain what was covered in this section\n",
    "* Understand and explain why this section will help you become a data scientist\n",
    "\n",
    "## Key Takeaways\n",
    "\n",
    "The key takeaways from this section include:\n",
    "* Machine Learning Pipelines create a nice workflow to combine data manipulations, preprocessing and modeling\n",
    "* Machine Learning Pipelines can be used along with grid search to evaluate several parameter settings\n",
    "* For data sets with a lot of predictors and a certain correlation structure it's often recommended to look at PCA to reduce complexity first\n",
    "* Grid search can considerably blow up computation time when computing for several parameters along with cross-validation\n",
    "* Some models are very sensitive to hyperparameter changes, so they should be chosen with care, and even with big grids a good outcome isn't always guaranteed"
   ]
  }
 ],
 "metadata": {
  "kernelspec": {
   "display_name": "Python 3",
   "language": "python",
   "name": "python3"
  },
  "language_info": {
   "codemirror_mode": {
    "name": "ipython",
    "version": 3
   },
   "file_extension": ".py",
   "mimetype": "text/x-python",
   "name": "python",
   "nbconvert_exporter": "python",
   "pygments_lexer": "ipython3",
   "version": "3.6.8"
  }
 },
 "nbformat": 4,
 "nbformat_minor": 2
}
