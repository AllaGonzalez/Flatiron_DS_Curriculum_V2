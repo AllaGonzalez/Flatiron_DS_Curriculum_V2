{
 "cells": [
  {
   "cell_type": "markdown",
   "metadata": {},
   "source": [
    "# SVM Introduction\n",
    "\n",
    "## Introduction\n",
    "\n",
    "SVM stands for support vector machines. These are a type of classifier which modifies the loss function for optimization to not only take into account overall accuracy metrics of the resulting predictions, but aims to maximize the decision boundary between the data points. In essence, this further helps tune the classifier as a good balance between under-fitting and over-fitting.\n",
    "\n",
    "## Objectives\n",
    "\n",
    "You will be able to:\n",
    "\n",
    "* Define SVM\n",
    "* Give a high level overview of what SVMs are\n",
    "* Define and explain about Kernel Functions\n",
    "\n",
    "## Support Vector Machines\n",
    "\n",
    "In addition to optimizing for accuracy, support vector machines add a slack component, trading in accuracy to increase the distance between data point and the decision boundary. This provides an interesting perspective which can help formalize the intuitive visual choices a human would make in balancing precision and generalization to strike a balance between over-fitting and under-fitting.\n",
    "\n",
    "\n",
    "## Kernel Functions\n",
    "\n",
    "Initially, you'll explore linear support vector machines which divide data points into their respective groups by drawing hyperplanes using the dimensions from the feature space. In practice, these have limitations and the dataset may not be cleanly separable. As a result, kernel functions are an additional tool that can be used. Essentially, kernels reproject data onto a new parameter space using combinations of existing features. From there, the same process of applying the same SVMs process to this transformed space can then be employed.\n",
    "\n",
    "## Summary\n",
    "\n",
    "While it may appear that this section is a bit brief, Support Vector Machines are a powerful algorithm that deserve attention. In many cases, SVMs will have the top performance of out of the box classifiers from sci-kit learn. Moreover, learning to properly tune SVMs using kernels and an appropriate c value is critical. In the upcoming labs and lessons you'll further investigate and apply these concepts."
   ]
  }
 ],
 "metadata": {
  "kernelspec": {
   "display_name": "Python 3",
   "language": "python",
   "name": "python3"
  },
  "language_info": {
   "codemirror_mode": {
    "name": "ipython",
    "version": 3
   },
   "file_extension": ".py",
   "mimetype": "text/x-python",
   "name": "python",
   "nbconvert_exporter": "python",
   "pygments_lexer": "ipython3",
   "version": "3.6.5"
  }
 },
 "nbformat": 4,
 "nbformat_minor": 2
}
