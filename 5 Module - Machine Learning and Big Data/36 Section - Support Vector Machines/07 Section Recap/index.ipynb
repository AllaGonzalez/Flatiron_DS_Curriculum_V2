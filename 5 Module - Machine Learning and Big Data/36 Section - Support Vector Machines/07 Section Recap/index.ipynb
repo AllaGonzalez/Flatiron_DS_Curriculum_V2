{
 "cells": [
  {
   "cell_type": "markdown",
   "metadata": {},
   "source": [
    "# SVM Recap\n",
    "\n",
    "## Introduction\n",
    "\n",
    "As you saw, support vector machines are another classification tool to add to your repertoire. While computationally expensive, they can be powerful tools providing substantial performance gains in many instances.\n",
    "\n",
    "## Objectives\n",
    "\n",
    "You will be able to:\n",
    "\n",
    "* Recall the importance of the c parameter for SVMs\n",
    "* Recall common kernel functions and their associated hyperparameters\n",
    "\n",
    "## Kernel Functions\n",
    "\n",
    "Probably the number one piece of information worth reviewing is some of the various kernel functions that you can apply:\n",
    "\n",
    "1. Radial Basis Functions (RBF)\n",
    "    1. `c`\n",
    "    2. $\\gamma$, which can be specified using keyword `gamma` in sci-kit learn\n",
    "2. Polynomial Kernel\n",
    "    1. $\\gamma$, which can be specified using keyword `gamma` in sci-kit learn\n",
    "    2. $r$, which can be specified using keyword `coef0` in sci-kit learn\n",
    "    3. $d$, which can be specified using keyword `degree` in sci-kit learn\n",
    "3. Sigmoid Kernel\n",
    "    1. $\\gamma$, which can be specified using keyword `gamma` in sci-kit learn\n",
    "    2. $r$, which can be specified using keyword `coef0` in sci-kit learn\n",
    "\n",
    "Also recall that in general, `c` is the parameter for balancing standard accuracy metrics for tuning classifiers versus the decision boundary distance.\n",
    "\n",
    "## Summary\n",
    "\n",
    "While it may appear that this section is a bit brief, Support Vector Machines are a powerful algorithm that deserve attention. In many cases, SVMs will have the top performance of out of the box classifiers from sci-kit learn. Moreover, learning to properly tune SVMs using kernels and an appropriate c value is critical. In the upcoming labs and lessons you'll further investigate and apply these concepts."
   ]
  }
 ],
 "metadata": {
  "kernelspec": {
   "display_name": "Python 3",
   "language": "python",
   "name": "python3"
  },
  "language_info": {
   "codemirror_mode": {
    "name": "ipython",
    "version": 3
   },
   "file_extension": ".py",
   "mimetype": "text/x-python",
   "name": "python",
   "nbconvert_exporter": "python",
   "pygments_lexer": "ipython3",
   "version": "3.6.5"
  }
 },
 "nbformat": 4,
 "nbformat_minor": 2
}
