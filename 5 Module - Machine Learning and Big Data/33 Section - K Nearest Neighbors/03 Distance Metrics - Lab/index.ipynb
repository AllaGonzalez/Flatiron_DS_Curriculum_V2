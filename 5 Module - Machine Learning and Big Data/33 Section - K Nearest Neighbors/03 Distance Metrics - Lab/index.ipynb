{
 "cells": [
  {
   "cell_type": "markdown",
   "metadata": {},
   "source": [
    "# Distance Metrics - Lab\n",
    "\n",
    "## Introduction\n",
    "\n",
    "In this lab, you'll calculate various distances between multiple points using the distance metrics you learned about!\n",
    "\n",
    "## Objectives\n",
    "\n",
    "You will be able to:\n",
    "\n",
    "* Calculate Euclidean Distance between 2 points\n",
    "* Calculate Manhattan Distance between 2 points\n",
    "* Compare and Contrast Manhattan, Euclidean, and Minkowski Distance\n",
    "\n",
    "## Getting Started\n",
    "\n",
    "To begin this lab, you'll start by writing a generalized function to calculate any of the three distance metrics you've learned about. Let's review what you know so far:\n",
    "\n",
    "## How These Distance Metrics Are Related\n",
    "\n",
    "Recall from the previous lesson that **_Manhattan Distance_** and **_Euclidean Distance_** are both just special cases of **_Minkowski Distance_**. Take a look at the formula for Minkowski Distance below:\n",
    "\n",
    "$$\\large d(x,y) = \\left(\\sum_{i=1}^{n}|x_i - y_i|^c\\right)^\\frac{1}{c}$$  \n",
    "\n",
    "**_Manhattan Distance_** is a special case where $c=1$ in the equation above (which means that you can remove the root operation and just keep the summation).  \n",
    "\n",
    "**_Euclidean Distance_** is a special case where $c=2$ in the equation above.\n",
    "\n",
    "Knowing this, you can create a generalized `distance` function that just calculates Minkowski distance, and takes in `c` as a parameter. That way, you can use the same function for every problem, and still calculate Manhattan and Euclidean distance metrics by just passing in the appropriate values for the `c` parameter!\n",
    "\n",
    "In the cell below:\n",
    "\n",
    "* Complete the `distance` function. \n",
    "* This function should take in 3 arguments:\n",
    "    * `a`, a tuple or array that describes a vector in n-dimensional space. \n",
    "    * `b`, a tuple or array that describes a vector in n-dimensional space (this must be the same length as `a`!)\n",
    "    * `c`, which tells us the norm to calculate the vector space (if set to `1`, the result will be Manhattan, while `2` will calculate Euclidean distance)\n",
    "* Since euclidean distance is the most common distance metric used, this function should default to using `c=2` if no value is set for `c`.\n",
    "* Include a parameter called `verbose` which is set to `True` by default. If true, the function should print out if the distance metric returned is a measurement of Manhattan, Euclidean, or Minkowski distance.  \n",
    "* This function should implement the Minkowski distance equation above, and return the result. \n",
    "\n",
    "**_NOTE:_**  Remember that for Manhattan Distance, you need to make use of `np.abs()` to get the absolute value of the distance for each dimension, since we don't have the squaring function to make this positive for us!\n",
    "\n",
    "**_HINT:_** Use `np.power()` as an easy way to implement both squares and square roots. `np.power(a, 3)` will return the cube of `a`, while `np.power(a, 1/3)` will return the cube root of 3. For more information on this function, see the numpy [documentation](https://docs.scipy.org/doc/numpy-1.15.1/reference/generated/numpy.power.html)!"
   ]
  },
  {
   "cell_type": "code",
   "execution_count": null,
   "metadata": {},
   "outputs": [],
   "source": [
    "import numpy as np\n",
    "\n",
    "# Complete this function! \n",
    "def distance():\n",
    "    pass\n",
    "\n",
    "test_point_1 = (1, 2)\n",
    "test_point_2 = (4, 6)\n",
    "print(distance(test_point_1, test_point_2)) # Expected Output: 5.0\n",
    "print(distance(test_point_1, test_point_2, c=1)) # Expected Output: 7.0\n",
    "print(distance(test_point_1, test_point_2, c=3)) # Expected Output: 4.497941445275415"
   ]
  },
  {
   "cell_type": "markdown",
   "metadata": {},
   "source": [
    "Great job! \n",
    "\n",
    "Now, use your function so solve some practice problems.\n",
    "\n",
    "## Problem 1:\n",
    "\n",
    "Calculate the **_Euclidean Distance_** between the following points in 5-dimensional space:\n",
    "\n",
    "Point 1: (-2, -3.4, 4, 15, 7)\n",
    "\n",
    "Point 2: (3, -1.2, -2, -1, 7)"
   ]
  },
  {
   "cell_type": "code",
   "execution_count": null,
   "metadata": {},
   "outputs": [],
   "source": [
    "   # Expected Output: 17.939899665271266"
   ]
  },
  {
   "cell_type": "markdown",
   "metadata": {},
   "source": [
    "## Problem 2:\n",
    "\n",
    "Calculate the **_Manhattan Distance_** between the following points in 10-dimensional space:\n",
    "\n",
    "Point 1: \\[0, 0, 0, 7, 16, 2, 0, 1, 2, 1\\]  \n",
    "Point 2: \\[1, -1, 5, 7, 14, 3, -2, 3, 3, 6\\]"
   ]
  },
  {
   "cell_type": "code",
   "execution_count": null,
   "metadata": {},
   "outputs": [],
   "source": [
    "   # Expected Output: 20"
   ]
  },
  {
   "cell_type": "markdown",
   "metadata": {},
   "source": [
    "## Problem 3: \n",
    "\n",
    "Calculate the **_Minkowski Distance_** with a norm of 3.5 between the following points:\n",
    "\n",
    "Point 1: (-2, 7, 3.4)\n",
    "Point 2: (3, 4, 1.5)"
   ]
  },
  {
   "cell_type": "code",
   "execution_count": null,
   "metadata": {},
   "outputs": [],
   "source": [
    "   # Expected Output: 5.268789659188307"
   ]
  },
  {
   "cell_type": "markdown",
   "metadata": {},
   "source": [
    "## Summary\n",
    "\n",
    "Great job! Now that you know how to calculate distance metrics, you can easily apply this to writing a K-Nearest Neighbors classifier from scratch!"
   ]
  }
 ],
 "metadata": {
  "kernelspec": {
   "display_name": "Python 3",
   "language": "python",
   "name": "python3"
  },
  "language_info": {
   "codemirror_mode": {
    "name": "ipython",
    "version": 3
   },
   "file_extension": ".py",
   "mimetype": "text/x-python",
   "name": "python",
   "nbconvert_exporter": "python",
   "pygments_lexer": "ipython3",
   "version": "3.6.4"
  }
 },
 "nbformat": 4,
 "nbformat_minor": 2
}
