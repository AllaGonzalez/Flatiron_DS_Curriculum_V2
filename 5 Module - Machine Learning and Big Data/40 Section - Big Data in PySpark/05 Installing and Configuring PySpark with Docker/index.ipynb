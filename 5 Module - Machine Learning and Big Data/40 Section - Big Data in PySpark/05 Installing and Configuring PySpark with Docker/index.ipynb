{
 "cells": [
  {
   "cell_type": "markdown",
   "metadata": {},
   "source": [
    "# Installing and Configuring PySpark with Docker\n",
    "\n",
    "## Introduction\n",
    "\n",
    "In addition to running on the clusters, Spark provides a simple standalone deploy mode. We can launch a standalone cluster either manually, by starting a master and workers by hand or use our provided launch scripts. It is also possible to run these daemons on a single machine for testing. In this lesson, we'll look at installing a standalone version of Spark on Windows and Mac machines. All the required tools are open source and directly downloadable from official sites referenced in the lesson. \n",
    "\n",
    "## Objectives\n",
    "You will be able to:\n",
    "- Install Docker on Windows/Mac environments\n",
    "- Install a standalone version of Spark on a local server \n",
    "- Test the spark installation by running a simple test script"
   ]
  },
  {
   "cell_type": "markdown",
   "metadata": {},
   "source": [
    "## Docker\n",
    "For this section, we shall run PySpark on a single machine in a virtualized environment using __Docker__. Docker is a container technology that allows __packaging__ and __distribution__ of software  so that it takes away the headache of things like setting up an environment, configuring logging, configuring options, etc. Docker basically removes the excuse \"*It doesn't work on my machine*\". \n",
    "\n",
    "[Visit this link learn more about docker and containers](https://www.zdnet.com/article/what-is-docker-and-why-is-it-so-darn-popular/)\n",
    "\n",
    "Spark is notoriously difficult to install, and you are welcome to try it, but it is often easier to use a virtual machine via Docker."
   ]
  },
  {
   "cell_type": "markdown",
   "metadata": {},
   "source": [
    "### Install Docker\n",
    " \n",
    " \n",
    "- Download & install Docker on Mac : https://download.docker.com/mac/stable/Docker.dmg\n",
    "- Download and install Docker on Windows:  https://hub.docker.com/editions/community/docker-ce-desktop-windows\n",
    "\n",
    "\n"
   ]
  },
  {
   "cell_type": "markdown",
   "metadata": {},
   "source": [
    "### Kitematic\n",
    "\n",
    "[\"Kitematic\"](https://kitematic.com/) allows for a \"one-click install\" of containers in Docker running on your Mac and windows and lets you control your app containers from a graphical user interface (GUI). This takes away a lot of cognitive load required to set up and configure virtual environments. *Kitematic used to be a separate program, but now it is automatically included with new versions of Docker*\n",
    "\n",
    "Once Docker is successfully installed, we need to perform the following tasks in the given sequence to create a notebook that is pyspark enabled.\n",
    "\n",
    "\n",
    "### Click on the docker toolbar on mac and select Kitematic\n",
    "\n",
    "<img src=\"./images/kite.png\" width=200>\n",
    "\n",
    "### Sign up on Docker Hub \n",
    "Upon running Kitematic, you will be asked to sign up on Docker Hub. This is optional, but it is recommended as it can allow to share your Docker containers and run them on different machines. \n",
    "\n",
    "This option can be accessed via \"My Repos\" Section in the Kitematic GUI. \n",
    " \n",
    "<img src=\"./images/hub.png\" width=400>"
   ]
  },
  {
   "cell_type": "markdown",
   "metadata": {},
   "source": [
    "### Search for `pyspark-notebook` repository, and click on the image provided by `jupyter` \n",
    "It is imperative to use the one from __jupyter__ for everything to run as expected, as there are lots of other offerings available. Once you click \"Create\" the pyspark-notebook image will start to download (it might take some time).\n",
    "\n",
    "![](./images/search.png)"
   ]
  },
  {
   "cell_type": "markdown",
   "metadata": {},
   "source": [
    "Run the image when it is downloaded, it will start an `ipython-kernel`. To run jupyter notebooks, click on the right half of kitematic where it says \"web preview\"."
   ]
  },
  {
   "cell_type": "markdown",
   "metadata": {},
   "source": [
    "![](./images/click.png)"
   ]
  },
  {
   "cell_type": "markdown",
   "metadata": {},
   "source": [
    "This will open a browser window asking you for a token ID. Go back to the kitematic and check the left bottom of the terminal-like screen for a string that says: `token?= --- ` as shown below. Copy the text after that and put it into the jupyter notebook page.\n"
   ]
  },
  {
   "cell_type": "markdown",
   "metadata": {},
   "source": [
    "![](./images/token.png)\n"
   ]
  },
  {
   "cell_type": "markdown",
   "metadata": {},
   "source": [
    "This will open a new jupyter notebook, just as we've seen before. We are now ready to program in spark!"
   ]
  },
  {
   "cell_type": "markdown",
   "metadata": {},
   "source": [
    "## Testing the installation"
   ]
  },
  {
   "cell_type": "markdown",
   "metadata": {},
   "source": [
    "In order to make sure everything went smooth, Let's run a simple script in a new jupyter notebook. "
   ]
  },
  {
   "cell_type": "markdown",
   "metadata": {},
   "source": [
    "```python\n",
    "import pyspark\n",
    "sc = pyspark.SparkContext('local[*]')\n",
    "rdd = sc.parallelize(range(1000))\n",
    "rdd.takeSample(False, 5)\n",
    "```"
   ]
  },
  {
   "cell_type": "markdown",
   "metadata": {},
   "source": [
    "If everything went fine, you should see an output like this:\n",
    "```\n",
    "[941, 60, 987, 542, 718]\n",
    "```\n",
    "\n",
    "Do not worry if you don't fully comprehend what the above code meant. Next, we will look into some basic programming principles and methods from Spark which will explain this. "
   ]
  },
  {
   "cell_type": "markdown",
   "metadata": {},
   "source": [
    "## User Docker to Complete Lessons and Labs\n",
    "The best way to use Docker to work with the labs in this section is to mount the folders containing the labs to a docker container. In order to do this, run the command:\n",
    "\n",
    "```bash\n",
    "docker run -it -p 8888:8888 -v {absolute file path}:/home/jovyan/work --rm jupyter/pyspark-notebook\n",
    "\n",
    "```\n",
    "\n",
    "Once this command has been executed, you can go through the same process as above to input the token into your browser after going to http://localhost:8888. After doing so, navigate to the folder \"work\" and execute the cell below."
   ]
  },
  {
   "cell_type": "code",
   "execution_count": null,
   "metadata": {},
   "outputs": [],
   "source": [
    "import pyspark\n",
    "sc = pyspark.SparkContext('local[*]')\n",
    "rdd = sc.parallelize(range(1000))\n",
    "rdd.takeSample(False, 5)"
   ]
  },
  {
   "cell_type": "markdown",
   "metadata": {},
   "source": [
    "## Summary \n",
    "\n",
    "In this lesson, we looked at installing Spark using a Docker container. The process is the same for both Mac and Windows-based systems. In this section, the focus will be entirely on Spark. "
   ]
  }
 ],
 "metadata": {
  "kernelspec": {
   "display_name": "Python 3",
   "language": "python",
   "name": "python3"
  },
  "language_info": {
   "codemirror_mode": {
    "name": "ipython",
    "version": 3
   },
   "file_extension": ".py",
   "mimetype": "text/x-python",
   "name": "python",
   "nbconvert_exporter": "python",
   "pygments_lexer": "ipython3",
   "version": "3.6.8"
  }
 },
 "nbformat": 4,
 "nbformat_minor": 2
}
