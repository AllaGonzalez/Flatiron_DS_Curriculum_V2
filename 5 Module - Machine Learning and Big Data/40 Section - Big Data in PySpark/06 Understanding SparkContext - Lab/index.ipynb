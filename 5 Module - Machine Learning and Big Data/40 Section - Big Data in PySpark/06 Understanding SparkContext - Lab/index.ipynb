{
 "cells": [
  {
   "cell_type": "markdown",
   "metadata": {},
   "source": [
    "# Understanding `SparkContext` - Lab\n",
    "\n",
    "## Introduction\n",
    "\n",
    "The following series of PySpark lessons and labs in this section will provide you with an introduction to **Apache Spark**, the leading framework for big data processing in jupyter notebooks and PySpark, using a PySpark docker image in a standalone mode. These lessons require you explore the spark documentation and explore and practice methods and properties which are not directly covered in the labs. In this first lesson, we'll look at creating a spark session , called a Spark Context and explore its properties. \n",
    "\n",
    "## Objectives\n",
    "\n",
    "You will be able to:\n",
    "\n",
    "* Describe Spark's parallalism with master and executor nodes\n",
    "* Understand SparkContext() for managing connections in parallel applications \n",
    "* Provide an overview of major SparkContext() properties and methods\n",
    "\n",
    "## Cluster Resource Manager\n",
    "\n",
    "Spark comes bundled with a **Cluster Resource Manager** which divides and shares the physical resources of a cluster of machines between multiple Spark applications. Spark's **Standalone cluster manager** operates in the standalone mode and allows Spark to manage its own cluster on a local machine. We will mainly use the standalone cluster manager for resource allocation in these labs. \n",
    "\n",
    "\n",
    "In Spark computational model, communication routinely occurs between a **driver** and **executors**. The driver has Spark jobs that it needs to run and these jobs are split into tasks that are submitted to the workers for completion. The results from these tasks are delivered back to the driver. \n",
    "\n",
    "This image, taken from the [Spark documentation](https://spark.apache.org/docs/latest/spark-standalone.html) demonstrates this process well.\n",
    "\n",
    "![](./images/cluster.png)\n",
    "\n",
    "\n",
    "The spark driver declares the transformations and actions on data and submits such requests to the **master**. \n",
    "\n",
    "> The machine on which the Spark cluster manager runs is called the **Master Node**. \n",
    "\n",
    "For our labs, this distributed arrangement will be simulated on a single machine allowing you to initialize master and worker nodes. "
   ]
  },
  {
   "cell_type": "markdown",
   "metadata": {},
   "source": [
    "## `SparkContext()`\n",
    "\n",
    "In order to use Spark and its API we will need to use a **SparkContext**. SparkContext is how we are able to control what is happening in the Spark program from python. When we run any Spark application, a driver program starts, which has the main function and your SparkContext gets initiated here. The driver program then runs the operations inside the executors on worker nodes as shown above.\n",
    "\n",
    "SparkContext uses Py4J to create a bridge between python and java, the language spark is built with. Even though all the code we'll be executing is in python, java is the code being executed underneath the hood in a JavaSparkConext. You'll see in error messages that they will frequently contain errors related specifically to Java. \n",
    "\n",
    "*Py4j provides a bridge between python and Java. [Click here](https://www.py4j.org/) to see more details on this. Here is a visual representation of how SparkContext functions found in the [Apache documentation](https://cwiki.apache.org/confluence/display/SPARK/PySpark+Internals)* \n",
    "\n",
    "![](./images/spark_context.png)\n",
    "\n",
    "Spark applications driver program launches parallel operations on executor Java Virtual Machines (JVMs). This can occur either locally on a single machine using multiple cores to create parallel processing or across a cluster of computers that are controlled by a master computer. When running locally, \"PySparkShell\" is the driver program. The driver program contains the key instructions for the program and it determines how to best distribute datasets across the cluster and apply operations to those datasets.\n",
    "\n",
    "The key takeaways for SparkContext are listed below:\n",
    "\n",
    "- SparkContext is a client of Spark’s execution environment and it acts as the master of the Spark application.\n",
    "- SparkContext sets up internal services and establishes a connection to a Spark execution environment. \n",
    "- The driver is the program that creates the SparkContext, connecting to a given Spark Master. \n",
    "\n",
    "After creation, SparkContext asks the master for some cores to use to do work. The master sets these cores aside and they are used to complete whatever operation they are assigned to do. You can visualize the setup in the figure below:\n",
    "\n",
    "<img src =\"./images/spark_master_workers.png\" width=\"280\">\n",
    "\n",
    "This image depicts the worker nodes at work. Every worker has 4 cores to work with, and the master allocates tasks to run on certain cores within each worker node."
   ]
  },
  {
   "cell_type": "markdown",
   "metadata": {},
   "source": [
    "As stated before, a SparkContext object (usually shown as `sc`) is the main entry point for Spark functionality and can be used to create `Resilient Distributed Datasets` (RDDs) on a cluster as we will see in our next lab.\n",
    "\n",
    "Lets start a spark application by importing pyspark, creating a spark context as `sc` and try printing out type of `sc`. For this SparkContext, we are going to assign the `master` parameter to 'local[ * ]' to indicate that we are running this SparkContext to be parallelized on our local machine.\n"
   ]
  },
  {
   "cell_type": "code",
   "execution_count": 12,
   "metadata": {},
   "outputs": [],
   "source": [
    "# Create a local spark context with pyspark\n",
    "import pyspark\n",
    "sc = pyspark.SparkContext('local[*]')"
   ]
  },
  {
   "cell_type": "code",
   "execution_count": 13,
   "metadata": {},
   "outputs": [
    {
     "data": {
      "text/plain": [
       "pyspark.context.SparkContext"
      ]
     },
     "execution_count": 13,
     "metadata": {},
     "output_type": "execute_result"
    }
   ],
   "source": [
    "# Display the type of the Spark Context\n",
    "type(sc)\n",
    "\n",
    "# pyspark.context.SparkContext"
   ]
  },
  {
   "cell_type": "code",
   "execution_count": null,
   "metadata": {},
   "outputs": [],
   "source": [
    "# Create second spark context\n",
    "sc1 = pyspark.SparkContext('local[*]')"
   ]
  },
  {
   "cell_type": "markdown",
   "metadata": {},
   "source": [
    "As you can see, only one SparkContext can be created within a python kernel at once!"
   ]
  },
  {
   "cell_type": "markdown",
   "metadata": {},
   "source": [
    "### SparkContext attributes\n",
    "\n",
    "We can use Python's `dir()` function to get a list of all the attributes (including methods) accessible through the `sc` object."
   ]
  },
  {
   "cell_type": "code",
   "execution_count": 1,
   "metadata": {
    "scrolled": true
   },
   "outputs": [],
   "source": [
    "# Use Python's dir(obj) to get a list of all attributes of SparkContext\n",
    "\n",
    "# Code here \n",
    "\n"
   ]
  },
  {
   "cell_type": "markdown",
   "metadata": {},
   "source": [
    "Alternatively, you can use Python's `help()` function to get an easier to read list of all the attributes, including examples, that the sc object has."
   ]
  },
  {
   "cell_type": "code",
   "execution_count": 2,
   "metadata": {},
   "outputs": [],
   "source": [
    "# Use Python's help ( help(object) ) function to get information on attributes and methods for sc object. \n",
    "\n",
    "\n",
    "# Code here \n"
   ]
  },
  {
   "cell_type": "markdown",
   "metadata": {},
   "source": [
    "You should also have a look at [Spark's SparkContext Documentation Page](https://spark.apache.org/docs/0.6.0/api/core/spark/SparkContext.html) to explore these in further detail.\n",
    "\n",
    "Let's try to check a few spark context attributes including `SparkContext.version` and `SparkContext.defaultParalellism` to check the current version of Apache Spark and number of cores being used for parallel processing."
   ]
  },
  {
   "cell_type": "code",
   "execution_count": 3,
   "metadata": {},
   "outputs": [],
   "source": [
    "# Check the number of cores being used\n",
    "\n",
    "# Code here \n",
    "\n",
    "# Check for the current version of Spark\n",
    "\n",
    "# Code here \n",
    "\n",
    "\n",
    "\n",
    "# Default number of cores being used: 2\n",
    "# Current version of Spark: 2.3.1"
   ]
  },
  {
   "cell_type": "markdown",
   "metadata": {},
   "source": [
    "Let's also check the name of current application by using `SparkContext.appName` attribute. "
   ]
  },
  {
   "cell_type": "code",
   "execution_count": 5,
   "metadata": {},
   "outputs": [
    {
     "data": {
      "text/plain": [
       "'pyspark-shell'"
      ]
     },
     "execution_count": 5,
     "metadata": {},
     "output_type": "execute_result"
    }
   ],
   "source": [
    "# Check the name of application currently running in spark environment\n",
    "\n",
    "\n",
    "# Code here \n",
    "\n",
    "\n",
    "# 'pyspark-shell'"
   ]
  },
  {
   "cell_type": "markdown",
   "metadata": {},
   "source": [
    "We can access complete configuration settings (including all defaults) for the current spark context using `_conf.getAll()` method. "
   ]
  },
  {
   "cell_type": "code",
   "execution_count": 4,
   "metadata": {},
   "outputs": [],
   "source": [
    " # Get all configuration settings\n",
    "\n",
    "# Code here \n",
    "\n",
    "# [('spark.driver.port', '36035'),\n",
    "#  ('spark.rdd.compress', 'True'),\n",
    "#  ('spark.driver.host', '588b1d2e9e9b'),\n",
    "#  ('spark.serializer.objectStreamReset', '100'),\n",
    "#  ('spark.master', 'local[*]'),\n",
    "#  ('spark.executor.id', 'driver'),\n",
    "#  ('spark.submit.deployMode', 'client'),\n",
    "#  ('spark.ui.showConsoleProgress', 'true'),\n",
    "#  ('spark.app.name', 'pyspark-shell'),\n",
    "#  ('spark.app.id', 'local-1545010504175')]"
   ]
  },
  {
   "cell_type": "markdown",
   "metadata": {},
   "source": [
    "A Spark Context can be shut down using `SparkContext.stop()` method. Let's use this method to shut down the current spark context. "
   ]
  },
  {
   "cell_type": "code",
   "execution_count": 6,
   "metadata": {},
   "outputs": [],
   "source": [
    "#Shut down SparkContext\n",
    "\n",
    "# Code here"
   ]
  },
  {
   "cell_type": "markdown",
   "metadata": {},
   "source": [
    "Once shut down, you can no longer access spark functionality before starting a new SparkContext. "
   ]
  },
  {
   "cell_type": "markdown",
   "metadata": {},
   "source": [
    "## Additional Resources\n",
    "\n",
    "- [Apache Spark Context](https://data-flair.training/blogs/learn-apache-spark-sparkcontext/)"
   ]
  },
  {
   "cell_type": "markdown",
   "metadata": {},
   "source": [
    "## Summary\n",
    "\n",
    "In this short lab, we saw how SparkContext is used as an entry point to Spark applications. We learned how to start a SparkContext, how to list and use some of the attributes and methods in SparkContext and how to shut it down. Students are encouraged to explore other attributes and methods offered by the sc object. Some of these, namely creating and transforming datasets as RDDs will be explored in later labs. "
   ]
  }
 ],
 "metadata": {
  "kernelspec": {
   "display_name": "Python 3",
   "language": "python",
   "name": "python3"
  },
  "language_info": {
   "codemirror_mode": {
    "name": "ipython",
    "version": 3
   },
   "file_extension": ".py",
   "mimetype": "text/x-python",
   "name": "python",
   "nbconvert_exporter": "python",
   "pygments_lexer": "ipython3",
   "version": "3.6.8"
  }
 },
 "nbformat": 4,
 "nbformat_minor": 2
}
