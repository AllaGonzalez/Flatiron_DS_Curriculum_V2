{
 "cells": [
  {
   "cell_type": "markdown",
   "metadata": {},
   "source": [
    "# Section Recap"
   ]
  },
  {
   "cell_type": "markdown",
   "metadata": {},
   "source": [
    "## Introduction\n",
    "\n",
    "In this section, you learned about the challenges of working with big data and the need for distributed computing languages like Apache Spark."
   ]
  },
  {
   "cell_type": "markdown",
   "metadata": {},
   "source": [
    "## Objectives\n",
    "You will be able to:\n",
    "\n",
    "* Describe the key components of Spark and the Big Data ecosystem\n",
    "* Perform analyses using Spark"
   ]
  },
  {
   "cell_type": "markdown",
   "metadata": {},
   "source": [
    "## Key Takeaways\n",
    "\n",
    "The key takeaways from this section include:\n",
    "\n",
    "* Big Data usually refers to datasets that grow so large that they become awkward to work with using traditional database management systems and analytical approaches\n",
    "* Big data refers to data that is terabytes (TB) to petabytes (PB) in size\n",
    "* Map-Reduce can be used to split big data sets up in smaller sets to be distributed over several machines to deal with Big Data Analytics.\n",
    "* Before starting to work, you need to install Docker and Kinematic on your environment\n",
    "* Make sure to test your installation so you're sure everything is working\n",
    "* When you start working with PySpark, you have to create a `SparkContext()`.\n",
    "* The creation or RDDs is essential when working with PySpark\n",
    "* Examples of actions and transformations include `collect()`, `count()`, `filter()`, `first()`, `take()`, and `reduce()`.\n",
    "* Machine Learning on the scale of big data can be done with Spark using the `ml` library\n"
   ]
  }
 ],
 "metadata": {
  "kernelspec": {
   "display_name": "Python 3",
   "language": "python",
   "name": "python3"
  },
  "language_info": {
   "codemirror_mode": {
    "name": "ipython",
    "version": 3
   },
   "file_extension": ".py",
   "mimetype": "text/x-python",
   "name": "python",
   "nbconvert_exporter": "python",
   "pygments_lexer": "ipython3",
   "version": "3.6.5"
  }
 },
 "nbformat": 4,
 "nbformat_minor": 2
}
