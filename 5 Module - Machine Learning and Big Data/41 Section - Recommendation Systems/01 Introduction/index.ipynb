{
 "cells": [
  {
   "cell_type": "markdown",
   "metadata": {},
   "source": [
    "# Introduction"
   ]
  },
  {
   "cell_type": "markdown",
   "metadata": {},
   "source": [
    "## Introduction\n",
    "In this section, you'll learn about machine learning algorithms that we encounter every day of our lives:  recommendation systems! "
   ]
  },
  {
   "cell_type": "markdown",
   "metadata": {},
   "source": [
    "## Objectives\n",
    "You will be able to:\n",
    "* Understand and explain what is covered in this section\n",
    "* Understand and explain why the section will help you to become a data scientist"
   ]
  },
  {
   "cell_type": "markdown",
   "metadata": {},
   "source": [
    "## Developing a Recommendation System in PySpark\n",
    "\n",
    "In this section you'll learn about recommendation system modeling approaches and you'll even build your own recommendation system in PySpark! \n",
    "\n",
    "\n",
    "### Introduction to Recommendation Systems\n",
    "\n",
    "A recommendation system allows predicting the future preference list for a certain customer or user, and recommends the top preference for this user. Examples include: which books should be bought on amazon, which netflix movies or series should be watched, etc. You'll learn about several different types of recommendation system algorithms and how they work.\n",
    "\n",
    "\n",
    "### Collaborative Filtering with Singular Value Decomposition\n",
    "\n",
    "Collaborative Filtering (CF) is currently most widely used approach to build recommendation systems. Collaborative Filtering often uses Matrix Factorization under the hood, which you'll learn about in this section.\n",
    "\n",
    "### Implementing Recommender Systems with Surprise\n",
    "\n",
    "Surprise is a library that is optimized to efficiently create recommendations. You'll get a chance to use this library to code up different implementations of collaborative filtering recommendation systems.\n",
    "\n",
    "### Matrix Factorization with Alternating Least Squares\n",
    "\n",
    "We'll also look at another Matrix Factorization Technique called Alternating Least Squares (ALS). This method can prove to be much more effective and robust than SVD. You'll also learn how ALS is implemented in Spark's machine learning library `ml`.\n",
    "\n",
    "### Building a Recommendation System in PySpark\n",
    "\n",
    "As a last step, you'll build your own recommendation system in PySpark using the MovieLens rating dataset!\n"
   ]
  },
  {
   "cell_type": "markdown",
   "metadata": {},
   "source": [
    "## Summary\n",
    "\n",
    "In this section, you'll learn the basics of recommendation systems and how to implement them in Surprise and Spark!"
   ]
  }
 ],
 "metadata": {
  "kernelspec": {
   "display_name": "Python 3",
   "language": "python",
   "name": "python3"
  },
  "language_info": {
   "codemirror_mode": {
    "name": "ipython",
    "version": 3
   },
   "file_extension": ".py",
   "mimetype": "text/x-python",
   "name": "python",
   "nbconvert_exporter": "python",
   "pygments_lexer": "ipython3",
   "version": "3.6.5"
  }
 },
 "nbformat": 4,
 "nbformat_minor": 2
}
