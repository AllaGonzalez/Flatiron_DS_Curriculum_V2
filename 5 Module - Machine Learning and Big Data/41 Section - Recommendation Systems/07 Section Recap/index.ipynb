{
 "cells": [
  {
   "cell_type": "markdown",
   "metadata": {},
   "source": [
    "# Section Recap"
   ]
  },
  {
   "cell_type": "markdown",
   "metadata": {},
   "source": [
    "## Introduction\n",
    "\n",
    "Congratulations, you just finished learning about and implementing recommendation systems! In this lesson, you'll get a brief recap of what you covered in the recommendation section. "
   ]
  },
  {
   "cell_type": "markdown",
   "metadata": {},
   "source": [
    "## Objectives\n",
    "You will be able to:\n",
    "* Understand and explain what was covered in this section\n",
    "* Understand and explain why this section will help you become a data scientist"
   ]
  },
  {
   "cell_type": "markdown",
   "metadata": {},
   "source": [
    "## Key Takeaways\n",
    "\n",
    "The key takeaways from this section include:\n",
    "\n",
    "* Recommendation approaches can consist of simply recommending popular items (without personalization), or using algorithms which takes into account past customer behavior\n",
    "* When using algorithms, the two main types are content-based algorithms (recommending new content based on similar _content_), or collaborative filtering based (recommending new content based on similar types of _users_)\n",
    "* Collaborative Filtering (CF) is currently the most widely used approach to build recommendation systems\n",
    "* The key idea behind CF is that similar users have similar interests and that a user generally likes items that are similar to other items they like\n",
    "* CF is filling an \"empty cell\" in the utility matrix based on the similarity between users or item. Matrix Factorization or Decomposition can help us solve this problem  by determining what the overall \"topics\" are when a matrix is factored\n",
    "* Matrix Decomposition can be reformulated as an optimization problem with loss functions and constraints\n",
    "* Matrix Decomposition can be done using either Singular Value Decomposition (SVD) or Alternating Least Squares (ALS)\n",
    "* Spark's ALS implementation can be used to build a scalable and efficient recommendation system"
   ]
  },
  {
   "cell_type": "markdown",
   "metadata": {},
   "source": [
    "# Summary\n",
    "\n",
    "You've really only scratched the surface of what it is possible to accomplish with recommendation systems, as there are more and more advanced recommendation systems coming out every day using hybrid and deep learning approaches. You can apply the skills you've learned related to recommendation systems to almost any industry."
   ]
  }
 ],
 "metadata": {
  "kernelspec": {
   "display_name": "Python 3",
   "language": "python",
   "name": "python3"
  },
  "language_info": {
   "codemirror_mode": {
    "name": "ipython",
    "version": 3
   },
   "file_extension": ".py",
   "mimetype": "text/x-python",
   "name": "python",
   "nbconvert_exporter": "python",
   "pygments_lexer": "ipython3",
   "version": "3.6.5"
  }
 },
 "nbformat": 4,
 "nbformat_minor": 2
}
