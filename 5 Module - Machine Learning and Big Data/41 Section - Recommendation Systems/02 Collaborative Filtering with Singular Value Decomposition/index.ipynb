{
 "cells": [
  {
   "cell_type": "markdown",
   "metadata": {},
   "source": [
    "# Collaborative Filtering with Singular Value Decomposition\n",
    "\n",
    "## Introduction\n",
    "\n",
    "Recommendation Systems apply IR (Information Retrieval techniques) to select some information relevant to a given user. __Collaborative Filtering (CF)__ is currently the most widely used approach to build recommendation systems and uses the users’ behavior in the form of user-item ratings for predictions. CF often uses __Matrix Factorization (MF)__ under the hood. In this lesson, we will look at an overview of the role of the Matrix Factorization model to address the implementation of CF with __Singular Value Decomposition (SVD)__.\n",
    "\n",
    "## Objectives\n",
    "You will be able to:\n",
    "- Understand collaborative filtering and how it differs from other simpler approaches \n",
    "- Describe the problem of developing a recommendation system using matrix factorization\n",
    "- Develop an intuition around how SIngular Value Decomposition can be used to predict unknown values in a utility matrix\n",
    "- Practice SVD in python and SciPy"
   ]
  },
  {
   "cell_type": "markdown",
   "metadata": {},
   "source": [
    "## Collaborative Filtering\n",
    "\n",
    "Collaborative filtering is a method of making automatic predictions (i.e. filtering) about the interests of a user by collecting preferences or taste information from many users on the aggregate (i.e. collaborating). There are two main approaches to Collaborative Filter that we will learn about. The basic idea behind collaborative filtering model is:\n",
    "\n",
    "- Predict a numerical value expressing the predicted score of an item for a user. The predicted value should be  within the same scale that is used by all users for the rating (i.e. the number of stars or rating between 0-5).\n",
    "\n",
    "- Recommend a list of Top-N items that the active user will like the most based on the highest predicted ratings for the items that they have not yet seen\n",
    "\n",
    "Here is a representation of that last bullet point:  \n",
    "\n",
    "<img src = \"./images/making_recommendations.png\">  \n",
    "\n",
    "These recommendations can be acquired with two broad categories of recommender algorithms:\n",
    "\n",
    "* Memory-Based also known as Neighborhood-Based\n",
    "* Model-Based approaches\n",
    "\n",
    "## Memory-Based / Neighborhood-Based Collaborative Filtering\n",
    "\n",
    "Remember that the key idea behind Collaborative Filtering is that similar users share similar interests and that users tend to like items that are similar to one another. With neighborhood-based collaborative filtering methods, you're attempting to quantifying just how similar users and items are to one another and getting the top N recommendations based on that similarity metric.\n",
    "\n",
    "Let's look at the explicit utility matrix we saw in a previous lesson. Below the first utility matrix, we'll also have at a version of the matrix with _implicit_ data, which assumes that we do not have a rating for each movie, we only know whether or not someone has watched the movie. \n",
    "\n",
    "*Explicit Ratings*:\n",
    "\n",
    "|        | Toy Story | Cinderella | Little Mermaid | Lion King |\n",
    "|--------|-----------|------------|----------------|-----------|\n",
    "| Matt   |           | 2          |                | 5         |\n",
    "| Lore   | 2         |            | 4              |           |\n",
    "| Mike   |           | 5          | 3              | 2         |\n",
    "| Forest | 5         |            | 1              |           |\n",
    "| Taylor | 1         | 5          |                | 2         |\n",
    "\n",
    "*Implicit Ratings*\n",
    "\n",
    "|        | Toy Story | Cinderella | Little Mermaid | Lion King |\n",
    "|--------|-----------|------------|----------------|-----------|\n",
    "| Matt   |           | 1          |                | 1         |\n",
    "| Lore   | 1         |            | 1              |           |\n",
    "| Mike   |           | 1          | 1              | 1         |\n",
    "| Forest | 1         |            | 1              |           |\n",
    "| Taylor | 1         | 1          |                | 1         |\n",
    "\n",
    "When dealing with utility matrices, there are two different ways to go about determining similarity within the utility matrix. \n",
    "\n",
    "\n",
    "\n",
    "* Item-based: measure the similarity between the items that target users rates/ interacts with and other items\n",
    "* User-based: measure the similarity between target users and other users\n",
    "\n",
    "Before we dive into the differences between these two methods, let's look at what these similarity metrics are, and how they are related to the final score prediction.\n",
    "\n",
    "### Similarity Metrics:\n",
    "\n",
    "**Pearson Correlation**: Is a commonly used method for computing similarity. It ranges from [-1, 1] and it represents the linear correlation between two vectors. A correlation value of 0 represents no relationship, -1 represents a high negative correlation and +1 represents high positive correlation. This similarity metric only takes into account those items that are rated by both individuals. The Pearson correlation is great because it takes into account\n",
    "\n",
    "### $$ \\text{pearson correlation}(u,v) = \\frac{\\sum_{i \\in I_{uv}}{(r_{ui}- \\mu_{u})*(r_{vi}- \\mu_{v})}}{\\sqrt{\\sum_{i \\in I_{uv} }{(r_{ui}-\\mu_{u})^{2}  }}  * \\sqrt{\\sum_{i \\in I_{uv} }{(r_{vi}-\\mu_{v})^{2}  }}} $$\n",
    "\n",
    "\n",
    "**Cosine Similarity**: Determines how vectors are related to each other by measuring the cosine angle between two vectors. The value also ranges from [-1,1], with -1 meaning that the two vectors are diametrically opposed, 0 meaning the two vectors are perpendicular to one another, and 1 meaning that the vectors are the same. Here is the formula in the context of user similarity:\n",
    "\n",
    "### $$ \\text{cosine similarity}(u,v) = \\frac{\\sum_{i \\in I_{uv}}{r_{ui}*r_{vi}}}{\\sqrt{\\sum_{i \\in I_{uv} }{r_{ui}^{2}  }}  * \\sqrt{\\sum_{i \\in I_{uv} }{r_{ui}^{2}  }}} $$\n",
    "\n",
    "where u is a user and v is another user being compared to u. i represents each item being rated. I is the entire item set.\n",
    "\n",
    "**Jaccard Similarity**: Uses the number of preferences in common between two users into account. Importantly, it does not take the actual values of the ratings into account, only whether or not users have rated the same items. In other words, all explicit ratings are effectively turned into values of 1 when using the Jaccard Similarity metric.\n",
    "\n",
    "\n",
    "### $$ \\text{Jaccard Similarity}(u,v) = \\frac{I_{u} \\cup I_{v}}{I_{u} \\cap I_{v}}$$\n",
    "\n",
    "### Calculating a Predicted Rating\n",
    "\n",
    "Once these similarities have been calculated, the ratings are calculated essentially as a weighted average of the k most similar neighbors. For example, if trying to   is that the values of the individual ratings can be calculated as \n",
    "$$ r_{ij} = \\frac{\\sum_{k}{Similarities(u_i,u_k)r_{kj}}}{\\text{number of ratings}} $$\n",
    "\n",
    "\n",
    "\n",
    "#### Item-item filtering  \n",
    "When someone looks at the similarity of one vector of an items ratings from every user and compares it to every other item. Now, the most similar items can be recommended to those that a customer has liked. This is similar to a content-based recommendation, except we are not looking at any actual characteristics of items. We are merely looking at who has liked an item and compared it to who has liked other items. Let's look at this in a table with the similarity metric as the Jaccard Index. To start off with, let's compare Toy Story and Cinderella. The union of everyone that has liked both movies is 5 and the intersection of the two movies is 1 (we can see that Taylor liked both Toy Story and Cinderella. The rest of the similarities have been filled in.\n",
    "\n",
    "\n",
    "\n",
    "|                | Toy Story | Cinderella | Little Mermaid | Lion King |\n",
    "|----------------|-----------|------------|----------------|-----------|\n",
    "| Toy Story      |           | 1 /  5     |    2 / 4       |   1/5     |\n",
    "| Cinderella     | 1/5       |            |   1/5          |    1      |\n",
    "| Little Mermaid | 2/4       |   1/5      |                |  1/5      |\n",
    "| Lion King      | 1/5       |     1      |  1/5           |           |\n",
    "\n",
    "\n",
    "\n",
    "\n",
    "\n",
    "\n",
    "#### User-User filtering.\n",
    "The other method of collaborative filtering is to see similar customers are to one another. Once we've determined how similar customers are to one another, we can recommend items to them that are liked by the other customers that are most similar to them. Similar to the above table, here is a similarity table for each of the users, made by taking their Jaccard similarity to one another. The process of calculating the Jaccard index is the same when comparing the users except now we are comparing how each user voted compared to one another.\n",
    "\n",
    "\n",
    "\n",
    "|        | Matt | Lore | Mike | Forest | Taylor |\n",
    "|--------|------|------|------|--------|--------|\n",
    "| Matt   |      |  0   |  2/3 |  0     |   2/3  |\n",
    "| Lore   |  0   |      | 2/4  |  2/2   |   2/4  |\n",
    "| Mike   |  2/3 | 1/4  |      |  1/4   |   2/4  |\n",
    "| Forest |  0   | 2/2  | 1/4  |        |   1/4  |\n",
    "| Taylor |  2/3 | 2/4  | 2/4  |  1/4   |        |\n",
    "\n",
    "\n",
    "\n"
   ]
  },
  {
   "cell_type": "markdown",
   "metadata": {},
   "source": [
    "Here is a simple visual example of how these two different comparisons work in the context of buying vegetables in a store. The the left item-based collaborative filtering method, we are trying to come up with a recommendation for Mr. Purple. He knows that he likes carrots, so he wants an item similar to that. To determine the most similar item, we can see what items were rated by other users who __also__ liked carrots. Mr. Green and Ms. Yellow both liked carrots, and they also both liked radishes, making radishes the most similar item, and the one we would recommend to Mr. Purple.  \n",
    "\n",
    "A similar process is conducted for the user-based filtering if we were trying to make a recommendation for Ms. Yellow. The most similar user to her is Ms. Blue, so we would recommend the item or items that Ms. Blue likes.  \n",
    "\n",
    "\n",
    "<img src = \"./images/item_user_based.png\">"
   ]
  },
  {
   "cell_type": "markdown",
   "metadata": {},
   "source": [
    "## Model-Based Collaborative Filtering \n"
   ]
  },
  {
   "cell_type": "markdown",
   "metadata": {},
   "source": [
    "Matrix Factorization models are based on the concept of the __Latent Variable Model__. \n",
    "\n",
    "### Latent Variable Model \n",
    "\n",
    "Latent variable models try to explain complex relationships between several variables by way of simple relationships between variables and underlying \"latent\" variables. If this sounds extremely similar to the ideas we established in Dimensionality Reduction and PCA, it's because it is very similar...it's just that the exact implementation is a bit different.\n",
    "\n",
    "\n",
    "With latent variable models, we have some number of observable variables (the features from our dataset) and a collection of unobservable latent variables. These latent variables should be capable of explaining the relationships of them to one another such that the observable variables are conditionally independent given the latent variables. \n",
    "\n",
    "\n",
    "The Matrix Factorization approach is found to be the most accurate approach to reduce the problem from high levels of  sparsity in RS database as all users do not buy all products and services and our utility matrix remains highly sparse. If people had already rated every item, it would be unnecessary to recommend them anything! In the model-based recommendations,  techniques like __Latent Semantic Index (LSI)__,  and the dimensionality reduction method __Singular Value Decomposition (SVD)__ are typically combined to get rid of sparsity. Below is an example of a sparse matrix, which can lead to the problems highlighted earlier in the PCA section. \n",
    "\n",
    "$$\\begin{pmatrix}\n",
    "2&0&0&0&0&6&0&0&0\\\\\n",
    "0&5&0&0&0&0&1&0&0\\\\\n",
    "0&0&0&3&0&0&0&0&0\\\\\n",
    "1&0&0&4&0&0&0&0&0\\\\\n",
    "0&0&0&0&9&0&0&0&0\\\\\n",
    "0&0&0&3&0&2&0&0&0\\\\\n",
    "0&0&8&0&0&0&0&0&0\\\\\n",
    "0&9&0&0&0&4&0&0&0\\\\\n",
    "0&1&0&0&0&0&0&0&0\n",
    "\\end{pmatrix}$$\n",
    "\n",
    "\n",
    "Let's look at how a recommendation problem can be translated into a matrix decomposition context. The idea behind such models is that the preferences of users can be determined by a small number of hidden factors. We can call these factors Embeddings.\n",
    "\n",
    "<img src = \"./images/matrix_decomp.png\" >\n",
    "\n"
   ]
  },
  {
   "cell_type": "markdown",
   "metadata": {},
   "source": [
    "\n",
    "\n",
    "### Embeddings:\n",
    "Embeddings are __low dimensional hidden factors__ for items and users. \n",
    "\n",
    "For e.g. say we have 5 dimensional (i.e. D or n_factors = 5 in the above figure) embeddings for both items and users (5 chosen randomly, this could be any number - as we saw with PCA and dim. reduction). \n",
    "\n",
    "For user-X & movie-A, we can say those 5 numbers might represent 5 different characteristics about the movie e.g.:\n",
    "\n",
    "- How much movie-A is political\n",
    "- How recent is the movie \n",
    "- How much special effects are in movie A \n",
    "- How dialogue driven is the movie \n",
    "- How linear is the narrative in the movie\n",
    "\n",
    "In a similar way, 5 numbers in the user embedding matrix might represent:\n",
    "- How much does user-X like sci-fi movies \n",
    "- How much does user-X like recent movies … and so on.\n",
    "\n",
    "Now the big question is, how do we obtain these embedding matrices? One of the most common factorization techniques in the context of recommender systems is Singular Value Decomposition."
   ]
  },
  {
   "cell_type": "markdown",
   "metadata": {},
   "source": [
    "## Singular Value Decomposition\n",
    "\n",
    "__Singular-Value Decomposition__ or SVD is a common and widely used matrix decomposition method. All matrices are able to be factored using an SVD, which makes it more stable than other methods, such as the eigendecomposition. As such, it is often used in a wide array of applications including compression and data reduction.\n",
    "\n",
    "In simple terms, SVD is the factorization of a matrix into 3 matrices. So if we have a matrix A, then its SVD is represented by the equation:\n",
    "\n",
    "$$ A = U\\Sigma V^T$$\n",
    "\n",
    "Where $A$ is an $n x d$ matrix, $U$ is an $(n x r)$ orthogonal matrix, $𝚺$ is an $(r x r)$ nonnegative rectangular diagonal matrix, and $V$ is an $(r x d)$ orthogonal matrix.\n",
    "$U$ is also referred to as the __left singular vectors__, 𝚺 the __singular values__, and V the __right singular vectors__. "
   ]
  },
  {
   "cell_type": "markdown",
   "metadata": {},
   "source": [
    "This decomposition can be viewed in the following illustration:  \n",
    "\n",
    "\n",
    "<img src = \"./images/auevt.png\" width = \"600\">"
   ]
  },
  {
   "cell_type": "markdown",
   "metadata": {},
   "source": [
    "Where $V$ is a rotation, $𝚺$ a stretching and $U$ another rotation. Also, the entries of $U$ are the principal axis while $𝚺$ are the singular values.\n",
    "\n",
    "This is how you can decompose a matrix into three lower rank matrices.  \n",
    "\n",
    "> __SVD decreases the dimension of the utility matrix by extracting its latent factors.__ \n",
    "\n",
    "Essentially, we map each user and each item into a latent space with lower dimension. Therefore, it helps us better understand the relationship between users and items as they become directly comparable. \n"
   ]
  },
  {
   "cell_type": "markdown",
   "metadata": {},
   "source": [
    "### SVD and Recommendations\n",
    "\n",
    "With SVD, we turn the recommendation problem into an __Optimization__ problem that deals with how good we are in predicting the rating for items given a user. One common metric to achieve such optimization is __Root Mean Square Error (RMSE)__. A lower RMSE is indicative of improved performance and vice versa. RMSE is minimized on the known entries in the utility matrix. SVD has a great property that it has the minimal reconstruction Sum of Square Error (SSE); therefore, it is also commonly used in dimensionality reduction. Below is the formula to achieve this:\n",
    "\n",
    "$$min_{UV\\Sigma}\\sum_{i,j∈A}(A_{ij} - [UV\\Sigma^T]_{ij})^2$$\n",
    "\n",
    "\n",
    "RMSE and SSE are monotonically related. This means that the lower the SSE, the lower the RMSE. With the convenient property of SVD that it minimizes SSE, we know that it also minimizes RMSE. Thus, SVD is a great tool for this optimization problem. To predict the unseen item for a user, we simply multiply U, V, and $\\Sigma^{T}$.\n"
   ]
  },
  {
   "cell_type": "markdown",
   "metadata": {},
   "source": [
    "### SVD in Python\n",
    "\n",
    "Scipy has a straightforward implementation of SVD to help us avoid all the complex steps of SVD. We can use the `svds()` function to decompose a matrix as shown below. We ill use `csc_matrix()` to create a sparse matrix object. "
   ]
  },
  {
   "cell_type": "code",
   "execution_count": 48,
   "metadata": {},
   "outputs": [
    {
     "name": "stdout",
     "output_type": "stream",
     "text": [
      "A:\n",
      " [[1. 0. 0.]\n",
      " [5. 0. 2.]\n",
      " [0. 1. 0.]\n",
      " [0. 0. 3.]\n",
      " [4. 0. 9.]]\n",
      "=\n",
      "\n",
      "U:\n",
      " [[-2.21829477e-01 -4.58445949e-02]\n",
      " [-8.50288016e-01 -3.86369035e-01]\n",
      " [ 4.87744646e-17  1.10191534e-17]\n",
      " [ 3.88289052e-01 -2.35719092e-01]\n",
      " [ 2.77549248e-01 -8.90535654e-01]]\n",
      "\n",
      "Σ:\n",
      " [ 3.89366418 10.99269663]\n",
      "\n",
      "V.T:\n",
      " [[-8.63729488e-01  1.89911386e-16  5.03955724e-01]\n",
      " [-5.03955724e-01  1.21130211e-16 -8.63729488e-01]]\n"
     ]
    }
   ],
   "source": [
    "from scipy.sparse import csc_matrix\n",
    "from scipy.sparse.linalg import svds\n",
    "\n",
    "# Create a sparse matrix \n",
    "A = csc_matrix([[1, 0, 0], [5, 0, 2], [0, 1, 0], [0, 0, 3],[4,0,9]], dtype=float)\n",
    "\n",
    "# Apply SVD\n",
    "u, s, vt = svds(A, k=2) # k is the number of stretching factors\n",
    "\n",
    "print ('A:\\n', A.toarray())\n",
    "print ('=')\n",
    "print ('\\nU:\\n', u)\n",
    "print ('\\nΣ:\\n', s)\n",
    "print ('\\nV.T:\\n', vt)"
   ]
  },
  {
   "cell_type": "markdown",
   "metadata": {},
   "source": [
    "With this simple example, consider A as the __utility matrix__ with users and products links. \n",
    "\n",
    "After the decomposition U will be the \"__user features__\" matrix, Σ will be the diagonal matrix of singular values (essentially __weights__), and V.T will be the \"__movie features__\" matrix. \n",
    "\n",
    "U and V.T are orthogonal, and represent different things. U represents how much users like each feature and \n",
    "V.T represents how relevant each feature is to each movie.\n",
    "\n",
    "---"
   ]
  },
  {
   "cell_type": "markdown",
   "metadata": {},
   "source": [
    "Now we can recreate the original ratings matrix by multiplying the three factors of the matrix together. Let's look at the exact values and then the rounded values to get an idea of what our ratings should be."
   ]
  },
  {
   "cell_type": "code",
   "execution_count": 49,
   "metadata": {},
   "outputs": [
    {
     "name": "stdout",
     "output_type": "stream",
     "text": [
      "Approximation of Ratings Matrix\n"
     ]
    },
    {
     "data": {
      "text/plain": [
       "array([[ 1.00000000e+00, -2.25076327e-16, -1.11022302e-16],\n",
       "       [ 5.00000000e+00, -1.14321524e-15,  2.00000000e+00],\n",
       "       [-2.25076327e-16,  5.07388623e-32, -8.91680483e-18],\n",
       "       [-2.22044605e-16, -2.67504145e-17,  3.00000000e+00],\n",
       "       [ 4.00000000e+00, -9.80556551e-16,  9.00000000e+00]])"
      ]
     },
     "execution_count": 49,
     "metadata": {},
     "output_type": "execute_result"
    }
   ],
   "source": [
    "import numpy as np\n",
    "print('Approximation of Ratings Matrix')\n",
    "u.dot(np.diag(s).dot(vt))"
   ]
  },
  {
   "cell_type": "code",
   "execution_count": 43,
   "metadata": {},
   "outputs": [
    {
     "name": "stdout",
     "output_type": "stream",
     "text": [
      "Rounded Approximation of Ratings Matrix\n"
     ]
    },
    {
     "data": {
      "text/plain": [
       "array([[ 1., -0., -0.],\n",
       "       [ 5., -0.,  2.],\n",
       "       [-0.,  0., -0.],\n",
       "       [-0., -0.,  3.],\n",
       "       [ 4., -0.,  9.]])"
      ]
     },
     "execution_count": 43,
     "metadata": {},
     "output_type": "execute_result"
    }
   ],
   "source": [
    "print('Rounded Approximation of Ratings Matrix')\n",
    "np.round(u.dot(np.diag(s).dot(vt)))"
   ]
  },
  {
   "cell_type": "markdown",
   "metadata": {},
   "source": [
    "As you can see, the matrix has now been __almost__ recreated to the exact specifications of the original matrix. Out of the 12 user-item ratings, we have incorrectly rated one of them (Row 3, Column 2). SVD is not a perfect solution, but when we have enough users and items, we are able to gain valuable insights about the underlying relationships found in our data.\n",
    "\n",
    "The example we've provided above demonstrates matrix factorization with SVD and relating this to a real-life problem, like recommending a movie or a song. Next, we will look at implementing a simple recommendation system in Python to further strengthen our intuition around this idea. "
   ]
  },
  {
   "cell_type": "markdown",
   "metadata": {},
   "source": [
    "## Memory v. Model-Based Collaborative Filtering Approaches\n",
    "\n",
    "Now that you've learned about these two approaches, it begs the question, which one of these should you use?! The basic difference is that memory-based algorithms use all the data all the time to make predictions, whereas model-based algorithms use the data to learn/train a model which can later be used to make predictions. This means that the memory-based algorithms generally should have all data in memory, whereas model-based can make fast predictions using less data than the original (once you build the model). Here is a quick comparison between the two.\n",
    "\n",
    "\n",
    "|                     Memory-Based                     |                   Model-Based                  |\n",
    "|:----------------------------------------------------:|:----------------------------------------------:|\n",
    "| complete input data is required                      | abstraction (model) that represents input data |\n",
    "| does not scale well                                  | scales well                                    |\n",
    "| pre-computation not possible                         | pre-computation possible                       |\n",
    "| relies on similarity metrics between users and items | relies on matrix factorization                 |\n",
    "\n"
   ]
  },
  {
   "cell_type": "markdown",
   "metadata": {},
   "source": [
    "## Additional Reading\n",
    "- [Similarity Metrics](https://pdfs.semanticscholar.org/943a/e455fafc3d36ae4ce68f1a60ae4f85623e2a.pdf)\n",
    "- [What is collaborative filtering](https://www.upwork.com/hiring/data/how-collaborative-filtering-works/)\n",
    "- [Singular Value Decomposition](https://hadrienj.github.io/posts/Deep-Learning-Book-Series-2.8-Singular-Value-Decomposition/) - An excellent article for developing a geometrical intuition for SVD.\n",
    "- [Mathematical formulas and derivation for SVD](http://math.mit.edu/classes/18.095/2016IAP/lec2/SVD_Notes.pdf)\n",
    "- [Matrix Factorization for Collaborative Prediction](http://cs229.stanford.edu/proj2006/KleemanDenuitHenderson-MatrixFactorizationForCollaborativePrediction.pdf)\n"
   ]
  },
  {
   "cell_type": "markdown",
   "metadata": {},
   "source": [
    "## Summary \n",
    "In this lesson, we looked at a collaborative filtering approach using Singular Value Decomposition. We looked at how a recommendation problem can be translated into a matrix decomposition problem and solved by reducing the number of dimensions, calculating stretching factors. Next, we will see how to develop a recommendation system from real-world data. "
   ]
  }
 ],
 "metadata": {
  "kernelspec": {
   "display_name": "Python 3",
   "language": "python",
   "name": "python3"
  },
  "language_info": {
   "codemirror_mode": {
    "name": "ipython",
    "version": 3
   },
   "file_extension": ".py",
   "mimetype": "text/x-python",
   "name": "python",
   "nbconvert_exporter": "python",
   "pygments_lexer": "ipython3",
   "version": "3.6.8"
  }
 },
 "nbformat": 4,
 "nbformat_minor": 2
}
