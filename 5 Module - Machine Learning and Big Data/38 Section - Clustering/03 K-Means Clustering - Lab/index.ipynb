{
 "cells": [
  {
   "cell_type": "markdown",
   "metadata": {},
   "source": [
    "# Clustering Algorithms Lab\n",
    "\n",
    "## Objective\n",
    "\n",
    "In this lab, we'll generate a dataset and learn to make use of K-Means Clustering with the help of sklearn. We'll also learn 2 techniques for evaluating the quality of our clusters when we don't know how many clusters the dataset is actually supposed to contain.\n",
    "\n",
    "### Getting Started\n",
    "\n",
    "Since the algorithms we are working with are unsupervised, it can sometimes be tough to tell if they're actually working as well as we want them to when clustering our data. For learning purposes, we'll use sklearn to generate a dataset for us that matches our specifications.  This will make it easier for us to evaluate the performance of our clustering results, because real -world data would be inherently messier. \n",
    "\n",
    "Run the cell below to import everything we'll need for this lab.  "
   ]
  },
  {
   "cell_type": "code",
   "execution_count": null,
   "metadata": {},
   "outputs": [],
   "source": [
    "from sklearn.datasets import make_blobs\n",
    "from sklearn.datasets import make_moons\n",
    "from sklearn.cluster import KMeans\n",
    "import matplotlib.pyplot as plt\n",
    "import numpy as np\n",
    "np.random.seed(0)\n",
    "%matplotlib inline  "
   ]
  },
  {
   "cell_type": "markdown",
   "metadata": {},
   "source": [
    "Now, we'll use the `make_blobs()` function to generate a dataset for us to work with.  \n",
    "\n",
    "In the cell below, call `make_blobs()` to create a dataset with the following specifications:\n",
    "\n",
    "* Number of samples should be `400`\n",
    "* Each sample should contain `2` features.\n",
    "* The dataset should have `7` centers.\n",
    "* The Standard Deviation should be `0.8` for each cluster.\n",
    "\n",
    "Note the keyword arguments for the function were not provided in the specification above.  You'll either need to inspect `make_blobs()` using a `?`, or go to the [documentation](http://scikit-learn.org/stable/modules/generated/sklearn.datasets.make_blobs.html) to figure out what keywords correspond to each of the parameters specified above.  \n",
    "\n"
   ]
  },
  {
   "cell_type": "code",
   "execution_count": null,
   "metadata": {},
   "outputs": [],
   "source": [
    "X, y = None"
   ]
  },
  {
   "cell_type": "markdown",
   "metadata": {},
   "source": [
    "Now, run the cell below to visualize the dataset we've created. "
   ]
  },
  {
   "cell_type": "code",
   "execution_count": null,
   "metadata": {},
   "outputs": [],
   "source": [
    "plt.scatter(X[:, 0], X[:, 1], c = y, s = 25);"
   ]
  },
  {
   "cell_type": "markdown",
   "metadata": {},
   "source": [
    "In this image, you can see the clusters as they are generated. Let's now see if the k means clustering algorithm can discover these clusters in our dataset.\n",
    "\n",
    "In the cell below:\n",
    "\n",
    "* Create a `KMeans` object and set `n_clusters` to `7`.\n",
    "* `fit()` the `k_means` object to the data stored in `X`.\n",
    "* Generate cluster predictions with `k_means` and store the results in `y_hat`.\n",
    "\n",
    "As always, don't hesitate to look at the [documentation](http://scikit-learn.org/stable/modules/generated/sklearn.cluster.KMeans.html) if you're unsure how to proceed.  "
   ]
  },
  {
   "cell_type": "code",
   "execution_count": null,
   "metadata": {},
   "outputs": [],
   "source": [
    "k_means = None\n",
    "# dont forget to fit the model!\n",
    "\n",
    "y_hat = k_means.predict(X)"
   ]
  },
  {
   "cell_type": "markdown",
   "metadata": {},
   "source": [
    "Great! Now, run the cell below to visualize the results of our k-means clustering algorithm!"
   ]
  },
  {
   "cell_type": "code",
   "execution_count": null,
   "metadata": {},
   "outputs": [],
   "source": [
    "plt.scatter(X[:, 0], X[:, 1], c = y_hat, s = 25)\n",
    "cl_centers = k_means.cluster_centers_\n",
    "plt.scatter(cl_centers[:, 0], cl_centers[:, 1], c='black', s=100);"
   ]
  },
  {
   "cell_type": "markdown",
   "metadata": {},
   "source": [
    "As you can see, the algorithm is pretty good at identifying the clusters. Do keep in mind that for a real data set, you will not be able to evaluate the method as such, as we don't know a priori what the clusters should be. This is the nature of unsupervised learning. The Scikit learn documentation does suggest two methods to evaluate your clusters when the \"ground truth\" is not known: the Silhouette coefficient and the Calinski-Harabaz Index. We'll talk about them later, but first, let's look at the Scikit learn options when using the KMeans function."
   ]
  },
  {
   "cell_type": "markdown",
   "metadata": {},
   "source": [
    "We'll discuss two important parameters which we haven't specified before: `init` and `algorithm`.\n",
    "\n",
    "`init` specifies the method for initialization:\n",
    "\n",
    "- `k-means++` is the default method, this method selects initial cluster centers in a smart way in order to pursue fast convergence.\n",
    "- `random`: choose k random observations for the initial centroids.\n",
    "- `ndarray`: you can pass this argument and provide initial centers.\n",
    "\n",
    "`algorithm` specifies the algorithm used:\n",
    "\n",
    "- If `full` is specified, a full EM-style algorithm is performed. EM is short for \"Expectation Maximization\" and its name is derived from the nature of the algorithm, where in each iteration an E-step (in the context of K-means clustering, the points are assigned to the nearest center) and an M-step (the cluster mean is updated based on the elements of the cluster) is created. \n",
    "- The EM algorithm can be slow. The `elkan` variation is more efficient, but not available for sparse data.\n",
    "- The default is `auto`, and automatically selects `full` for sparse data and `elkan` for dense data. \n",
    "\n",
    "\n"
   ]
  },
  {
   "cell_type": "markdown",
   "metadata": {},
   "source": [
    "## 4. Evaluating k means when labels are not known."
   ]
  },
  {
   "cell_type": "markdown",
   "metadata": {},
   "source": [
    "### 4.1 The silhouette coefficient"
   ]
  },
  {
   "cell_type": "markdown",
   "metadata": {},
   "source": [
    "If the actual cluster labels are unknown, the model itself must be used for evaluation. When calculating the Silhouette Coefficient, a higher score means that you ended up with a model with better defined clusters. Two scores are used to generate the silhouette coefficient:\n",
    "\n",
    "- **a** is the average distance between one data sample and all other points in the same cluster\n",
    "- **b**: The average distance between one data sample and all other points in the next nearest cluster.\n",
    "\n",
    "The silhouette coefficient is then given by:\n",
    "\n",
    "$$ s = \\dfrac{(b-a)}{max(b-a)} $$"
   ]
  },
  {
   "cell_type": "markdown",
   "metadata": {},
   "source": [
    "let's calculate the silhouette score for the model we created above.  \n",
    "\n",
    "In the cell below:\n",
    "\n",
    "* Import the `metrics` module from sklearn.\n",
    "* Store the `labels_` from our model in the `labels` variable\n",
    "* Call the `silhouette_score()` function, which can be found inside of the `metrics` module.  Pass in the data `X`, `labels`, and set the `metric` parameter equal to `euclidean`."
   ]
  },
  {
   "cell_type": "code",
   "execution_count": null,
   "metadata": {},
   "outputs": [],
   "source": [
    "from None import None\n",
    "labels = None\n",
    "\n",
    "# Call silhouette_score() below!\n"
   ]
  },
  {
   "cell_type": "markdown",
   "metadata": {},
   "source": [
    "Obviously, this number isn't very informative by itself, it only really is informative when you compare it to another coefficient. Let's look at the coefficient when we would have fitted a model with only 6 clusters.\n",
    "\n",
    "In the cell below:\n",
    "\n",
    "* Create another `KMeans` model.  Set the `n_clusters` parameter to `6`.\n",
    "* Fit this model to our dataset, `X`.\n",
    "* Make predictions with this model and store them in `yhat_6`.\n",
    "* Copy over the visualization code from above and modify as necessary to visualize the clusters created by this model. "
   ]
  },
  {
   "cell_type": "code",
   "execution_count": null,
   "metadata": {},
   "outputs": [],
   "source": [
    "k_means_6 = None\n",
    "# Don't forget to fit this model, too!\n",
    "\n",
    "yhat_6 = None\n",
    "\n",
    "# Import and modify the visualization code below this line!"
   ]
  },
  {
   "cell_type": "markdown",
   "metadata": {},
   "source": [
    "Now, in the cell below, calculate the silhouette score for this new model, so that we can compare it to the model with 7 clusters. "
   ]
  },
  {
   "cell_type": "code",
   "execution_count": null,
   "metadata": {},
   "outputs": [],
   "source": [
    "labels_6 = None\n",
    "\n",
    "# Generate a silhouette score for this model below this line!"
   ]
  },
  {
   "cell_type": "markdown",
   "metadata": {},
   "source": [
    "Seems like 7 clusters generated a better result according to the silhouette coefficient!"
   ]
  },
  {
   "cell_type": "markdown",
   "metadata": {},
   "source": [
    "### 4.2 Calinski-Harabaz Index"
   ]
  },
  {
   "cell_type": "markdown",
   "metadata": {},
   "source": [
    "Very similarly to the silhouette coefficient, the Calinski-Harabaz index (`sklearn.metrics.calinski_harabaz_score`) can be used to evaluate the model when class labels are not known a priori. Again, a higher CH score means that the model has better defined clusters.\n",
    "\n",
    "When you have k clusters, the score s is a ratio of the between-cluster dispersion, and the within-cluster dispersion.\n",
    "\n",
    "$$ s(k) = \\dfrac{Tr(B_k)}{Tr(W_k)}\\times \\dfrac{N-k}{k-1}$$\n",
    "\n",
    "Here, the between group dispersion matrix is $B_k$ and the withing dispersion matrix is $W_k$:\n",
    "\n",
    "$$W_k = \\sum^k_{q=1} \\sum_{x\\in C_q} (x - c_q)(x-c_q)^T$$\n",
    "$$B_k = \\sum_{q} n_q (c_q - c)(c_q-c)^T$$\n",
    "\n",
    "where \n",
    "\n",
    "- $N$ is the data size\n",
    "- $C_q$ represents the samples in cluster $q$\n",
    "- $c_q$ represents the center of cluster $q$\n",
    "- $c$ the center of $E$\n",
    "- $n_q$ the number of samples in cluster $q$.\n",
    "\n",
    "To wrap this lab up, let's generate Calinski-Harabaz scores for both of the models we created above.  \n",
    "\n",
    "You'll find the `calinski_harabaz_score()` function inside the `metrics` module, just like `silhouette_score`.  Call this function now to generate a score for the model with 7 clusters. "
   ]
  },
  {
   "cell_type": "code",
   "execution_count": null,
   "metadata": {},
   "outputs": [],
   "source": []
  },
  {
   "cell_type": "markdown",
   "metadata": {},
   "source": [
    "Now, call it for the model with 6 clusters, so that we can compare the scores for each.  The higher score is the one that better fits the data. "
   ]
  },
  {
   "cell_type": "code",
   "execution_count": null,
   "metadata": {},
   "outputs": [],
   "source": []
  },
  {
   "cell_type": "markdown",
   "metadata": {},
   "source": [
    "Also here, the CH index is higher for the model with 7 clusters!"
   ]
  },
  {
   "cell_type": "markdown",
   "metadata": {},
   "source": [
    "Sources: \n",
    "https://jakevdp.github.io/PythonDataScienceHandbook/05.11-k-means.html\n",
    "http://scikit-learn.org/stable/modules/clustering.html"
   ]
  }
 ],
 "metadata": {
  "kernelspec": {
   "display_name": "Python 3",
   "language": "python",
   "name": "python3"
  },
  "language_info": {
   "codemirror_mode": {
    "name": "ipython",
    "version": 3
   },
   "file_extension": ".py",
   "mimetype": "text/x-python",
   "name": "python",
   "nbconvert_exporter": "python",
   "pygments_lexer": "ipython3",
   "version": "3.6.5"
  }
 },
 "nbformat": 4,
 "nbformat_minor": 2
}
