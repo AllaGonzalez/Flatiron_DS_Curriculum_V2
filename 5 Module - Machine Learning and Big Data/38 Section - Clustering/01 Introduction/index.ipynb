{
 "cells": [
  {
   "cell_type": "markdown",
   "metadata": {},
   "source": [
    "# Introduction\n",
    "\n",
    "## Introduction\n",
    "In this section you'll learn about a useful unsupervised learning technique, clustering. This lesson summarizes the topics you'll be covering in this section.\n",
    "\n",
    "## Objectives\n",
    "You will be able to:\n",
    "* Understand and explain what is covered in this section\n",
    "* Understand and explain why the section will help you to become a data scientist\n",
    "\n",
    "## Clustering\n",
    "\n",
    "In this section we will be moving on to a second unsupervised learning technique: Clustering! Clustering techniques are very powerful when you want to group data with similar characteristics together, but have no pre-specified labels. The main goal of clustering is to create clusters that have a high similarity between the data belonging to one cluster, while aiming at in a low similarity between clusters.  \n",
    "\n",
    "### K-Means Clustering\n",
    "\n",
    "We start by providing a basic intuition of the K-Means Clustering algorithm. When using the K-Means clustering algorithm, the number of clusters which you want to obtain is specified upfront, and the algorithm aims at the most \"optimal\" cluster centers given that there are K clusters.\n",
    "\n",
    "### Hierarchical Agglomerative Clustering\n",
    "\n",
    "A second branch of clustering algorithms is hierarchical agglomerative clustering. Using hierarchical clustering, unlike K-Means clustering, you don't decide on the number of clusters beforehand. Instead, you start with $n$ clusters were $n$ is the number of data points, and at each step, join 2 clusters. You stop joining clusters when a certain criterion is used.\n",
    "\n",
    "### Market Segmentation with Clustering\n",
    "\n",
    "A very common and useful application of clustering is market segmentation. You'll practice your clustering skills on a market segmentation data set! \n",
    "\n",
    "### Semi-Supervised Learning\n",
    "\n",
    "At the end of this section, you'll learn how semi-supervised learning techniques, which are increasingly popular in machine learning, combines both concepts of supervised and unsupervised learning.\n",
    "\n",
    "\n",
    "## Summary\n",
    "\n",
    "In this section, you'll learn how to use clustering techniques, which are very useful for finding patterns and grouping unlabeled data together.\n",
    "\n"
   ]
  }
 ],
 "metadata": {
  "kernelspec": {
   "display_name": "Python 3",
   "language": "python",
   "name": "python3"
  },
  "language_info": {
   "codemirror_mode": {
    "name": "ipython",
    "version": 3
   },
   "file_extension": ".py",
   "mimetype": "text/x-python",
   "name": "python",
   "nbconvert_exporter": "python",
   "pygments_lexer": "ipython3",
   "version": "3.6.8"
  }
 },
 "nbformat": 4,
 "nbformat_minor": 2
}
