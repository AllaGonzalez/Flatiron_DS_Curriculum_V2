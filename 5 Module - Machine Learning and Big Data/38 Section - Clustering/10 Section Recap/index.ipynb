{
 "cells": [
  {
   "cell_type": "markdown",
   "metadata": {},
   "source": [
    "# Section Recap\n",
    "\n",
    "## Introduction\n",
    "\n",
    "In this section, you learned about clustering. Here are the key takeaways from this section.\n",
    "\n",
    "## Objectives\n",
    "You will be able to:\n",
    "* Understand and explain what was covered in this section\n",
    "* Understand and explain why this section will help you become a data scientist\n",
    "\n",
    "## Key Takeaways\n",
    "\n",
    "The key takeaways from this section include:\n",
    "* There are two main types of clustering algorithms: non-hierarchical (K-Means) clustering, and hierarchical agglomerative clustering\n",
    "* You can quantify the performance of a clustering algorithm using metrics such as Variance Ratios\n",
    "* When working with the K-Means clustering algorithm, it is useful to create elbow plots to find an optimal value for K\n",
    "* When using hierarchical agglomerative clustering, different linkage criteria can be used to determine which clusters should be merged and at what point\n",
    "* Dendrograms and clustergrams are very useful visual tools in hierarchical agglomerative clustering.\n",
    "* Advantages of K-Means clustering include easy implementation and speed, where a main disadvantage is that it isn't always straightforward how to pick the \"right\" value for K\n",
    "* Advantages of hierarchical agglomerative clustering include easy visualization and intuitiveness, where a main disadvantage is that the result is very distance metric-dependent\n",
    "* You can use supervised and unsupervised learning together to co-use them in an effective way, applications are Look-alike models in market segmentation and Semi-Supervised learning\n"
   ]
  }
 ],
 "metadata": {
  "kernelspec": {
   "display_name": "Python 3",
   "language": "python",
   "name": "python3"
  },
  "language_info": {
   "codemirror_mode": {
    "name": "ipython",
    "version": 3
   },
   "file_extension": ".py",
   "mimetype": "text/x-python",
   "name": "python",
   "nbconvert_exporter": "python",
   "pygments_lexer": "ipython3",
   "version": "3.6.8"
  }
 },
 "nbformat": 4,
 "nbformat_minor": 2
}
