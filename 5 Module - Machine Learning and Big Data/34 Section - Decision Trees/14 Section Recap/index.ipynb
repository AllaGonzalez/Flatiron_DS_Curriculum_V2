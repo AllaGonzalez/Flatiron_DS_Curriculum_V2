{
 "cells": [
  {
   "cell_type": "markdown",
   "metadata": {},
   "source": [
    "# Section Recap\n",
    "\n",
    "## Introduction\n",
    "\n",
    "This short lesson summarizes key takeaways from this section. \n",
    "\n",
    "## Objectives\n",
    "You will be able to:\n",
    "* Understand and explain what was covered in this section\n",
    "* Understand and explain why this section will help you become a data scientist\n",
    "\n",
    "## Key Takeaways\n",
    "\n",
    "The key takeaways from this section include:\n",
    "* Probably Approximately Correct (PAC) learning theory provides a mathematically rigorous definition of what machine learning is\n",
    "* The PAC is a learning model which is characterized by learning from examples\n",
    "* Decision trees can be used for both categorization and regression tasks\n",
    "* They are a powerful and interpretable technique for many machine learning problems (especially when combined with ensemble methods)\n",
    "* Decision trees are a form of Directed Acyclic Graph (DAG) - you traverse them in a specified direction, and there are no \"loops\" in the graphs to go backwards\n",
    "* Algorithms for generating decision trees are designed to maximize the information gain from each split\n",
    "* A popular algorithm for generating decision trees is ID3 - the Iterative Dichotomiser 3 algorithm\n",
    "* There are a range of pruning hyperparameters for decision trees to reduce overfitting - including maximum depth, minimum samples leaf with split, minimum leaf sample size, maximum lead nodes and maximum features\n",
    "* CART (Classification and Regression Trees) trees can be used for regression tasks"
   ]
  }
 ],
 "metadata": {
  "kernelspec": {
   "display_name": "Python 3",
   "language": "python",
   "name": "python3"
  },
  "language_info": {
   "codemirror_mode": {
    "name": "ipython",
    "version": 3
   },
   "file_extension": ".py",
   "mimetype": "text/x-python",
   "name": "python",
   "nbconvert_exporter": "python",
   "pygments_lexer": "ipython3",
   "version": "3.6.4"
  }
 },
 "nbformat": 4,
 "nbformat_minor": 2
}
