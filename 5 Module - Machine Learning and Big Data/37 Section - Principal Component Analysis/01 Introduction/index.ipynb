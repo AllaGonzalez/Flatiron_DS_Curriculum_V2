{
 "cells": [
  {
   "cell_type": "markdown",
   "metadata": {},
   "source": [
    "# Principal Component Analysis (PCA) - Introduction\n",
    "\n",
    "## Introduction\n",
    "\n",
    "In this section, you'll learn about Principal Component Analysis, or PCA. PCA is a dimensionality reduction technique. It allows you to compress a dataset into a smaller dataset with fewer features while maintaining as much of the original information as possible.\n",
    "\n",
    "## Objectives\n",
    "\n",
    "You will be able to:\n",
    "\n",
    "* Discuss what PCA is and what it is used for\n",
    "\n",
    "## The Curse of Dimensionality\n",
    "\n",
    "The curse of dimensionality is a general mathematical problem relating to the exploding size of space as you continue to add additional dimensions. This can be particularly problematic when dealing with large datasets. The more features you have, the more data you have about the scenario, but the more difficult it might be to exhaustively explore combinations of these features.\n",
    "\n",
    "## PCA Use Cases\n",
    "\n",
    "The curse of dimensionality is certainly one motivating factor for PCA. If you can't process all of the information at your disposal, then an alternative path around is necessary. Dimensionality reduction techniques such as PCA can be essential in such situations. PCA can also help improve regression and classification algorithms in many cases. In particular, algorithms are less prone to overfitting when the underlying data itself has first been compressed, reducing noise or other anomalies. Finally, PCA can also be helpful for visualizing the structure of large datasets. After all, you are limited to 2 or 3 dimensions when visualizing data. As such, reducing a dataset to 2 or 3 primary features is monumental in creating a visualization.\n",
    "\n",
    "## Summary\n",
    "\n",
    "In this section, you'll explore PCA in depth using sci-kit learn, and coding your own version from scratch using NumPy. Throughout, keep in mind use cases for PCA such as the curse of dimensionality."
   ]
  }
 ],
 "metadata": {
  "kernelspec": {
   "display_name": "Python 3",
   "language": "python",
   "name": "python3"
  },
  "language_info": {
   "codemirror_mode": {
    "name": "ipython",
    "version": 3
   },
   "file_extension": ".py",
   "mimetype": "text/x-python",
   "name": "python",
   "nbconvert_exporter": "python",
   "pygments_lexer": "ipython3",
   "version": "3.6.4"
  }
 },
 "nbformat": 4,
 "nbformat_minor": 2
}
