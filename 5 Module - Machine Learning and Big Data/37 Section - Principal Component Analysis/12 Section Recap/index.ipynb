{
 "cells": [
  {
   "cell_type": "markdown",
   "metadata": {},
   "source": [
    "# PCA - Summary\n",
    "\n",
    "## Introduction\n",
    "\n",
    "In this lesson, you'll get a brief recap of key concepts from this section.\n",
    "\n",
    "## Objectives\n",
    "\n",
    "You will be able to:\n",
    "* Highlight key takeaways concerning PCA\n",
    "\n",
    "## PCA \n",
    "\n",
    "* Recall that PCA is a dimensionality reduction technique\n",
    "* There are four steps to calculating PCA:\n",
    "    * Center each feature by subtracting the feature mean\n",
    "    * Calculate the covariance matrix for your normalized dataset\n",
    "    * Calculate the eigenvectors/eigenvalues for the covariance matrix\n",
    "        * Reorder your eigenvectors based on their accompanying eigenvalues (descending order to the eigenvalues)\n",
    "    * Take the dot product of the transpose of the eigenvectors with the transpose of the normalized data\n",
    "* You can also easily implement PCA using sci-kit learn\n",
    "\n",
    "## Summary\n",
    "\n",
    "PCA is an essential tool in your skill set. Use it when you need to compress data, and experiment with its effect on machine learning algorithms as a preprocessing step. With PCA, you've now been exposed to unsupervised learning techniques which do not require labeled data."
   ]
  }
 ],
 "metadata": {
  "kernelspec": {
   "display_name": "Python 3",
   "language": "python",
   "name": "python3"
  },
  "language_info": {
   "codemirror_mode": {
    "name": "ipython",
    "version": 3
   },
   "file_extension": ".py",
   "mimetype": "text/x-python",
   "name": "python",
   "nbconvert_exporter": "python",
   "pygments_lexer": "ipython3",
   "version": "3.6.5"
  }
 },
 "nbformat": 4,
 "nbformat_minor": 2
}
