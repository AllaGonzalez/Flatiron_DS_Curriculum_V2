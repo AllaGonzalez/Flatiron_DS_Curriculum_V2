{
 "cells": [
  {
   "cell_type": "markdown",
   "metadata": {},
   "source": [
    "# PCA Background: Covariance Matrix and Eigendecomposition\n",
    "\n",
    "## Introduction\n",
    "Now that you've gotten a high level overview of the use cases for PCA and some general notes regarding the algorithm's implementation, its time to dive deeper into the theory behind PCA. In particular, you'll break down some of the primary components of the algorithm, including the covariance matrix and eigenvectors.\n",
    "\n",
    "## Objectives\n",
    "You will be able to:\n",
    "- Understand covariance matrix calculation with implementation in numpy\n",
    "- Understand and explain Eigendecomposition with its basic characteristics\n",
    "- Explain the role of eigenvectors and eigenvalues in eigendecomposition\n",
    "- Decompose and re-construct a matrix using eigendecomposition\n",
    "\n",
    "## The PCA Algorithm\n",
    "\n",
    "To start, recall the general procedure for PCA:  \n",
    "    \n",
    "1. Recenter each feature of the dataset by subtracting that feature's mean from the feature vector\n",
    "2. Calculate the covariance matrix for your centered dataset\n",
    "3. Calculate the eigenvectors of the covariance matrix\n",
    "4. Project the dataset into the new feature space: Multiply the eigenvectors by the mean centered features\n",
    "\n",
    "With that, let's start deconstructing some of these concepts.\n",
    "\n",
    "## Covariance\n",
    "\n",
    "You've looked into correlation and covariance as measures to calculate how one random variable changes with respect to another. \n",
    "\n",
    "Covariance is very similar to correlation, but may not be normalized. The formula for the covariance of two variable X and Y is:\n",
    "\n",
    "$$cov(X,Y) = \\frac{\\sum_i^n(X_i -\\mu_X)(Y_i - \\mu_Y)}{n-1}$$\n",
    "\n",
    "## The Covariance Matrix\n",
    "\n",
    "Now that you've seen covariance on its own, lets briefly examine a covariance matrix.\n",
    "\n",
    "The covariance matrix for a set of data with n dimensions would be:\n",
    "\n",
    "$$C^{n x n} = (c_{i,j}, c_{i,j} = cov(Dim_i, Dim_j))$$\n",
    "\n",
    "where $C^{m x n}$ is a matrix with $n$ rows and $n$ columns, and $Dim_x$ is the $i$th dimension.\n",
    "\n",
    "So if you have an n-dimensional data set, then the matrix has n rows and n columns (square matrix) and each entry in the matrix is the result of calculating the covariance between two separate dimensions as shown below:\n",
    "\n",
    "<img src=\"images/covmat.png\" width=350>\n",
    "\n",
    "\n",
    "- Down the main diagonal, we can see that the covariance value is between one of the dimensions and itself. These are the variances for that dimension.\n",
    "\n",
    "- Since $cov(a,b) = cov(b,a)$, the matrix is symmetrical about the main diagonal.\n",
    "\n",
    "## Calculate Covariance matrix in Numpy\n",
    "\n",
    "In numpy, you can calculate the covariance of a given matrix using `np.cov()` function,  as shown below:"
   ]
  },
  {
   "cell_type": "code",
   "execution_count": 1,
   "metadata": {},
   "outputs": [
    {
     "name": "stdout",
     "output_type": "stream",
     "text": [
      "[[ 0.115   0.0575 -1.2325]\n",
      " [ 0.0575  3.757  -0.8775]\n",
      " [-1.2325 -0.8775 14.525 ]]\n"
     ]
    }
   ],
   "source": [
    "import numpy as np\n",
    "X = np.array([ [0.1, 0.3, 0.4, 0.8, 0.9],\n",
    "               [3.2, 2.4, 2.4, 0.1, 5.5],\n",
    "               [10., 8.2, 4.3, 2.6, 0.9]\n",
    "             ])\n",
    "print( np.cov(X) )"
   ]
  },
  {
   "cell_type": "markdown",
   "metadata": {},
   "source": [
    "The diagonal elements, $C_{ii}$ are the variances in the variables $x_i$ assuming N−1 degrees of freedom:"
   ]
  },
  {
   "cell_type": "code",
   "execution_count": 2,
   "metadata": {},
   "outputs": [
    {
     "name": "stdout",
     "output_type": "stream",
     "text": [
      "[ 0.115  3.757 14.525]\n"
     ]
    }
   ],
   "source": [
    "print(np.var(X, axis=1, ddof=1))"
   ]
  },
  {
   "cell_type": "markdown",
   "metadata": {},
   "source": [
    "## Eigendecomposition\n",
    "\n",
    "The eigendecomposition is one form of matrix decomposition. Decomposing a matrix means that you want to find a product of matrices that is equal to the initial matrix. In the case of the eigendecomposition, you decompose the initial matrix into the product of its __eigenvectors__ and __eigenvalues__.\n",
    " \n",
    "A vector $v$ is an __eigenvector__ of a __square__ matrix $A$ if it satisfies the following equation:\n",
    "\n",
    "$$Av = \\lambda v$$.\n",
    "\n",
    "\n",
    "Here, __lambda__ ($\\lambda$) is the represents the __eigenvalue__ scalar.\n",
    "\n",
    "> A matrix can have one eigenvector and eigenvalue for each dimension of the parent matrix. \n",
    "\n",
    "Also , remember that not all square matrices can be decomposed into eigenvectors and eigenvalues, and some can only be decomposed in a way that requires complex numbers. __The parent matrix can be shown to be a product of the eigenvectors and eigenvalues.__\n",
    "\n",
    "$$A = Q . diag(V) . Q^{-1}$$\n",
    "\n",
    "$Q$ is a matrix comprised of the eigenvectors, $diag(V)$ is a diagonal matrix comprised of the __eigenvalues__ along the diagonal, and $Q^-1$ is the inverse of the matrix comprised of the eigenvectors.\n",
    "\n",
    "A decomposition operation breaks down a matrix into constituent parts to make certain operations on the matrix easier to perform. Eigendecomposition is used as an element to simplify the calculation of other more complex matrix operations."
   ]
  },
  {
   "cell_type": "markdown",
   "metadata": {},
   "source": [
    "## Eigenvectors and Eigenvalues\n",
    "\n",
    "__Eigenvectors__ are unit vectors, with length or magnitude is equal to 1.0. They are often referred as right vectors, which simply means a column vector (as opposed to a row vector or a left vector). Imagine a transformation matrix that, when multiplied on the left, reflected vectors in the line $y=x$. You can see that if there were a vector that lay on the line $y=x$, it’s reflection it itself. This vector (and all multiples of it), would be an eigenvector of that transformation matrix.\n",
    "\n",
    "\n",
    "<img src='images/new_eig1.png' width='400'>"
   ]
  },
  {
   "cell_type": "markdown",
   "metadata": {},
   "source": [
    "__Eigenvalues__ are coefficients applied to eigenvectors that give the vectors their length or magnitude. For example, a negative eigenvalue may reverse the direction of the eigenvector as part of scaling it. Eigenvalues are closely related to eigenvectors.\n",
    "\n",
    "A matrix that has only positive eigenvalues is referred to as a __positive definite matrix__, whereas if the eigenvalues are all negative, it is referred to as a __negative definite matrix__.\n",
    "\n",
    "Decomposing a matrix in terms of its eigenvalues and its eigenvectors gives valuable insights into the properties of the matrix. Certain matrix calculations, like computing the power of the matrix, become much easier when we use the eigendecomposition of the matrix. The eigendecomposition can be calculated in NumPy using the `eig()` function.\n",
    "\n",
    "The example below first defines a 3×3 square matrix. The eigendecomposition is calculated on the matrix returning the eigenvalues and eigenvectors using `eig()` method."
   ]
  },
  {
   "cell_type": "code",
   "execution_count": 3,
   "metadata": {},
   "outputs": [
    {
     "name": "stdout",
     "output_type": "stream",
     "text": [
      "[[1 2 3]\n",
      " [4 5 6]\n",
      " [7 8 9]]\n",
      "[ 1.61168440e+01 -1.11684397e+00 -9.75918483e-16]\n",
      "[[-0.23197069 -0.78583024  0.40824829]\n",
      " [-0.52532209 -0.08675134 -0.81649658]\n",
      " [-0.8186735   0.61232756  0.40824829]]\n"
     ]
    }
   ],
   "source": [
    "# eigendecomposition\n",
    "from numpy import array\n",
    "from numpy.linalg import eig\n",
    "# define matrix\n",
    "A = array([[1, 2, 3], [4, 5, 6], [7, 8, 9]])\n",
    "print(A)\n",
    "# calculate eigendecomposition\n",
    "values, vectors = eig(A)\n",
    "print(values)\n",
    "print(vectors)"
   ]
  },
  {
   "cell_type": "markdown",
   "metadata": {},
   "source": [
    "## Testing an Eigenvector\n",
    "\n",
    "Above, The eigenvectors are returned as a matrix with the same dimensions as the parent matrix (3x3), where each column is an eigenvector, e.g. the first eigenvector is vectors[:,0]. Eigenvalues are returned as a list, where value indices in the returned array are paired with eigenvectors by column index, e.g. the first eigenvalue at values[0] is paired with the first eigenvector at vectors[: 0].\n",
    "\n",
    "You can also test whether the first vector and value are in fact an eigenvalue and eigenvector for the matrix."
   ]
  },
  {
   "cell_type": "code",
   "execution_count": 4,
   "metadata": {},
   "outputs": [
    {
     "name": "stdout",
     "output_type": "stream",
     "text": [
      "[ -3.73863537  -8.46653421 -13.19443305]\n",
      "[ -3.73863537  -8.46653421 -13.19443305]\n"
     ]
    }
   ],
   "source": [
    "# confirm first eigenvector\n",
    "B = A.dot(vectors[:, 0])\n",
    "print(B)\n",
    "C = vectors[:, 0] * values[0]\n",
    "print(C)"
   ]
  },
  {
   "cell_type": "markdown",
   "metadata": {},
   "source": [
    "## Reconstruct Original Matrix\n",
    "\n",
    "You can also reverse the process and reconstruct the original matrix given only the eigenvectors and eigenvalues.\n",
    "\n",
    "First, the list of eigenvectors must be converted into a matrix, where each vector becomes a row. The eigenvalues need to be arranged into a diagonal matrix. The NumPy `diag()` function can be used for this. Next, you need to calculate the inverse of the eigenvector matrix, which we can achieve with the `inv()` function. Finally, these elements need to be multiplied together with the `dot()` function."
   ]
  },
  {
   "cell_type": "code",
   "execution_count": 5,
   "metadata": {},
   "outputs": [
    {
     "name": "stdout",
     "output_type": "stream",
     "text": [
      "[[1. 2. 3.]\n",
      " [4. 5. 6.]\n",
      " [7. 8. 9.]]\n"
     ]
    }
   ],
   "source": [
    "from numpy.linalg import inv\n",
    "# create matrix from eigenvectors\n",
    "Q = vectors\n",
    "# create inverse of eigenvectors matrix\n",
    "R = inv(Q)\n",
    "# create diagonal matrix from eigenvalues\n",
    "L = np.diag(values)\n",
    "# reconstruct the original matrix\n",
    "B = Q.dot(L).dot(R)\n",
    "print(B)"
   ]
  },
  {
   "cell_type": "markdown",
   "metadata": {},
   "source": [
    "## Summary \n",
    "\n",
    "In this lesson, you looked at calculating covariance matrix for a given matrix. You also looked at eigendecomposition and its implementation in python. You can now go ahead and use these skills to apply principle component analysis for a given multidimensional dataset using these skills.  "
   ]
  }
 ],
 "metadata": {
  "kernelspec": {
   "display_name": "Python 3",
   "language": "python",
   "name": "python3"
  },
  "language_info": {
   "codemirror_mode": {
    "name": "ipython",
    "version": 3
   },
   "file_extension": ".py",
   "mimetype": "text/x-python",
   "name": "python",
   "nbconvert_exporter": "python",
   "pygments_lexer": "ipython3",
   "version": "3.7.3"
  }
 },
 "nbformat": 4,
 "nbformat_minor": 2
}
