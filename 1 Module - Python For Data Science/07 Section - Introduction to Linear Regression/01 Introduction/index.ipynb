{
 "cells": [
  {
   "cell_type": "markdown",
   "metadata": {},
   "source": [
    "# Introduction\n",
    "\n",
    "## Introduction\n",
    "In this section, you're going to learn about one of the most basic machine learning models, linear regression! Many of the ideas you learn in this section will be the foundational knowledge of more complex machine learning models.\n",
    "\n",
    "## Objectives\n",
    "You will be able to:\n",
    "* Understand and explain what is covered in this section\n",
    "* Understand and explain why the section will help you to become a data scientist\n",
    "\n",
    "## Linear Regression\n",
    "\n",
    "In this section we're going to introduce our first machine learning model - linear regression. It's really just a fancy way of saying \"(straight) line of best fit\", but it will introduce a number of concepts that will be important as you continue to learn about more sophisticated models.\n",
    "\n",
    "## Covariance and Correlation\n",
    "\n",
    "We start the section by covering covariance and correlation, both of which relate to how likely two variables are to change together. For example, with houses, it wouldn't be too surprising if the number of rooms and the price of a house were correlated (in general, more rooms == more expensive).\n",
    "\n",
    "## Statistical Learning Theory\n",
    "\n",
    "We then explore statistical learning theory and how dependent and independent variables relate to it.\n",
    "\n",
    "## Linear Regression\n",
    "\n",
    "Next, we look into a simple linear regression and figure out how to calculate the \"line of best fit\".\n",
    "\n",
    "## Coefficient of Determination\n",
    "\n",
    "We're then going to introduce the idea of \"R squared\" as the coefficient of determination to quantify how well a particular line fits a particular data set.\n",
    "\n",
    "\n",
    "## A Complete Regression\n",
    "\n",
    "From there we look at calculating a complete linear regression, just using code, cover some of the assumptions that must be held for a \"least squares regression\", introduce Ordinary Least Squares in Statsmodels and introduce some tools for diagnosing your linear regression such as Q-Q plots, the Jarque-Bera test for normal distribution of residuals and the Goldfield-Quandt test for heteroscedasticity. We then look at interpretation of significance and p-value and finish up by doing a regression model of the Boston Housing data set.\n",
    "\n",
    "\n",
    "## Summary\n",
    "\n",
    "Congratulations! You've made it through much of the introductory data and we've finally got enough context to take our first look at our first machine learning model, while broadening our experience of both coding and math so we'll be able to introduce more sophisticated machine learning models as the course progresses.\n"
   ]
  }
 ],
 "metadata": {
  "kernelspec": {
   "display_name": "Python 3",
   "language": "python",
   "name": "python3"
  },
  "language_info": {
   "codemirror_mode": {
    "name": "ipython",
    "version": 3
   },
   "file_extension": ".py",
   "mimetype": "text/x-python",
   "name": "python",
   "nbconvert_exporter": "python",
   "pygments_lexer": "ipython3",
   "version": "3.6.8"
  }
 },
 "nbformat": 4,
 "nbformat_minor": 2
}
