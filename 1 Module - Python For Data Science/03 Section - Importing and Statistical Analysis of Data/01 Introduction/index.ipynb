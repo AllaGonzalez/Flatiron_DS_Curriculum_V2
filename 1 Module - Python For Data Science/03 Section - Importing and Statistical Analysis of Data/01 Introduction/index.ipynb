{
 "cells": [
  {
   "cell_type": "markdown",
   "metadata": {},
   "source": [
    "# Introduction\n",
    "\n",
    "## Introduction\n",
    "In this section, you'll learn learn about creating functions in python, iterating over nested loops, and using basic statistics to measure aspects of different datasets. You'll wrap up the section by building a calculator using python.\n",
    "\n",
    "## Objectives\n",
    "You will be able to:\n",
    "* Use built-in python methods\n",
    "* Declare and use functions with and without arguments\n",
    "* Use basic statistics to evaluate a data set\n",
    "\n",
    "\n",
    "## Coding in Python \n",
    "\n",
    "We're going to spend most of this section deepening and widening your experience of programming in Python. We're going to introduce some of Python's built-in functions and methods, show you some more types of loops, and give you some practice of creating and using custom functions so you can efficiently reuse your code.\n",
    "\n",
    "## Basic Statistics\n",
    "\n",
    "We're then going to take a break from coding by introducing some statistics - measures of centrality and dispersion - that will be crucial in understanding the data sets that you work with as a professional data scientist. We'll also get some more practice plotting graphs using Matplotlib and some coding practice by calculating statistics for some data sets we'll provide.\n",
    "\n",
    "## Project Time!\n",
    "\n",
    "Finally, we'll give you a project that will allow you to continue building your confidence as a coder. We'll start by giving you just enough information on accepting user input and providing output in Python and will then ask you to build a simple calculator.\n",
    "\n",
    "## Summary\n",
    "\n",
    "This is another section where students will have very different experiences. If you're already a professional software developer with a degree in a quantitative subject, it's not going to be the hardest section for you to complete. But please take the time to practice your skills and feel free to dig deeper with the optional \"Level Up\" content if you're done more quickly than your peers.\n",
    "\n",
    "If you're completely new to coding and/or stats, you will probably find this a fairly challenging section. We're continuing to introduce core programming concepts at quite a pace. Don't worry if you still feel overwhelmed as you work through this section or work on the projects. You're going to get to practice most of these skills on a daily or weekly basis for the rest of the course, so just keep on keeping on - you can do this!"
   ]
  }
 ],
 "metadata": {
  "kernelspec": {
   "display_name": "Python 3",
   "language": "python",
   "name": "python3"
  },
  "language_info": {
   "codemirror_mode": {
    "name": "ipython",
    "version": 3
   },
   "file_extension": ".py",
   "mimetype": "text/x-python",
   "name": "python",
   "nbconvert_exporter": "python",
   "pygments_lexer": "ipython3",
   "version": "3.6.8"
  }
 },
 "nbformat": 4,
 "nbformat_minor": 2
}
