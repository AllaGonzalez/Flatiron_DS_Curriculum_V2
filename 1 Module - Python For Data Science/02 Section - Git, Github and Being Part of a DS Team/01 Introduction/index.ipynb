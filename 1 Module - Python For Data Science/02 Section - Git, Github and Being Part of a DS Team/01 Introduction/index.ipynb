{
 "cells": [
  {
   "cell_type": "markdown",
   "metadata": {},
   "source": [
    "# Git, Github and Being Part of a Data Science Team - Introduction\n",
    "\n",
    "## Introduction\n",
    "\n",
    "In this section, you'll learn about git and the bash command line. You've seen a bit of this from our first section in which you took a look at how to clone a github repository. Now, we'll further investigate how to navigate the command line and use more powerful git techniques.\n",
    "\n",
    "## Objectives\n",
    "\n",
    "* Have a high-level overview of the command line\n",
    "* Understand the purpose of git\n",
    "\n",
    "## Bash and the Command Line\n",
    "\n",
    "The command line or shell is the preliminary interface where users can interact with the operating system. Before applications, windows, and graphical user interfaces, all interaction with the computer was facilitated through the command line. Of these command line shells, bash now comes preinstalled in all mac and many other unix based systems.\n",
    "\n",
    "## Navigating Directories\n",
    "\n",
    "The preliminary fundamental techniques you'll practice in this section are changing directories using the `cd` command, making directories with the `mkdir` command, and checking where you are using the print working directory, `pwd`, command. In addition, you'll also take a look at how to create and edit files from the command line using the `nano` command.\n",
    "\n",
    "## Git\n",
    "\n",
    "You've previously seen how to fork and clone git repositories from github. Git is a version control system that is used by developers all over the place for collaboration. Git is the technology underlying the github platform, a cloud service provider, of which there are many.\n",
    "\n",
    "## Git Commands\n",
    "\n",
    "In this section, you'll take a look at a lot of additional git commands including `git add`, `git commit`, `git push`, `git merge`, `git branch`, `git stash`, `git checkout` and `git log`\n",
    "\n",
    "## Summary\n",
    "\n",
    "In this section, you'll take a look at git and bash! Get ready to have the preliminary tools that almost all developers consider to be their foundation!\n",
    "\n"
   ]
  }
 ],
 "metadata": {
  "kernelspec": {
   "display_name": "Python 3",
   "language": "python",
   "name": "python3"
  },
  "language_info": {
   "codemirror_mode": {
    "name": "ipython",
    "version": 3
   },
   "file_extension": ".py",
   "mimetype": "text/x-python",
   "name": "python",
   "nbconvert_exporter": "python",
   "pygments_lexer": "ipython3",
   "version": "3.6.4"
  }
 },
 "nbformat": 4,
 "nbformat_minor": 2
}
