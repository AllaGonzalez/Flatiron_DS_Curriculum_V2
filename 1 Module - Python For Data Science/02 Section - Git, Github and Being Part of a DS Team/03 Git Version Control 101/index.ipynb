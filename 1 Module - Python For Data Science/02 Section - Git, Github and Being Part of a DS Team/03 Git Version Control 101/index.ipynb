{
 "cells": [
  {
   "cell_type": "markdown",
   "metadata": {},
   "source": [
    "# Version Control 101\n",
    "\n",
    "## Introduction\n",
    "\n",
    "> “The past is never where you think you left it.” — [Katherine Anne Porter](http://en.wikipedia.org/wiki/Katherine_Anne_Porter)\n",
    "\n",
    "Version Control is the process of storing multiple versions of a single project, allowing each version to be recalled at a later date.\n",
    "\n",
    "There are a lot of different ways to do version control. You could save a new file every time you make a change, timestamp that file, and place all of those files into a timestamped folder. You could track all of your changes in a spreadsheet with copious notes. Or you could use dedicated version control software. Guess which method programmers use?\n",
    "\n",
    "\n",
    "## Objectives\n",
    "\n",
    "You will be able to:\n",
    "* Understand the reason for using git\n",
    "\n",
    "## Why Use Version Control?\n",
    "\n",
    "Let's think about the future for a second. It's a year or two down the road, and you're working at your dream job (YAY!). You just deployed a new chat feature for the app you're working on. Suddenly, your boss runs over to your desk: \"Wait! We can't deploy the chat yet! Revert! Revert!\"\n",
    "\n",
    "What do you do? You need to find all of the new code you pushed to the server and delete it. Then you need to find the old code, test it, and re-upload it. So much work to do. Well, since you used version control software, it's as easy as 1, 2, 3. Actually, it's as easy as `git reset --hard <commit id>`... but we'll get to that later. Using version control is useful because it allows you to easily rollback to a previous version of your application, saving you a ton of extra work and time.\n",
    "\n",
    "There are a lot of advantages to version control. It's a great way to keep a backup of your work, it facilitates collaboration, and it gives you the freedom to experiment and try new things without messing up the code base.\n",
    "\n",
    "## Local vs Remote Version Control\n",
    "\n",
    "A local version control system stores all of the information on your computer, locally. This system works great while you work on a project by yourself. However, it becomes cumbersome when you attempt to collaborate.\n",
    "\n",
    "Some organizations use a centralized repository on a company server. Think of a repository as a big folder that stores all of the files of a particular project. It is simply the location where a project's data is stored. Users pull only the files they need to work on from the server. The advantage is that multiple people can collaborate and work on the same project at once. The disadvantage of this process is that a user must be connected to the network in order to work on the project.\n",
    "\n",
    "Which brings us to the third system, a distributed version control system. In a distributed system, all users have a complete copy of the entire repository. This means that you can work on the project independent of any network connection. Upon reconnecting, you can push your changes to the server and merge with the server's repository.\n",
    "\n",
    "## Meet Git\n",
    "\n",
    "Git is the distributed version control system we use here at The Flatiron School. Git began in 2005 and has quickly grown to be one of the most widely used version control systems in the industry. Because so many companies use Git, it's important that you get used to working with it. We also use GitHub, a popular remote repository hosting service built to integrate seamlessly with Git.\n",
    "\n",
    "Check out some of the resources below to learn more about Git.\n",
    "\n",
    "## Resources\n",
    "\n",
    "* [Getting Started - About Version Control](http://git-scm.com/book/en/Getting-Started-About-Version-Control)\n",
    "* [Git Basics - What is Git?](http://git-scm.com/video/what-is-git)\n",
    "\n",
    "## Summary\n",
    "\n",
    "In this lesson, you were introduced to version control and Git!"
   ]
  }
 ],
 "metadata": {
  "kernelspec": {
   "display_name": "Python 3",
   "language": "python",
   "name": "python3"
  },
  "language_info": {
   "codemirror_mode": {
    "name": "ipython",
    "version": 3
   },
   "file_extension": ".py",
   "mimetype": "text/x-python",
   "name": "python",
   "nbconvert_exporter": "python",
   "pygments_lexer": "ipython3",
   "version": "3.6.4"
  }
 },
 "nbformat": 4,
 "nbformat_minor": 2
}
