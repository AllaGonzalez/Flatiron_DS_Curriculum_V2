{
 "cells": [
  {
   "cell_type": "markdown",
   "metadata": {},
   "source": [
    "# The Bash Shell\n",
    "\n",
    "## Introduction \n",
    "When conducting data science (or programming in general), it’s helpful to get oriented with the command line, or bash shell. On mac computers, this is the terminal application. You've actually already seen some of this when working through how to download lessons from Learn and Github onto your local computer! The command line serves as a low-level interpreter through which you, the user, can send commands directly to the computer. As a computer user, you previously have probably sent commands to the computer through a graphical user interface (GUI) such as a web browser, text editor, photo editor, or any other of the myriad of computer programs now in existence. While the command line is initially daunting with its cryptic looking text, we will quickly see some of the many advantages it can have.\n",
    "\n",
    "## Objectives\n",
    "You will be able to:\n",
    "* Open up a bash shell\n",
    "* Check the current working directory with pwd\n",
    "* List files in the current directory using ls\n",
    "* Make directories using mkdir\n",
    "\n",
    "## Shells\n",
    "To start, open up your shell program. For mac, this is the terminal, and for Windows we recommend git bash. Note that the \"command prompt\" on Windows make look similar but is actually another language.\n",
    "\n",
    "## Mac\n",
    "<img src=\"images/mac_terminal.png\" width=600>\n",
    "\n",
    "## Windows\n",
    "<img src=\"images/git_bash.png\" width=600>\n",
    "\n",
    "## Workflow Hints\n",
    "\n",
    "When going back and forth between this lesson and your shell, it is useful to either use split screen or to know the shortcuts to switch between applications on your computer. \n",
    "\n",
    "Shortcuts to change programs/applications:\n",
    "* Mac: (cmd+tab)\n",
    "* Windows: (alt+tab)\n",
    "\n",
    "## pwd\n",
    "Remember, **pwd** which stands for **print working directory**. This is essential to determine where you are within the file structure.  \n",
    "\n",
    "## cd\n",
    "\n",
    "From there, remember that **cd** stands for **change directory**. You can navigate to the home directory with `cd` alone, or go up one level with `cd ..`. You can also use the `~` symbol to refer to your home directory. For example, `cd ~/Documents` will take you to the Documents folder in your home directory no matter where you are. \n",
    "\n",
    "## Tab completion\n",
    "Another useful feature when working on the command line is tab completion. This also works in many other programming environments such as Jupyter notebooks.\n",
    "\n",
    "\n",
    "## Additional Resources\n",
    "\n",
    "* [More Basic Shell Commands](http://www.ks.uiuc.edu/Training/Tutorials/Reference/unixprimer.html)\n",
    "* [Linux Bash Man Page](https://linux.die.net/man/1/bash)\n",
    "* [Detailed Bash](https://tiswww.case.edu/php/chet/bash/bashref.html)\n",
    "\n",
    "## Summary\n",
    "\n",
    "In this lesson, we reviewed some of the basic bash commands in order to navigate through files and folders on your computer. From here, we're ready to get started with git, an important version control system used by many programmers, developers and data scientists.\n"
   ]
  }
 ],
 "metadata": {
  "kernelspec": {
   "display_name": "Python 3",
   "language": "python",
   "name": "python3"
  },
  "language_info": {
   "codemirror_mode": {
    "name": "ipython",
    "version": 3
   },
   "file_extension": ".py",
   "mimetype": "text/x-python",
   "name": "python",
   "nbconvert_exporter": "python",
   "pygments_lexer": "ipython3",
   "version": "3.6.8"
  }
 },
 "nbformat": 4,
 "nbformat_minor": 2
}
