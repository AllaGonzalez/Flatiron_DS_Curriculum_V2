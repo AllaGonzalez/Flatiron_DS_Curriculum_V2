{
 "cells": [
  {
   "cell_type": "markdown",
   "metadata": {},
   "source": [
    "# Section Recap\n",
    "\n",
    "## Introduction \n",
    "\n",
    "In this lesson, we'll review what we learned in this section. \n",
    "\n",
    "## Objectives\n",
    "\n",
    "You will be able to:\n",
    "\n",
    "* Understand and explain why this section will help you become a data scientist. \n",
    "* Show mastery of the content covered in this section. \n",
    "\n",
    "\n",
    "## Key Takeaways\n",
    "\n",
    "We began this section by getting some deeper practice with Python's most popular data visualization library, **_Matplotlib_**! We got some practice with things like different kinds of plots, setting labels and axes, modifying line ticks, adding a legend, and even using color in our visualizations.  We also learned about how to place multiple plots together as a **_subplot_**, and how we can write clean, efficient code when building these by making use of the `enumerate` keyword for our loops. \n",
    "\n",
    "Next, we learned about the best and worst practices for data visualization. We learned about how to pack multiple kinds of information into a single plot, how to make effective use of color, and how to use **_Preattentive Attributes_** to make important parts of our visualization stand out. We also learned about common mistakes and errors, so that we can avoid them in the future. \n",
    "\n",
    "Finally, we got some practice with a second visualization library, **_Seaborn_**. We learned about the relationship between Seaborn and Matplotlib, and saw some examples of when we may want to use Seaborn instead of Matplotlib. "
   ]
  }
 ],
 "metadata": {
  "kernelspec": {
   "display_name": "Python 3",
   "language": "python",
   "name": "python3"
  },
  "language_info": {
   "codemirror_mode": {
    "name": "ipython",
    "version": 3
   },
   "file_extension": ".py",
   "mimetype": "text/x-python",
   "name": "python",
   "nbconvert_exporter": "python",
   "pygments_lexer": "ipython3",
   "version": "3.6.4"
  }
 },
 "nbformat": 4,
 "nbformat_minor": 2
}
