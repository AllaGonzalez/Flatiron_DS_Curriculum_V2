{
 "cells": [
  {
   "cell_type": "markdown",
   "metadata": {},
   "source": [
    "# Data Visualization - Introduction\n",
    "\n",
    "## Introduction\n",
    "\n",
    "In this lesson, we'll get an overview of everything we'll learn about data visualization in this section . \n",
    "\n",
    "## Objectives\n",
    "\n",
    "You will be able to:\n",
    "\n",
    "* Understand what you're going to learn in this section\n",
    "* Understand why this will help you in your career as a data scientist.\n",
    "\n",
    "## Data Visualization\n",
    "\n",
    "\n",
    "In this section, we're going to focus on **_Data Visualization_**. We'll get start off by getting some deliberate practice in with some of Matplotlib's more advanced features, such as subplots.\n",
    "\n",
    "Then, we'll dig into some of the best practices for data visualization, and learn how we can make visualizations that will look great in any professional environment. We'll also dig into some of the most common mistakes people make when creating visualizations, so that we can avoid them. \n",
    "\n",
    "Finally, we'll learn about a more advanced visualization library, **_Seaborn_**. We'll get some practice with Seaborn, and get a feel for when to use Seaborn, and when to use Matplotlib. "
   ]
  }
 ],
 "metadata": {
  "kernelspec": {
   "display_name": "Python 3",
   "language": "python",
   "name": "python3"
  },
  "language_info": {
   "codemirror_mode": {
    "name": "ipython",
    "version": 3
   },
   "file_extension": ".py",
   "mimetype": "text/x-python",
   "name": "python",
   "nbconvert_exporter": "python",
   "pygments_lexer": "ipython3",
   "version": "3.6.7"
  }
 },
 "nbformat": 4,
 "nbformat_minor": 2
}
